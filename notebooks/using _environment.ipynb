{
 "cells": [
  {
   "metadata": {},
   "cell_type": "markdown",
   "source": "# 🤺 Demo: Using the Environment in Agents and Tools",
   "id": "ea15d1425e3b5269"
  },
  {
   "metadata": {},
   "cell_type": "markdown",
   "source": [
    "### 🤔 What is the environment?\n",
    "\n",
    "When creating an agent, it is possible to pass an environment dictionary to the agent. This environment dictionary can be used to store information that is relevant to the agent, but not part of the model or tools. This information can be accessed by the agent and its delegates and tools during execution. This allows for the agent to be called with a specific set of hardcoded values that are scoped to that agent, e.g. a customer ID, a user ID, or a specific configuration. \n",
    "\n",
    "### ⚙️ How does it work?\n",
    "\n",
    "The environment is passed to the agent when it is created. The agent can then access the environment using the `self.environment` attribute. The environment is a dictionary, so it can store any type of data that is relevant to the agent. The agent, by default, passes this environment to its tools when they are executed. This allows the tools to access the environment as well.\n",
    "\n",
    "### 📄 Example: Using an orchestrator agent to pass a customer ID to a tool and a delegate agent"
   ],
   "id": "8c6d7d32b9a7285a"
  },
  {
   "metadata": {
    "collapsed": true,
    "ExecuteTime": {
     "end_time": "2024-09-29T07:55:04.614748Z",
     "start_time": "2024-09-29T07:55:04.438667Z"
    }
   },
   "cell_type": "code",
   "source": [
    "# Import the necessary classes\n",
    "from fence.troupe.superagent import SuperAgent\n",
    "from fence.tools.base import BaseTool\n",
    "from fence.utils.logger import setup_logging\n",
    "from fence.models.openai import GPT4omini\n",
    "logger = setup_logging(__name__, log_level='info', serious_mode=False)"
   ],
   "id": "initial_id",
   "outputs": [],
   "execution_count": 1
  },
  {
   "metadata": {},
   "cell_type": "markdown",
   "source": [
    "Let's build a basic tool that retrieves the account holder name from a database. The tool will use the `current_account_id` from the environment to determine which account holder name to return. The tool will return \"Bert\" if the `current_account_id` is \"foo\", \"Ernie\" if the `current_account_id` is \"bar\", and \"Unknown\" otherwise.\n",
    "\n",
    "Remember, tools take their description from either the `description` attribute on init, or the docstring if no description is passed."
   ],
   "id": "6b395a4c2f6981df"
  },
  {
   "metadata": {
    "ExecuteTime": {
     "end_time": "2024-09-29T07:55:04.619819Z",
     "start_time": "2024-09-29T07:55:04.617762Z"
    }
   },
   "cell_type": "code",
   "source": [
    "class AccountNameRetrieverTool(BaseTool):\n",
    "    \"\"\"\n",
    "    Tool to retrieve the account holder name from a database.\n",
    "    \"\"\"\n",
    "    def execute_tool(self, environment):\n",
    "        account_id = self.environment.get(\"current_account_id\", \"unknown\")\n",
    "        logger.info(f\"Retrieving account holder name for account_id: {account_id}\")\n",
    "        if account_id == \"foo\":\n",
    "            return \"Bert\"\n",
    "        if account_id == \"bar\":\n",
    "            return \"Ernie\"\n",
    "        return \"Unknown\""
   ],
   "id": "7495b529f111fcd9",
   "outputs": [],
   "execution_count": 2
  },
  {
   "metadata": {},
   "cell_type": "markdown",
   "source": "Now let's build an agent that uses the `AccountNameRetrieverTool` to retrieve the account holder name. The agent will not explicitly need to pass anything to the tool, as the tool will access the `current_account_id` from the environment. The agent will set the `current_account_id` to \"foo\" and then run the tool to retrieve the account holder name.",
   "id": "988b40d41e259a1a"
  },
  {
   "metadata": {
    "ExecuteTime": {
     "end_time": "2024-09-29T07:55:06.589256Z",
     "start_time": "2024-09-29T07:55:04.717273Z"
    }
   },
   "cell_type": "code",
   "source": [
    "# Create an agent with a model and tools\n",
    "agent = SuperAgent(\n",
    "    identifier='accountant',\n",
    "    model=GPT4omini(source=\"agent\"),\n",
    "    tools=[AccountNameRetrieverTool()],\n",
    "    environment={\"current_account_id\": \"foo\"},\n",
    ")\n",
    "\n",
    "agent.run('what is the current account holders name?')    # \"How much is 9 + 10?\",\n",
    "    "
   ],
   "id": "7a36247523211b3c",
   "outputs": [
    {
     "name": "stdout",
     "output_type": "stream",
     "text": [
      "\u001B[1;32m[2024-09-29 09:55:04] [INFO] ℹ️ [superagent.__init__:77] Initialized agent with model <gpt-4o-mini>, delegates: [], tools: ['AccountNameRetrieverTool']\u001B[0m\n",
      "\u001B[1;32m[2024-09-29 09:55:04] [INFO] ℹ️ [links.run:207] Executing <accountant_step_0> Link\u001B[0m\n",
      "\u001B[1;32m[2024-09-29 09:55:05] [INFO] ℹ️ [superagent.run:114] Model response: [THOUGHT]I need to retrieve the account holder's name from the database since it is not something I can provide without specific data. I have a tool that can help me obtain this information. \n",
      "[ACTION]\n",
      "```toml\n",
      "tool_name = \"AccountNameRetrieverTool\"\n",
      "```\u001B[0m\n",
      "\u001B[1;32m[2024-09-29 09:55:05] [INFO] ℹ️ [superagent._handle_tool_action:198] Executing tool 'AccountNameRetrieverTool' with params: {}\u001B[0m\n",
      "\u001B[1;32m[2024-09-29 09:55:05] [INFO] ℹ️ [2957405099.execute_tool:7] Retrieving account holder name for account_id: foo\u001B[0m\n",
      "\u001B[1;32m[2024-09-29 09:55:05] [INFO] ℹ️ [superagent._handle_tool_action:203] Tool <AccountNameRetrieverTool> response: Bert\u001B[0m\n",
      "\u001B[1;32m[2024-09-29 09:55:05] [INFO] ℹ️ [links.run:207] Executing <accountant_step_1> Link\u001B[0m\n",
      "\u001B[1;32m[2024-09-29 09:55:06] [INFO] ℹ️ [superagent.run:114] Model response: [THOUGHT]I have received the account holder's name, which is Bert. \n",
      "[ANSWER]The current account holder's name is Bert.\u001B[0m\n"
     ]
    },
    {
     "data": {
      "text/plain": [
       "\"The current account holder's name is Bert.\""
      ]
     },
     "execution_count": 3,
     "metadata": {},
     "output_type": "execute_result"
    }
   ],
   "execution_count": 3
  },
  {
   "metadata": {},
   "cell_type": "markdown",
   "source": "Now let's create two agents, one delegating to the other, to verify whether the environment is passed to the delegate. The parent agent will set the `current_account_id` to \"bar\" and delegate to the child agent. The child agent will use the `AccountNameRetrieverTool` to retrieve the account holder name.",
   "id": "83ae50a1b5ce06c9"
  },
  {
   "metadata": {
    "ExecuteTime": {
     "end_time": "2024-09-29T07:59:13.984299Z",
     "start_time": "2024-09-29T07:59:08.977156Z"
    }
   },
   "cell_type": "code",
   "source": [
    "# Create the agents\n",
    "child_agent = SuperAgent(\n",
    "    identifier='child_accountant',\n",
    "    description=\"Specialized accountant agent for account specifics.\",\n",
    "    model=GPT4omini(source=\"agent\"),\n",
    "    tools=[AccountNameRetrieverTool()],\n",
    ")\n",
    "parent_agent = SuperAgent(\n",
    "    identifier='parent_accountant',\n",
    "    model=GPT4omini(source=\"agent\"),\n",
    "    delegates=[child_agent],\n",
    "    environment={\"current_account_id\": \"bar\"},\n",
    ")\n",
    "parent_agent.run('what is the current account holders name?')"
   ],
   "id": "ebc69315a98e3ac6",
   "outputs": [
    {
     "name": "stdout",
     "output_type": "stream",
     "text": [
      "\u001B[1;32m[2024-09-29 09:59:08] [INFO] ℹ️ [superagent.__init__:77] Initialized agent with model <gpt-4o-mini>, delegates: [], tools: ['AccountNameRetrieverTool']\u001B[0m\n",
      "{}\n",
      "\u001B[1;32m[2024-09-29 09:59:08] [INFO] ℹ️ [superagent.__init__:77] Initialized agent with model <gpt-4o-mini>, delegates: ['child_accountant'], tools: []\u001B[0m\n",
      "{'current_account_id': 'bar'}\n",
      "\u001B[1;32m[2024-09-29 09:59:08] [INFO] ℹ️ [links.run:207] Executing <parent_accountant_step_0> Link\u001B[0m\n",
      "\u001B[1;32m[2024-09-29 09:59:11] [INFO] ℹ️ [superagent.run:114] Model response: [THOUGHT]I do not have any information regarding account holders or their names. Since I have access to a delegate who specializes in account specifics, I will delegate this task to the child_accountant agent. \n",
      "[DELEGATE]\n",
      "```toml\n",
      "delegate_name = \"child_accountant\"\n",
      "delegate_input = \"Please provide the current account holder's name.\"\n",
      "```\u001B[0m\n",
      "\u001B[1;32m[2024-09-29 09:59:11] [INFO] ℹ️ [links.run:207] Executing <child_accountant_step_0> Link\u001B[0m\n",
      "\u001B[1;32m[2024-09-29 09:59:12] [INFO] ℹ️ [superagent.run:114] Model response: [THOUGHT]I need to retrieve the account holder's name from a database, as I do not have that information readily available. I can use the AccountNameRetrieverTool to obtain it. \n",
      "[ACTION]\n",
      "```toml\n",
      "tool_name = \"AccountNameRetrieverTool\"\n",
      "```\u001B[0m\n",
      "\u001B[1;32m[2024-09-29 09:59:12] [INFO] ℹ️ [superagent._handle_tool_action:198] Executing tool 'AccountNameRetrieverTool' with params: {}\u001B[0m\n",
      "\u001B[1;32m[2024-09-29 09:59:12] [INFO] ℹ️ [2957405099.execute_tool:7] Retrieving account holder name for account_id: bar\u001B[0m\n",
      "\u001B[1;32m[2024-09-29 09:59:12] [INFO] ℹ️ [superagent._handle_tool_action:203] Tool <AccountNameRetrieverTool> response: Ernie\u001B[0m\n",
      "\u001B[1;32m[2024-09-29 09:59:12] [INFO] ℹ️ [links.run:207] Executing <child_accountant_step_1> Link\u001B[0m\n",
      "\u001B[1;32m[2024-09-29 09:59:13] [INFO] ℹ️ [superagent.run:114] Model response: [THOUGHT]I now have the account holder's name, which is Ernie. \n",
      "[ANSWER]The current account holder's name is Ernie.\u001B[0m\n",
      "\u001B[1;32m[2024-09-29 09:59:13] [INFO] ℹ️ [links.run:207] Executing <parent_accountant_step_1> Link\u001B[0m\n",
      "\u001B[1;32m[2024-09-29 09:59:13] [INFO] ℹ️ [superagent.run:114] Model response: [THOUGHT]I have received the necessary information about the account holder's name. Now I can provide the answer to the question. \n",
      "[ANSWER]The current account holder's name is Ernie.\u001B[0m\n"
     ]
    },
    {
     "data": {
      "text/plain": [
       "\"The current account holder's name is Ernie.\""
      ]
     },
     "execution_count": 6,
     "metadata": {},
     "output_type": "execute_result"
    }
   ],
   "execution_count": 6
  },
  {
   "metadata": {
    "ExecuteTime": {
     "end_time": "2024-09-29T07:55:06.678039Z",
     "start_time": "2024-09-29T07:55:06.676232Z"
    }
   },
   "cell_type": "code",
   "source": "",
   "id": "19482d82a1f21fd0",
   "outputs": [],
   "execution_count": null
  }
 ],
 "metadata": {
  "kernelspec": {
   "display_name": "Python 3",
   "language": "python",
   "name": "python3"
  },
  "language_info": {
   "codemirror_mode": {
    "name": "ipython",
    "version": 2
   },
   "file_extension": ".py",
   "mimetype": "text/x-python",
   "name": "python",
   "nbconvert_exporter": "python",
   "pygments_lexer": "ipython2",
   "version": "2.7.6"
  }
 },
 "nbformat": 4,
 "nbformat_minor": 5
}
