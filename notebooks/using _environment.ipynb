{
 "cells": [
  {
   "cell_type": "markdown",
   "id": "ea15d1425e3b5269",
   "metadata": {},
   "source": [
    "# 🤺 Demo: Using the Environment in Agents and Tools"
   ]
  },
  {
   "cell_type": "markdown",
   "id": "8c6d7d32b9a7285a",
   "metadata": {},
   "source": [
    "### 🤔 What is the environment?\n",
    "\n",
    "When creating an agent, it is possible to pass an environment dictionary to the agent. This environment dictionary can be used to store information that is relevant to the agent, but not part of the model or tools. This information can be accessed by the agent and its delegates and tools during execution. This allows for the agent to be called with a specific set of hardcoded values that are scoped to that agent, e.g. a customer ID, a user ID, or a specific configuration. \n",
    "\n",
    "### ⚙️ How does it work?\n",
    "\n",
    "The environment is passed to the agent when it is created. The agent can then access the environment using the `self.environment` attribute. The environment is a dictionary, so it can store any type of data that is relevant to the agent. The agent, by default, passes this environment to its tools when they are executed. This allows the tools to access the environment as well.\n",
    "\n",
    "### 📄 Example: Using an orchestrator agent to pass a customer ID to a tool and a delegate agent"
   ]
  },
  {
   "cell_type": "code",
   "execution_count": 1,
   "id": "initial_id",
   "metadata": {
    "ExecuteTime": {
     "end_time": "2025-01-30T09:42:05.558202Z",
     "start_time": "2025-01-30T09:42:05.554839Z"
    },
    "collapsed": true
   },
   "outputs": [],
   "source": [
    "# Import the necessary classes\n",
    "from fence.agents.agent import Agent\n",
    "from fence.tools.base import BaseTool\n",
    "from fence.utils.logger import setup_logging\n",
    "from fence.models.openai import GPT4omini\n",
    "logger = setup_logging(__name__, log_level='debug', are_you_serious=False)"
   ]
  },
  {
   "cell_type": "markdown",
   "id": "6b395a4c2f6981df",
   "metadata": {},
   "source": [
    "Let's build a basic tool that retrieves the account holder name from a database. The tool will use the `current_account_id` from the environment to determine which account holder name to return. The tool will return \"Bert\" if the `current_account_id` is \"foo\", \"Ernie\" if the `current_account_id` is \"bar\", and \"Unknown\" otherwise.\n",
    "\n",
    "Remember, tools take their description from either the `description` attribute on init, or the docstring if no description is passed."
   ]
  },
  {
   "cell_type": "code",
   "execution_count": 2,
   "id": "7495b529f111fcd9",
   "metadata": {
    "ExecuteTime": {
     "end_time": "2025-01-30T09:42:05.573037Z",
     "start_time": "2025-01-30T09:42:05.569984Z"
    }
   },
   "outputs": [],
   "source": [
    "class AccountNameRetrieverTool(BaseTool):\n",
    "    \"\"\"\n",
    "    Tool to retrieve the account holder name from a database.\n",
    "    \"\"\"\n",
    "    def execute_tool(self, environment):\n",
    "        account_id = self.environment.get(\"current_account_id\", \"unknown\")\n",
    "        logger.info(f\"Retrieving account holder name for account_id: {account_id}\")\n",
    "        if account_id == \"foo\":\n",
    "            return \"Bert\"\n",
    "        if account_id == \"bar\":\n",
    "            return \"Ernie\"\n",
    "        return \"Unknown\""
   ]
  },
  {
   "cell_type": "markdown",
   "id": "988b40d41e259a1a",
   "metadata": {},
   "source": [
    "Now let's build an agent that uses the `AccountNameRetrieverTool` to retrieve the account holder name. The agent will not explicitly need to pass anything to the tool, as the tool will access the `current_account_id` from the environment. The agent will set the `current_account_id` to \"foo\" and then run the tool to retrieve the account holder name."
   ]
  },
  {
   "cell_type": "code",
   "execution_count": 3,
   "id": "7a36247523211b3c",
   "metadata": {
    "ExecuteTime": {
     "end_time": "2025-01-30T09:42:10.054669Z",
     "start_time": "2025-01-30T09:42:05.579304Z"
    }
   },
   "outputs": [
    {
     "name": "stdout",
     "output_type": "stream",
     "text": [
      "\u001b[1;32m[2025-03-28 22:05:40] [INFO] ℹ️ [agent.__init__:96] Initialized agent with model <GPT 4o mini>, delegates: [], tools: ['AccountNameRetrieverTool']\u001b[0m\n",
      "\u001b[1;34m[2025-03-28 22:05:40] [DEBUG] 🔵 [gpt._invoke:141] Request body: {'temperature': 1, 'max_tokens': None, 'messages': [{'role': 'user', 'content': 'what is the current account holders name?'}, {'content': 'You are a general purpose agent, capable of delegating tasks to other agents or tools. You will be given input, which starts with a question, and then potentially a series of [OBSERVATION]s, [DELEGATE]s and [ACTION]s. You will need to process this input. Always begin with a [THOUGHT] to help reason what the next best step is.\\n Then, continue with one of these options: [ACTION], [DELEGATE] or [ANSWER].\\n\\nChoose [ACTION] when you need more information, for which you have a tool available. You can call this tool by replying as follows:\\n\\n[THOUGHT] I need more information to answer the question. I have a tool that can provide me with a piece of the puzzle.\\n[ACTION]\\n```toml\\ntool_name = \"\"\"tool_name\"\"\"\\n[tool_params]\\n*parameter* = *value*\\n```\\n\\nThis will call the tool `tool_name` with the parameter `value`. If the tool requires no parameters, you can omit the `[tool_params]` section. You will then be called again with the result of this tool.\\n\\nChoose [DELEGATE] when you believe this task would best be handled by another delegate agent. The list of available delegates, and their capabilities, will follow. You can delegate to an agent by replying as follows:\\n\\n[THOUGHT] I need more information to answer the question. I have a delegate that can provide me with a piece of the puzzle.\\n[DELEGATE]\\n```toml\\ndelegate_name = \"\"\"delegate_name\"\"\"\\ndelegate_input = \"\"\"a prompt for the delegate, that provides context and instructions\"\"\"\\n```\\n\\nThis will delegate to the agent `delegate_name` with the input `some input`. You will then be called again with the output of this delegate.\\n\\nFor both [ACTION] and [DELEGATE], make sure to wrap all string values in triple quotes (\"\"\"). This will ensure that the TOML parser can correctly interpret the input.\\n\\nIf, on the basis of all of the previous input you have received, your next [THOUGHT] is to answer the question, you can output an [ANSWER] like this:\\n\\n[THOUGHT]I have all the information I need to answer the question.\\n[ANSWER]The answer to the question is 42.\\n\\nIf you are unable to answer the question, and don\\'t have any relevant tools, output an [ANSWER] like this:\\n\\n[THOUGHT] I do not have enough information to answer the question, and there are no more tools to use or agents to delegate to.\\n[ANSWER] I am unable to answer that question.\\n\\nIf you need more information, you can ask for it by replying with a [THOUGHT] and then an [ANSWER] with a question, like this:\\n\\n[THOUGHT] The user has not asked me for anything yet. I will respond conversationally.\\n[ANSWER] What can I help you with today?\\n\\nThese are the tools you have at your disposal:\\n\\n[[tools]]\\ntool_name = \"AccountNameRetrieverTool\"\\ntool_description = \"\\nTool to retrieve the account holder name from a database.\\n\"\\n# No arguments\\n\\nThese are the delegates you have at your disposal:\\n\\nNone available\\n\\nPlan ahead and think carefully about when to use your tools or delegates. Take your time to reason through the input you receive.\\n\\nImportantly, your first instinct should ALWAYS be to use your tools or delegates, particularly for questions that involve math or logic. Do not trust your own reasoning for these questions.\\n\\nFinally, always remember to stick to the original task when delivering the final answer.\\n', 'role': 'system'}], 'model': 'gpt-4o-mini'}\u001b[0m\n",
      "\u001b[1;32m[2025-03-28 22:05:41] [INFO] ℹ️ [agent.run:222] Model response: [THOUGHT] I need to retrieve the current account holder's name, and I have a tool that can help me with that.\n",
      "[ACTION]\n",
      "```toml\n",
      "tool_name = \"\"\"AccountNameRetrieverTool\"\"\"\n",
      "```\u001b[0m\n",
      "\u001b[1maccountant\u001b[0m 💭 \u001b[94m[thought]\u001b[0m I need to retrieve the current account holder's name, and I have a tool that can help me with that.\n",
      "\u001b[1maccountant\u001b[0m 🛠️ \u001b[92m[action]\u001b[0m ```toml\n",
      "tool_name = \"\"\"AccountNameRetrieverTool\"\"\"\n",
      "```\n",
      "\u001b[1;34m[2025-03-28 22:05:41] [DEBUG] 🔵 [agent._handle_tool_action:314] Processing tool action: ```toml\n",
      "tool_name = \"\"\"AccountNameRetrieverTool\"\"\"\n",
      "```\u001b[0m\n",
      "\u001b[1;32m[2025-03-28 22:05:41] [INFO] ℹ️ [agent._handle_tool_action:320] Executing tool 'AccountNameRetrieverTool' with params: {}\u001b[0m\n",
      "\u001b[1;32m[2025-03-28 22:05:41] [INFO] ℹ️ [3293960023.execute_tool:7] Retrieving account holder name for account_id: foo\u001b[0m\n",
      "\u001b[1;32m[2025-03-28 22:05:41] [INFO] ℹ️ [agent._handle_tool_action:325] Tool <AccountNameRetrieverTool> response: Bert\u001b[0m\n",
      "\u001b[1maccountant\u001b[0m 🔍 \u001b[95m[observation]\u001b[0m Bert\n",
      "\u001b[1;34m[2025-03-28 22:05:41] [DEBUG] 🔵 [gpt._invoke:141] Request body: {'temperature': 1, 'max_tokens': None, 'messages': [{'role': 'user', 'content': 'what is the current account holders name?'}, {'role': 'assistant', 'content': '[THOUGHT] I need to retrieve the current account holder\\'s name, and I have a tool that can help me with that.\\n[ACTION]\\n```toml\\ntool_name = \"\"\"AccountNameRetrieverTool\"\"\"\\n```'}, {'role': 'user', 'content': '[OBSERVATION] Call to tool completed. Result: Bert'}, {'content': 'You are a general purpose agent, capable of delegating tasks to other agents or tools. You will be given input, which starts with a question, and then potentially a series of [OBSERVATION]s, [DELEGATE]s and [ACTION]s. You will need to process this input. Always begin with a [THOUGHT] to help reason what the next best step is.\\n Then, continue with one of these options: [ACTION], [DELEGATE] or [ANSWER].\\n\\nChoose [ACTION] when you need more information, for which you have a tool available. You can call this tool by replying as follows:\\n\\n[THOUGHT] I need more information to answer the question. I have a tool that can provide me with a piece of the puzzle.\\n[ACTION]\\n```toml\\ntool_name = \"\"\"tool_name\"\"\"\\n[tool_params]\\n*parameter* = *value*\\n```\\n\\nThis will call the tool `tool_name` with the parameter `value`. If the tool requires no parameters, you can omit the `[tool_params]` section. You will then be called again with the result of this tool.\\n\\nChoose [DELEGATE] when you believe this task would best be handled by another delegate agent. The list of available delegates, and their capabilities, will follow. You can delegate to an agent by replying as follows:\\n\\n[THOUGHT] I need more information to answer the question. I have a delegate that can provide me with a piece of the puzzle.\\n[DELEGATE]\\n```toml\\ndelegate_name = \"\"\"delegate_name\"\"\"\\ndelegate_input = \"\"\"a prompt for the delegate, that provides context and instructions\"\"\"\\n```\\n\\nThis will delegate to the agent `delegate_name` with the input `some input`. You will then be called again with the output of this delegate.\\n\\nFor both [ACTION] and [DELEGATE], make sure to wrap all string values in triple quotes (\"\"\"). This will ensure that the TOML parser can correctly interpret the input.\\n\\nIf, on the basis of all of the previous input you have received, your next [THOUGHT] is to answer the question, you can output an [ANSWER] like this:\\n\\n[THOUGHT]I have all the information I need to answer the question.\\n[ANSWER]The answer to the question is 42.\\n\\nIf you are unable to answer the question, and don\\'t have any relevant tools, output an [ANSWER] like this:\\n\\n[THOUGHT] I do not have enough information to answer the question, and there are no more tools to use or agents to delegate to.\\n[ANSWER] I am unable to answer that question.\\n\\nIf you need more information, you can ask for it by replying with a [THOUGHT] and then an [ANSWER] with a question, like this:\\n\\n[THOUGHT] The user has not asked me for anything yet. I will respond conversationally.\\n[ANSWER] What can I help you with today?\\n\\nThese are the tools you have at your disposal:\\n\\n[[tools]]\\ntool_name = \"AccountNameRetrieverTool\"\\ntool_description = \"\\nTool to retrieve the account holder name from a database.\\n\"\\n# No arguments\\n\\nThese are the delegates you have at your disposal:\\n\\nNone available\\n\\nPlan ahead and think carefully about when to use your tools or delegates. Take your time to reason through the input you receive.\\n\\nImportantly, your first instinct should ALWAYS be to use your tools or delegates, particularly for questions that involve math or logic. Do not trust your own reasoning for these questions.\\n\\nFinally, always remember to stick to the original task when delivering the final answer.\\n', 'role': 'system'}], 'model': 'gpt-4o-mini'}\u001b[0m\n",
      "\u001b[1;32m[2025-03-28 22:05:42] [INFO] ℹ️ [agent.run:222] Model response: [THOUGHT] I have retrieved the current account holder's name successfully. Now I can provide the answer.  \n",
      "[ANSWER] The current account holder's name is Bert.\u001b[0m\n",
      "\u001b[1maccountant\u001b[0m 💭 \u001b[94m[thought]\u001b[0m I have retrieved the current account holder's name successfully. Now I can provide the answer.\n",
      "\u001b[1maccountant\u001b[0m 🎯 \u001b[91m[answer]\u001b[0m The current account holder's name is Bert.\n"
     ]
    },
    {
     "data": {
      "text/plain": [
       "\"The current account holder's name is Bert.\""
      ]
     },
     "execution_count": 3,
     "metadata": {},
     "output_type": "execute_result"
    }
   ],
   "source": [
    "# Create an agent with a model and tools\n",
    "agent = Agent(\n",
    "    identifier='accountant',\n",
    "    model=GPT4omini(source=\"agent\"),\n",
    "    tools=[AccountNameRetrieverTool()],\n",
    "    environment={\"current_account_id\": \"foo\"},\n",
    ")\n",
    "\n",
    "agent.run('what is the current account holders name?')    # \"How much is 9 + 10?\",\n",
    "    "
   ]
  },
  {
   "cell_type": "markdown",
   "id": "83ae50a1b5ce06c9",
   "metadata": {},
   "source": [
    "Now let's create two agents, one delegating to the other, to verify whether the environment is passed to the delegate. The parent agent will set the `current_account_id` to \"bar\" and delegate to the child agent. The child agent will use the `AccountNameRetrieverTool` to retrieve the account holder name."
   ]
  },
  {
   "cell_type": "code",
   "execution_count": 4,
   "id": "ebc69315a98e3ac6",
   "metadata": {
    "ExecuteTime": {
     "end_time": "2025-01-30T09:42:16.165913Z",
     "start_time": "2025-01-30T09:42:10.066407Z"
    }
   },
   "outputs": [
    {
     "name": "stdout",
     "output_type": "stream",
     "text": [
      "\u001b[1;32m[2025-03-28 22:05:42] [INFO] ℹ️ [agent.__init__:96] Initialized agent with model <GPT 4o mini>, delegates: [], tools: ['AccountNameRetrieverTool']\u001b[0m\n",
      "\u001b[1;32m[2025-03-28 22:05:42] [INFO] ℹ️ [agent.__init__:96] Initialized agent with model <GPT 4o mini>, delegates: ['child_accountant'], tools: []\u001b[0m\n",
      "\u001b[1;34m[2025-03-28 22:05:42] [DEBUG] 🔵 [gpt._invoke:141] Request body: {'temperature': 1, 'max_tokens': None, 'messages': [{'role': 'user', 'content': 'what is the current account holders name?'}, {'content': 'You are a general purpose agent, capable of delegating tasks to other agents or tools. You will be given input, which starts with a question, and then potentially a series of [OBSERVATION]s, [DELEGATE]s and [ACTION]s. You will need to process this input. Always begin with a [THOUGHT] to help reason what the next best step is.\\n Then, continue with one of these options: [ACTION], [DELEGATE] or [ANSWER].\\n\\nChoose [ACTION] when you need more information, for which you have a tool available. You can call this tool by replying as follows:\\n\\n[THOUGHT] I need more information to answer the question. I have a tool that can provide me with a piece of the puzzle.\\n[ACTION]\\n```toml\\ntool_name = \"\"\"tool_name\"\"\"\\n[tool_params]\\n*parameter* = *value*\\n```\\n\\nThis will call the tool `tool_name` with the parameter `value`. If the tool requires no parameters, you can omit the `[tool_params]` section. You will then be called again with the result of this tool.\\n\\nChoose [DELEGATE] when you believe this task would best be handled by another delegate agent. The list of available delegates, and their capabilities, will follow. You can delegate to an agent by replying as follows:\\n\\n[THOUGHT] I need more information to answer the question. I have a delegate that can provide me with a piece of the puzzle.\\n[DELEGATE]\\n```toml\\ndelegate_name = \"\"\"delegate_name\"\"\"\\ndelegate_input = \"\"\"a prompt for the delegate, that provides context and instructions\"\"\"\\n```\\n\\nThis will delegate to the agent `delegate_name` with the input `some input`. You will then be called again with the output of this delegate.\\n\\nFor both [ACTION] and [DELEGATE], make sure to wrap all string values in triple quotes (\"\"\"). This will ensure that the TOML parser can correctly interpret the input.\\n\\nIf, on the basis of all of the previous input you have received, your next [THOUGHT] is to answer the question, you can output an [ANSWER] like this:\\n\\n[THOUGHT]I have all the information I need to answer the question.\\n[ANSWER]The answer to the question is 42.\\n\\nIf you are unable to answer the question, and don\\'t have any relevant tools, output an [ANSWER] like this:\\n\\n[THOUGHT] I do not have enough information to answer the question, and there are no more tools to use or agents to delegate to.\\n[ANSWER] I am unable to answer that question.\\n\\nIf you need more information, you can ask for it by replying with a [THOUGHT] and then an [ANSWER] with a question, like this:\\n\\n[THOUGHT] The user has not asked me for anything yet. I will respond conversationally.\\n[ANSWER] What can I help you with today?\\n\\nThese are the tools you have at your disposal:\\n\\nNone available\\n\\nThese are the delegates you have at your disposal:\\n\\n[[agents]]\\nagent_name = \"\"\"child_accountant\"\"\"\\nagent_description = \"\"\"Specialized accountant agent for account specifics.\"\"\"\\n\\n\\nPlan ahead and think carefully about when to use your tools or delegates. Take your time to reason through the input you receive.\\n\\nImportantly, your first instinct should ALWAYS be to use your tools or delegates, particularly for questions that involve math or logic. Do not trust your own reasoning for these questions.\\n\\nFinally, always remember to stick to the original task when delivering the final answer.\\n', 'role': 'system'}], 'model': 'gpt-4o-mini'}\u001b[0m\n",
      "\u001b[1;32m[2025-03-28 22:05:44] [INFO] ℹ️ [agent.run:222] Model response: [THOUGHT] I cannot retrieve personal account information without proper tools or resources. I will delegate this task to the specialized accountant agent for account specifics, as they may have access to the needed information or be able to assist further. \n",
      "[DELEGATE]\n",
      "```toml\n",
      "delegate_name = \"\"\"child_accountant\"\"\"\n",
      "delegate_input = \"\"\"Please provide the name of the current account holder for the requested account information.\"\"\" \n",
      "```\u001b[0m\n",
      "\u001b[1mparent_accountant\u001b[0m 💭 \u001b[94m[thought]\u001b[0m I cannot retrieve personal account information without proper tools or resources. I will delegate this task to the specialized accountant agent for account specifics, as they may have access to the needed information or be able to assist further.\n",
      "\u001b[1mparent_accountant\u001b[0m 🤝 \u001b[93m[delegate]\u001b[0m ```toml\n",
      "delegate_name = \"\"\"child_accountant\"\"\"\n",
      "delegate_input = \"\"\"Please provide the name of the current account holder for the requested account information.\"\"\" \n",
      "```\n",
      "\u001b[1;34m[2025-03-28 22:05:44] [DEBUG] 🔵 [agent._handle_delegate_action:289] Processing delegate: ```toml\n",
      "delegate_name = \"\"\"child_accountant\"\"\"\n",
      "delegate_input = \"\"\"Please provide the name of the current account holder for the requested account information.\"\"\" \n",
      "```\u001b[0m\n",
      "\u001b[1;34m[2025-03-28 22:05:44] [DEBUG] 🔵 [agent._handle_delegate_action:295] Executing delegate 'child_accountant' with input: Please provide the name of the current account holder for the requested account information.\u001b[0m\n",
      "\u001b[1;34m[2025-03-28 22:05:44] [DEBUG] 🔵 [gpt._invoke:141] Request body: {'temperature': 1, 'max_tokens': None, 'messages': [{'role': 'user', 'content': 'Please provide the name of the current account holder for the requested account information.'}, {'content': 'You are a general purpose agent, capable of delegating tasks to other agents or tools. You will be given input, which starts with a question, and then potentially a series of [OBSERVATION]s, [DELEGATE]s and [ACTION]s. You will need to process this input. Always begin with a [THOUGHT] to help reason what the next best step is.\\n Then, continue with one of these options: [ACTION], [DELEGATE] or [ANSWER].\\n\\nChoose [ACTION] when you need more information, for which you have a tool available. You can call this tool by replying as follows:\\n\\n[THOUGHT] I need more information to answer the question. I have a tool that can provide me with a piece of the puzzle.\\n[ACTION]\\n```toml\\ntool_name = \"\"\"tool_name\"\"\"\\n[tool_params]\\n*parameter* = *value*\\n```\\n\\nThis will call the tool `tool_name` with the parameter `value`. If the tool requires no parameters, you can omit the `[tool_params]` section. You will then be called again with the result of this tool.\\n\\nChoose [DELEGATE] when you believe this task would best be handled by another delegate agent. The list of available delegates, and their capabilities, will follow. You can delegate to an agent by replying as follows:\\n\\n[THOUGHT] I need more information to answer the question. I have a delegate that can provide me with a piece of the puzzle.\\n[DELEGATE]\\n```toml\\ndelegate_name = \"\"\"delegate_name\"\"\"\\ndelegate_input = \"\"\"a prompt for the delegate, that provides context and instructions\"\"\"\\n```\\n\\nThis will delegate to the agent `delegate_name` with the input `some input`. You will then be called again with the output of this delegate.\\n\\nFor both [ACTION] and [DELEGATE], make sure to wrap all string values in triple quotes (\"\"\"). This will ensure that the TOML parser can correctly interpret the input.\\n\\nIf, on the basis of all of the previous input you have received, your next [THOUGHT] is to answer the question, you can output an [ANSWER] like this:\\n\\n[THOUGHT]I have all the information I need to answer the question.\\n[ANSWER]The answer to the question is 42.\\n\\nIf you are unable to answer the question, and don\\'t have any relevant tools, output an [ANSWER] like this:\\n\\n[THOUGHT] I do not have enough information to answer the question, and there are no more tools to use or agents to delegate to.\\n[ANSWER] I am unable to answer that question.\\n\\nIf you need more information, you can ask for it by replying with a [THOUGHT] and then an [ANSWER] with a question, like this:\\n\\n[THOUGHT] The user has not asked me for anything yet. I will respond conversationally.\\n[ANSWER] What can I help you with today?\\n\\nThese are the tools you have at your disposal:\\n\\n[[tools]]\\ntool_name = \"AccountNameRetrieverTool\"\\ntool_description = \"\\nTool to retrieve the account holder name from a database.\\n\"\\n# No arguments\\n\\nThese are the delegates you have at your disposal:\\n\\nNone available\\n\\nPlan ahead and think carefully about when to use your tools or delegates. Take your time to reason through the input you receive.\\n\\nImportantly, your first instinct should ALWAYS be to use your tools or delegates, particularly for questions that involve math or logic. Do not trust your own reasoning for these questions.\\n\\nFinally, always remember to stick to the original task when delivering the final answer.\\n', 'role': 'system'}], 'model': 'gpt-4o-mini'}\u001b[0m\n",
      "\u001b[1;32m[2025-03-28 22:05:44] [INFO] ℹ️ [agent.run:222] Model response: [THOUGHT] I need to retrieve the current account holder name for the requested account information. I have a tool that can help me with this. \n",
      "[ACTION]\n",
      "```toml\n",
      "tool_name = \"\"\"AccountNameRetrieverTool\"\"\"\n",
      "```\u001b[0m\n",
      "\u001b[1mchild_accountant\u001b[0m 💭 \u001b[94m[thought]\u001b[0m I need to retrieve the current account holder name for the requested account information. I have a tool that can help me with this.\n",
      "\u001b[1mchild_accountant\u001b[0m 🛠️ \u001b[92m[action]\u001b[0m ```toml\n",
      "tool_name = \"\"\"AccountNameRetrieverTool\"\"\"\n",
      "```\n",
      "\u001b[1;34m[2025-03-28 22:05:44] [DEBUG] 🔵 [agent._handle_tool_action:314] Processing tool action: ```toml\n",
      "tool_name = \"\"\"AccountNameRetrieverTool\"\"\"\n",
      "```\u001b[0m\n",
      "\u001b[1;32m[2025-03-28 22:05:44] [INFO] ℹ️ [agent._handle_tool_action:320] Executing tool 'AccountNameRetrieverTool' with params: {}\u001b[0m\n",
      "\u001b[1;32m[2025-03-28 22:05:44] [INFO] ℹ️ [3293960023.execute_tool:7] Retrieving account holder name for account_id: bar\u001b[0m\n",
      "\u001b[1;32m[2025-03-28 22:05:44] [INFO] ℹ️ [agent._handle_tool_action:325] Tool <AccountNameRetrieverTool> response: Ernie\u001b[0m\n",
      "\u001b[1mchild_accountant\u001b[0m 🔍 \u001b[95m[observation]\u001b[0m Ernie\n",
      "\u001b[1;34m[2025-03-28 22:05:44] [DEBUG] 🔵 [gpt._invoke:141] Request body: {'temperature': 1, 'max_tokens': None, 'messages': [{'role': 'user', 'content': 'Please provide the name of the current account holder for the requested account information.'}, {'role': 'assistant', 'content': '[THOUGHT] I need to retrieve the current account holder name for the requested account information. I have a tool that can help me with this. \\n[ACTION]\\n```toml\\ntool_name = \"\"\"AccountNameRetrieverTool\"\"\"\\n```'}, {'role': 'user', 'content': '[OBSERVATION] Call to tool completed. Result: Ernie'}, {'content': 'You are a general purpose agent, capable of delegating tasks to other agents or tools. You will be given input, which starts with a question, and then potentially a series of [OBSERVATION]s, [DELEGATE]s and [ACTION]s. You will need to process this input. Always begin with a [THOUGHT] to help reason what the next best step is.\\n Then, continue with one of these options: [ACTION], [DELEGATE] or [ANSWER].\\n\\nChoose [ACTION] when you need more information, for which you have a tool available. You can call this tool by replying as follows:\\n\\n[THOUGHT] I need more information to answer the question. I have a tool that can provide me with a piece of the puzzle.\\n[ACTION]\\n```toml\\ntool_name = \"\"\"tool_name\"\"\"\\n[tool_params]\\n*parameter* = *value*\\n```\\n\\nThis will call the tool `tool_name` with the parameter `value`. If the tool requires no parameters, you can omit the `[tool_params]` section. You will then be called again with the result of this tool.\\n\\nChoose [DELEGATE] when you believe this task would best be handled by another delegate agent. The list of available delegates, and their capabilities, will follow. You can delegate to an agent by replying as follows:\\n\\n[THOUGHT] I need more information to answer the question. I have a delegate that can provide me with a piece of the puzzle.\\n[DELEGATE]\\n```toml\\ndelegate_name = \"\"\"delegate_name\"\"\"\\ndelegate_input = \"\"\"a prompt for the delegate, that provides context and instructions\"\"\"\\n```\\n\\nThis will delegate to the agent `delegate_name` with the input `some input`. You will then be called again with the output of this delegate.\\n\\nFor both [ACTION] and [DELEGATE], make sure to wrap all string values in triple quotes (\"\"\"). This will ensure that the TOML parser can correctly interpret the input.\\n\\nIf, on the basis of all of the previous input you have received, your next [THOUGHT] is to answer the question, you can output an [ANSWER] like this:\\n\\n[THOUGHT]I have all the information I need to answer the question.\\n[ANSWER]The answer to the question is 42.\\n\\nIf you are unable to answer the question, and don\\'t have any relevant tools, output an [ANSWER] like this:\\n\\n[THOUGHT] I do not have enough information to answer the question, and there are no more tools to use or agents to delegate to.\\n[ANSWER] I am unable to answer that question.\\n\\nIf you need more information, you can ask for it by replying with a [THOUGHT] and then an [ANSWER] with a question, like this:\\n\\n[THOUGHT] The user has not asked me for anything yet. I will respond conversationally.\\n[ANSWER] What can I help you with today?\\n\\nThese are the tools you have at your disposal:\\n\\n[[tools]]\\ntool_name = \"AccountNameRetrieverTool\"\\ntool_description = \"\\nTool to retrieve the account holder name from a database.\\n\"\\n# No arguments\\n\\nThese are the delegates you have at your disposal:\\n\\nNone available\\n\\nPlan ahead and think carefully about when to use your tools or delegates. Take your time to reason through the input you receive.\\n\\nImportantly, your first instinct should ALWAYS be to use your tools or delegates, particularly for questions that involve math or logic. Do not trust your own reasoning for these questions.\\n\\nFinally, always remember to stick to the original task when delivering the final answer.\\n', 'role': 'system'}], 'model': 'gpt-4o-mini'}\u001b[0m\n",
      "\u001b[1;32m[2025-03-28 22:05:46] [INFO] ℹ️ [agent.run:222] Model response: [THOUGHT] I have successfully retrieved the current account holder name, which is \"Ernie.\" Now I can provide the final answer to the inquiry regarding the account information. \n",
      "[ANSWER] The current account holder for the requested account information is Ernie.\u001b[0m\n",
      "\u001b[1mchild_accountant\u001b[0m 💭 \u001b[94m[thought]\u001b[0m I have successfully retrieved the current account holder name, which is \"Ernie.\" Now I can provide the final answer to the inquiry regarding the account information.\n",
      "\u001b[1mchild_accountant\u001b[0m 🎯 \u001b[91m[answer]\u001b[0m The current account holder for the requested account information is Ernie.\n",
      "\u001b[1mparent_accountant\u001b[0m 🔍 \u001b[95m[observation]\u001b[0m The current account holder for the requested account information is Ernie.\n",
      "\u001b[1;34m[2025-03-28 22:05:46] [DEBUG] 🔵 [gpt._invoke:141] Request body: {'temperature': 1, 'max_tokens': None, 'messages': [{'role': 'user', 'content': 'what is the current account holders name?'}, {'role': 'assistant', 'content': '[THOUGHT] I cannot retrieve personal account information without proper tools or resources. I will delegate this task to the specialized accountant agent for account specifics, as they may have access to the needed information or be able to assist further. \\n[DELEGATE]\\n```toml\\ndelegate_name = \"\"\"child_accountant\"\"\"\\ndelegate_input = \"\"\"Please provide the name of the current account holder for the requested account information.\"\"\" \\n```'}, {'role': 'user', 'content': '[OBSERVATION] Call to delegate completed. Result: The current account holder for the requested account information is Ernie.'}, {'content': 'You are a general purpose agent, capable of delegating tasks to other agents or tools. You will be given input, which starts with a question, and then potentially a series of [OBSERVATION]s, [DELEGATE]s and [ACTION]s. You will need to process this input. Always begin with a [THOUGHT] to help reason what the next best step is.\\n Then, continue with one of these options: [ACTION], [DELEGATE] or [ANSWER].\\n\\nChoose [ACTION] when you need more information, for which you have a tool available. You can call this tool by replying as follows:\\n\\n[THOUGHT] I need more information to answer the question. I have a tool that can provide me with a piece of the puzzle.\\n[ACTION]\\n```toml\\ntool_name = \"\"\"tool_name\"\"\"\\n[tool_params]\\n*parameter* = *value*\\n```\\n\\nThis will call the tool `tool_name` with the parameter `value`. If the tool requires no parameters, you can omit the `[tool_params]` section. You will then be called again with the result of this tool.\\n\\nChoose [DELEGATE] when you believe this task would best be handled by another delegate agent. The list of available delegates, and their capabilities, will follow. You can delegate to an agent by replying as follows:\\n\\n[THOUGHT] I need more information to answer the question. I have a delegate that can provide me with a piece of the puzzle.\\n[DELEGATE]\\n```toml\\ndelegate_name = \"\"\"delegate_name\"\"\"\\ndelegate_input = \"\"\"a prompt for the delegate, that provides context and instructions\"\"\"\\n```\\n\\nThis will delegate to the agent `delegate_name` with the input `some input`. You will then be called again with the output of this delegate.\\n\\nFor both [ACTION] and [DELEGATE], make sure to wrap all string values in triple quotes (\"\"\"). This will ensure that the TOML parser can correctly interpret the input.\\n\\nIf, on the basis of all of the previous input you have received, your next [THOUGHT] is to answer the question, you can output an [ANSWER] like this:\\n\\n[THOUGHT]I have all the information I need to answer the question.\\n[ANSWER]The answer to the question is 42.\\n\\nIf you are unable to answer the question, and don\\'t have any relevant tools, output an [ANSWER] like this:\\n\\n[THOUGHT] I do not have enough information to answer the question, and there are no more tools to use or agents to delegate to.\\n[ANSWER] I am unable to answer that question.\\n\\nIf you need more information, you can ask for it by replying with a [THOUGHT] and then an [ANSWER] with a question, like this:\\n\\n[THOUGHT] The user has not asked me for anything yet. I will respond conversationally.\\n[ANSWER] What can I help you with today?\\n\\nThese are the tools you have at your disposal:\\n\\nNone available\\n\\nThese are the delegates you have at your disposal:\\n\\n[[agents]]\\nagent_name = \"\"\"child_accountant\"\"\"\\nagent_description = \"\"\"Specialized accountant agent for account specifics.\"\"\"\\n\\n\\nPlan ahead and think carefully about when to use your tools or delegates. Take your time to reason through the input you receive.\\n\\nImportantly, your first instinct should ALWAYS be to use your tools or delegates, particularly for questions that involve math or logic. Do not trust your own reasoning for these questions.\\n\\nFinally, always remember to stick to the original task when delivering the final answer.\\n', 'role': 'system'}], 'model': 'gpt-4o-mini'}\u001b[0m\n",
      "\u001b[1;32m[2025-03-28 22:05:48] [INFO] ℹ️ [agent.run:222] Model response: [THOUGHT] I have received the result of the delegation, confirming that the current account holder's name is Ernie. I can now provide the answer to the user's original question.  \n",
      "[ANSWER] The current account holder's name is Ernie.\u001b[0m\n",
      "\u001b[1mparent_accountant\u001b[0m 💭 \u001b[94m[thought]\u001b[0m I have received the result of the delegation, confirming that the current account holder's name is Ernie. I can now provide the answer to the user's original question.\n",
      "\u001b[1mparent_accountant\u001b[0m 🎯 \u001b[91m[answer]\u001b[0m The current account holder's name is Ernie.\n"
     ]
    },
    {
     "data": {
      "text/plain": [
       "\"The current account holder's name is Ernie.\""
      ]
     },
     "execution_count": 4,
     "metadata": {},
     "output_type": "execute_result"
    }
   ],
   "source": [
    "# Create the agents\n",
    "child_agent = Agent(\n",
    "    identifier='child_accountant',\n",
    "    description=\"Specialized accountant agent for account specifics.\",\n",
    "    model=GPT4omini(source=\"agent\"),\n",
    "    tools=[AccountNameRetrieverTool()],\n",
    ")\n",
    "parent_agent = Agent(\n",
    "    identifier='parent_accountant',\n",
    "    model=GPT4omini(source=\"agent\"),\n",
    "    delegates=[child_agent],\n",
    "    environment={\"current_account_id\": \"bar\"},\n",
    ")\n",
    "parent_agent.run('what is the current account holders name?')"
   ]
  },
  {
   "cell_type": "code",
   "execution_count": null,
   "id": "19482d82a1f21fd0",
   "metadata": {
    "ExecuteTime": {
     "end_time": "2025-01-30T09:42:16.242276Z",
     "start_time": "2025-01-30T09:42:16.240761Z"
    }
   },
   "outputs": [],
   "source": []
  }
 ],
 "metadata": {
  "kernelspec": {
   "display_name": "Python 3",
   "language": "python",
   "name": "python3"
  },
  "language_info": {
   "codemirror_mode": {
    "name": "ipython",
    "version": 3
   },
   "file_extension": ".py",
   "mimetype": "text/x-python",
   "name": "python",
   "nbconvert_exporter": "python",
   "pygments_lexer": "ipython3",
   "version": "3.13.1"
  }
 },
 "nbformat": 4,
 "nbformat_minor": 5
}
