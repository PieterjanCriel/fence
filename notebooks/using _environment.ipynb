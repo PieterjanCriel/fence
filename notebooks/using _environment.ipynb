{
 "cells": [
  {
   "metadata": {},
   "cell_type": "markdown",
   "source": "# 🤺 Demo: Using the Environment in Agents and Tools",
   "id": "ea15d1425e3b5269"
  },
  {
   "metadata": {},
   "cell_type": "markdown",
   "source": [
    "### 🤔 What is the environment?\n",
    "\n",
    "When creating an agent, it is possible to pass an environment dictionary to the agent. This environment dictionary can be used to store information that is relevant to the agent, but not part of the model or tools. This information can be accessed by the agent and its delegates and tools during execution. This allows for the agent to be called with a specific set of hardcoded values that are scoped to that agent, e.g. a customer ID, a user ID, or a specific configuration. \n",
    "\n",
    "### ⚙️ How does it work?\n",
    "\n",
    "The environment is passed to the agent when it is created. The agent can then access the environment using the `self.environment` attribute. The environment is a dictionary, so it can store any type of data that is relevant to the agent. The agent, by default, passes this environment to its tools when they are executed. This allows the tools to access the environment as well.\n",
    "\n",
    "### 📄 Example: Using an orchestrator agent to pass a customer ID to a tool and a delegate agent"
   ],
   "id": "8c6d7d32b9a7285a"
  },
  {
   "metadata": {
    "collapsed": true,
    "ExecuteTime": {
     "end_time": "2025-01-30T09:42:05.558202Z",
     "start_time": "2025-01-30T09:42:05.554839Z"
    }
   },
   "cell_type": "code",
   "source": [
    "# Import the necessary classes\n",
    "from fence.agents.agent import Agent\n",
    "from fence.tools.base import BaseTool\n",
    "from fence.utils.logger import setup_logging\n",
    "from fence.models.openai import GPT4omini\n",
    "logger = setup_logging(__name__, log_level='info', are_you_serious=False)"
   ],
   "id": "initial_id",
   "outputs": [],
   "execution_count": 6
  },
  {
   "metadata": {},
   "cell_type": "markdown",
   "source": [
    "Let's build a basic tool that retrieves the account holder name from a database. The tool will use the `current_account_id` from the environment to determine which account holder name to return. The tool will return \"Bert\" if the `current_account_id` is \"foo\", \"Ernie\" if the `current_account_id` is \"bar\", and \"Unknown\" otherwise.\n",
    "\n",
    "Remember, tools take their description from either the `description` attribute on init, or the docstring if no description is passed."
   ],
   "id": "6b395a4c2f6981df"
  },
  {
   "metadata": {
    "ExecuteTime": {
     "end_time": "2025-01-30T09:42:05.573037Z",
     "start_time": "2025-01-30T09:42:05.569984Z"
    }
   },
   "cell_type": "code",
   "source": [
    "class AccountNameRetrieverTool(BaseTool):\n",
    "    \"\"\"\n",
    "    Tool to retrieve the account holder name from a database.\n",
    "    \"\"\"\n",
    "    def execute_tool(self, environment):\n",
    "        account_id = self.environment.get(\"current_account_id\", \"unknown\")\n",
    "        logger.info(f\"Retrieving account holder name for account_id: {account_id}\")\n",
    "        if account_id == \"foo\":\n",
    "            return \"Bert\"\n",
    "        if account_id == \"bar\":\n",
    "            return \"Ernie\"\n",
    "        return \"Unknown\""
   ],
   "id": "7495b529f111fcd9",
   "outputs": [],
   "execution_count": 7
  },
  {
   "metadata": {},
   "cell_type": "markdown",
   "source": "Now let's build an agent that uses the `AccountNameRetrieverTool` to retrieve the account holder name. The agent will not explicitly need to pass anything to the tool, as the tool will access the `current_account_id` from the environment. The agent will set the `current_account_id` to \"foo\" and then run the tool to retrieve the account holder name.",
   "id": "988b40d41e259a1a"
  },
  {
   "metadata": {
    "ExecuteTime": {
     "end_time": "2025-01-30T09:42:10.054669Z",
     "start_time": "2025-01-30T09:42:05.579304Z"
    }
   },
   "cell_type": "code",
   "source": [
    "# Create an agent with a model and tools\n",
    "agent = Agent(\n",
    "    identifier='accountant',\n",
    "    model=GPT4omini(source=\"agent\"),\n",
    "    tools=[AccountNameRetrieverTool()],\n",
    "    environment={\"current_account_id\": \"foo\"},\n",
    ")\n",
    "\n",
    "agent.run('what is the current account holders name?')    # \"How much is 9 + 10?\",\n",
    "    "
   ],
   "id": "7a36247523211b3c",
   "outputs": [
    {
     "name": "stdout",
     "output_type": "stream",
     "text": [
      "\u001B[1;32m[2025-01-30 10:42:05] [INFO] ℹ️ [agent.__init__:88] Initialized agent with model <gpt-4o-mini>, delegates: [], tools: ['AccountNameRetrieverTool']\u001B[0m\n",
      "\u001B[1;32m[2025-01-30 10:42:07] [INFO] ℹ️ [agent.run:210] Model response: [THOUGHT] I need to find out the name of the current account holder. I have a tool that can retrieve this information from a database. \n",
      "[ACTION]\n",
      "```toml\n",
      "tool_name = \"\"\"AccountNameRetrieverTool\"\"\"\n",
      "```\u001B[0m\n",
      "💭 \u001B[94m[thought]\u001B[0m I need to find out the name of the current account holder. I have a tool that can retrieve this information from a database.\n",
      "🛠️ \u001B[92m[action]\u001B[0m ```toml\n",
      "tool_name = \"\"\"AccountNameRetrieverTool\"\"\"\n",
      "```\n",
      "\u001B[1;32m[2025-01-30 10:42:07] [INFO] ℹ️ [agent._handle_tool_action:304] Executing tool 'AccountNameRetrieverTool' with params: {}\u001B[0m\n",
      "\u001B[1;32m[2025-01-30 10:42:07] [INFO] ℹ️ [2957405099.execute_tool:7] Retrieving account holder name for account_id: foo\u001B[0m\n",
      "\u001B[1;32m[2025-01-30 10:42:07] [INFO] ℹ️ [agent._handle_tool_action:309] Tool <AccountNameRetrieverTool> response: Bert\u001B[0m\n",
      "🔍 \u001B[95m[observation]\u001B[0m Bert\n",
      "\u001B[1;32m[2025-01-30 10:42:08] [INFO] ℹ️ [agent.run:210] Model response: [THOUGHT] I need to retrieve the current account holder's name. I have a tool that can provide me with this information from a database. \n",
      "[ACTION]\n",
      "```toml\n",
      "tool_name = \"\"\"AccountNameRetrieverTool\"\"\"\n",
      "```\u001B[0m\n",
      "💭 \u001B[94m[thought]\u001B[0m I need to retrieve the current account holder's name. I have a tool that can provide me with this information from a database.\n",
      "🛠️ \u001B[92m[action]\u001B[0m ```toml\n",
      "tool_name = \"\"\"AccountNameRetrieverTool\"\"\"\n",
      "```\n",
      "\u001B[1;32m[2025-01-30 10:42:08] [INFO] ℹ️ [agent._handle_tool_action:304] Executing tool 'AccountNameRetrieverTool' with params: {}\u001B[0m\n",
      "\u001B[1;32m[2025-01-30 10:42:08] [INFO] ℹ️ [2957405099.execute_tool:7] Retrieving account holder name for account_id: foo\u001B[0m\n",
      "\u001B[1;32m[2025-01-30 10:42:08] [INFO] ℹ️ [agent._handle_tool_action:309] Tool <AccountNameRetrieverTool> response: Bert\u001B[0m\n",
      "🔍 \u001B[95m[observation]\u001B[0m Bert\n",
      "\u001B[1;32m[2025-01-30 10:42:10] [INFO] ℹ️ [agent.run:210] Model response: [THOUGHT] I see the current account holder's name is \"Bert.\" Since this has already been provided, I can directly answer the user's question. \n",
      "[ANSWER] The current account holder's name is Bert.\u001B[0m\n",
      "💭 \u001B[94m[thought]\u001B[0m I see the current account holder's name is \"Bert.\" Since this has already been provided, I can directly answer the user's question.\n",
      "🎯 \u001B[91m[answer]\u001B[0m The current account holder's name is Bert.\n"
     ]
    },
    {
     "data": {
      "text/plain": [
       "\"The current account holder's name is Bert.\""
      ]
     },
     "execution_count": 8,
     "metadata": {},
     "output_type": "execute_result"
    }
   ],
   "execution_count": 8
  },
  {
   "metadata": {},
   "cell_type": "markdown",
   "source": "Now let's create two agents, one delegating to the other, to verify whether the environment is passed to the delegate. The parent agent will set the `current_account_id` to \"bar\" and delegate to the child agent. The child agent will use the `AccountNameRetrieverTool` to retrieve the account holder name.",
   "id": "83ae50a1b5ce06c9"
  },
  {
   "metadata": {
    "ExecuteTime": {
     "end_time": "2025-01-30T09:42:16.165913Z",
     "start_time": "2025-01-30T09:42:10.066407Z"
    }
   },
   "cell_type": "code",
   "source": [
    "# Create the agents\n",
    "child_agent = Agent(\n",
    "    identifier='child_accountant',\n",
    "    description=\"Specialized accountant agent for account specifics.\",\n",
    "    model=GPT4omini(source=\"agent\"),\n",
    "    tools=[AccountNameRetrieverTool()],\n",
    ")\n",
    "parent_agent = Agent(\n",
    "    identifier='parent_accountant',\n",
    "    model=GPT4omini(source=\"agent\"),\n",
    "    delegates=[child_agent],\n",
    "    environment={\"current_account_id\": \"bar\"},\n",
    ")\n",
    "parent_agent.run('what is the current account holders name?')"
   ],
   "id": "ebc69315a98e3ac6",
   "outputs": [
    {
     "name": "stdout",
     "output_type": "stream",
     "text": [
      "\u001B[1;32m[2025-01-30 10:42:10] [INFO] ℹ️ [agent.__init__:88] Initialized agent with model <gpt-4o-mini>, delegates: [], tools: ['AccountNameRetrieverTool']\u001B[0m\n",
      "\u001B[1;32m[2025-01-30 10:42:10] [INFO] ℹ️ [agent.__init__:88] Initialized agent with model <gpt-4o-mini>, delegates: ['child_accountant'], tools: []\u001B[0m\n",
      "\u001B[1;32m[2025-01-30 10:42:11] [INFO] ℹ️ [agent.run:210] Model response: [THOUGHT] I need more information to answer the question about the current account holder's name. I have a delegate that can provide me with that specific information. \n",
      "[DELEGATE]\n",
      "```toml\n",
      "delegate_name = \"\"\"child_accountant\"\"\"\n",
      "delegate_input = \"\"\"Please provide the name of the current account holder for the account in question.\"\"\" \n",
      "```\u001B[0m\n",
      "💭 \u001B[94m[thought]\u001B[0m I need more information to answer the question about the current account holder's name. I have a delegate that can provide me with that specific information.\n",
      "🤝 \u001B[93m[delegate]\u001B[0m ```toml\n",
      "delegate_name = \"\"\"child_accountant\"\"\"\n",
      "delegate_input = \"\"\"Please provide the name of the current account holder for the account in question.\"\"\" \n",
      "```\n",
      "\u001B[1;32m[2025-01-30 10:42:13] [INFO] ℹ️ [agent.run:210] Model response: [THOUGHT] I need more information to answer the question about the current account holder for the account in question. I have a tool that can provide me with the account holder's name. \n",
      "[ACTION]\n",
      "```toml\n",
      "tool_name = \"\"\"AccountNameRetrieverTool\"\"\"\n",
      "```\u001B[0m\n",
      "💭 \u001B[94m[thought]\u001B[0m I need more information to answer the question about the current account holder for the account in question. I have a tool that can provide me with the account holder's name.\n",
      "🛠️ \u001B[92m[action]\u001B[0m ```toml\n",
      "tool_name = \"\"\"AccountNameRetrieverTool\"\"\"\n",
      "```\n",
      "\u001B[1;32m[2025-01-30 10:42:13] [INFO] ℹ️ [agent._handle_tool_action:304] Executing tool 'AccountNameRetrieverTool' with params: {}\u001B[0m\n",
      "\u001B[1;32m[2025-01-30 10:42:13] [INFO] ℹ️ [2957405099.execute_tool:7] Retrieving account holder name for account_id: bar\u001B[0m\n",
      "\u001B[1;32m[2025-01-30 10:42:13] [INFO] ℹ️ [agent._handle_tool_action:309] Tool <AccountNameRetrieverTool> response: Ernie\u001B[0m\n",
      "🔍 \u001B[95m[observation]\u001B[0m Ernie\n",
      "\u001B[1;32m[2025-01-30 10:42:14] [INFO] ℹ️ [agent.run:210] Model response: [THOUGHT] I see that \"Ernie\" is the name provided as the current account holder. I can now confirm this information. \n",
      "[ANSWER] The current account holder is Ernie.\u001B[0m\n",
      "💭 \u001B[94m[thought]\u001B[0m I see that \"Ernie\" is the name provided as the current account holder. I can now confirm this information.\n",
      "🎯 \u001B[91m[answer]\u001B[0m The current account holder is Ernie.\n",
      "🔍 \u001B[95m[observation]\u001B[0m The current account holder is Ernie.\n",
      "\u001B[1;32m[2025-01-30 10:42:16] [INFO] ℹ️ [agent.run:210] Model response: [THOUGHT] I have received the information that the current account holder's name is Ernie. I can now provide a definitive answer based on this observation. \n",
      "[ANSWER] The current account holder's name is Ernie.\u001B[0m\n",
      "💭 \u001B[94m[thought]\u001B[0m I have received the information that the current account holder's name is Ernie. I can now provide a definitive answer based on this observation.\n",
      "🎯 \u001B[91m[answer]\u001B[0m The current account holder's name is Ernie.\n"
     ]
    },
    {
     "data": {
      "text/plain": [
       "\"The current account holder's name is Ernie.\""
      ]
     },
     "execution_count": 9,
     "metadata": {},
     "output_type": "execute_result"
    }
   ],
   "execution_count": 9
  },
  {
   "metadata": {
    "ExecuteTime": {
     "end_time": "2025-01-30T09:42:16.242276Z",
     "start_time": "2025-01-30T09:42:16.240761Z"
    }
   },
   "cell_type": "code",
   "source": "",
   "id": "19482d82a1f21fd0",
   "outputs": [],
   "execution_count": null
  }
 ],
 "metadata": {
  "kernelspec": {
   "display_name": "Python 3",
   "language": "python",
   "name": "python3"
  },
  "language_info": {
   "codemirror_mode": {
    "name": "ipython",
    "version": 2
   },
   "file_extension": ".py",
   "mimetype": "text/x-python",
   "name": "python",
   "nbconvert_exporter": "python",
   "pygments_lexer": "ipython2",
   "version": "2.7.6"
  }
 },
 "nbformat": 4,
 "nbformat_minor": 5
}
