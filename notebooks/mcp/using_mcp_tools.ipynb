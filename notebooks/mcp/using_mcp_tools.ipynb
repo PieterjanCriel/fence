{
 "cells": [
  {
   "cell_type": "markdown",
   "id": "f8b22fd7",
   "metadata": {},
   "source": [
    "# 🤺 Demo: Agents and MCP Servers\n",
    "\n",
    "## Demo overview\n",
    "In this demo notebook, we will explore how to create and interact with an MCP server using the `mcp` Python package and `fence-llm`. \n",
    "- First section; Setup a simple Local MCP server (via the `Agent` class and the `BedrockAgent` class)\n",
    "- Second section; Interact with a third-party MCP server\n",
    "\n",
    "## Model Context Protocal\n",
    "\n",
    "The Model Context Protocol (MCP) is an open standard introduced by Anthropic in November 2024 to streamline the integration of AI models, particularly large language models (LLMs), with external tools, systems, and data sources. Often likened to the “USB-C for AI apps,” MCP provides a universal interface that allows AI assistants to interact with various software components in a consistent manner .\n",
    "\n",
    "An MCP server acts as a bridge between AI agents and external functionalities. It exposes tools, enabling AI models to perform actions like reading files, querying databases, or invoking APIs without the need for custom integrations. This modular approach promotes interoperability and simplifies the development of AI-driven applications.\n",
    "\n",
    "## Transport options\n",
    "Transport Options for MCP Servers\n",
    "\n",
    "MCP supports multiple transport mechanisms to accommodate different deployment scenarios:\n",
    "- __Standard Input/Output (stdio)__: Ideal for local development and testing, stdio allows MCP servers to communicate through the standard input and output streams. This method is straightforward to implement and is well-suited for environments where simplicity and ease of setup are priorities .\n",
    "- __Server-Sent Events (SSE)__: SSE enables unidirectional, real-time communication from the server to the client over HTTP. It’s useful for scenarios where the server needs to push updates to the client without requiring complex bidirectional protocols. However, as of March 2025, SSE has been deprecated in favor of more robust solutions . ￼\n",
    "- __HTTP Stream Transport__: This modern transport mechanism supports bidirectional communication and streaming over HTTP, providing a more flexible and scalable solution for web-based MCP applications. It allows for advanced features like session management and comprehensive authentication options .\n",
    "\n",
    "\n",
    "**Note** This notebook assumes you have access to AWS Bedrock, as we use Bedrock's Claude-instant model to fuel our LLM interactions."
   ]
  },
  {
   "cell_type": "code",
   "execution_count": 39,
   "id": "c5a08137",
   "metadata": {},
   "outputs": [],
   "source": [
    "from pathlib import Path\n",
    "current_dir = Path('.').resolve().parents[1]  # now goes two levels up\n",
    "import sys\n",
    "sys.path.append(str(current_dir))"
   ]
  },
  {
   "cell_type": "markdown",
   "id": "aeecddf1",
   "metadata": {},
   "source": [
    "## Local MCP Server"
   ]
  },
  {
   "cell_type": "code",
   "execution_count": null,
   "id": "96c09d12",
   "metadata": {},
   "outputs": [],
   "source": [
    "from mcp import StdioServerParameters\n",
    "from mcp.client.stdio import stdio_client\n",
    "\n",
    "from fence.tools.mcp.mcp_client import MCPClient\n",
    "from fence.agents.bedrock import BedrockAgent\n",
    "from fence.models.bedrock import NovaPro\n",
    "\n",
    "from fence.utils.logger import setup_logging\n",
    "# Setup logging\n",
    "logger = setup_logging(__name__, log_level=\"kill\")  # On"
   ]
  },
  {
   "cell_type": "code",
   "execution_count": 42,
   "id": "e9f48edf",
   "metadata": {},
   "outputs": [],
   "source": [
    "stdio_mcp_client = MCPClient(lambda: stdio_client(\n",
    "    StdioServerParameters(\n",
    "        command=\"uvx\", \n",
    "        args=[\"awslabs.aws-documentation-mcp-server@latest\"]\n",
    "    )\n",
    "))"
   ]
  },
  {
   "cell_type": "code",
   "execution_count": 43,
   "id": "509f01bb",
   "metadata": {},
   "outputs": [
    {
     "name": "stdout",
     "output_type": "stream",
     "text": [
      "\u001b[1mBedrockAgent\u001b[0m 🚀 \u001b[96m[start]\u001b[0m Agent BedrockAgent started\n",
      "\u001b[1mBedrockAgent\u001b[0m 💭 \u001b[94m[thought]\u001b[0m To find the longest time an AWS Lambda method can run, I need to search the AWS documentation for relevant information. I'll start by using the `search_documentation` tool to find the maximum execution time for AWS Lambda functions.\n",
      "\u001b[1mBedrockAgent\u001b[0m 🔧 \u001b[38;5;208m[tool_use]\u001b[0m Tool [search_documentation] requested with parameters: {'limit': 10, 'search_phrase': 'AWS Lambda maximum execution time'}\n",
      "\u001b[1mBedrockAgent\u001b[0m 🔧 \u001b[38;5;208m[tool_use]\u001b[0m Tool [search_documentation] executed with parameters: {'limit': 10, 'search_phrase': 'AWS Lambda maximum execution time'} -> {\"content\": [{\"text\": \"{\\n  \\\"rank_order\\\": 1,\\n  \\\"url\\\": \\\"https://docs.aws.amazon.com/lambda/latest/dg/lambda-intro-execution-role.html\\\",\\n  \\\"title\\\": \\\"Defining Lambda function permissions with an execution role - AWS Lambda\\\",\\n  \\\"context\\\": \\\"Learn how to manage permissions for your Lambda function's execution role.\\\"\\n}\"}, {\"text\": \"{\\n  \\\"rank_order\\\": 2,\\n  \\\"url\\\": \\\"https://docs.aws.amazon.com/lambda/latest/dg/lambda-runtime-environment.html\\\",\\n  \\\"title\\\": \\\"Understanding the Lambda execution environment lifecycle - AWS Lambda\\\",\\n  \\\"context\\\": \\\"Lambda invokes your function in an execution environment, which provides a secure and isolated runtime environment.\\\"\\n}\"}, {\"text\": \"{\\n  \\\"rank_order\\\": 3,\\n  \\\"url\\\": \\\"https://docs.aws.amazon.com/lambda/latest/dg/configuration-timeout.html\\\",\\n  \\\"title\\\": \\\"Configure Lambda function timeout - AWS Lambda\\\",\\n  \\\"context\\\": \\\"Configure the timeout setting for your Lambda function.\\\"\\n}\"}, {\"text\": \"{\\n  \\\"rank_order\\\": 4,\\n  \\\"url\\\": \\\"https://docs.aws.amazon.com/lambda/latest/dg/welcome.html\\\",\\n  \\\"title\\\": \\\"What is AWS Lambda? - AWS Lambda\\\",\\n  \\\"context\\\": \\\"Lambda is a compute service that you can use to build applications without provisioning or managing servers.\\\"\\n}\"}, {\"text\": \"{\\n  \\\"rank_order\\\": 5,\\n  \\\"url\\\": \\\"https://docs.aws.amazon.com/lambda/latest/dg/scaling-behavior.html\\\",\\n  \\\"title\\\": \\\"Lambda scaling behavior - AWS Lambda\\\",\\n  \\\"context\\\": \\\"Learn how Lambda scales up your function to the concurrency quota for your AWS account.\\\"\\n}\"}, {\"text\": \"{\\n  \\\"rank_order\\\": 6,\\n  \\\"url\\\": \\\"https://docs.aws.amazon.com/lambda/latest/dg/gettingstarted-limits.html\\\",\\n  \\\"title\\\": \\\"Lambda quotas - AWS Lambda\\\",\\n  \\\"context\\\": \\\"Maximum sizes, limits, and quotas for Lambda functions and API requests.\\\"\\n}\"}, {\"text\": \"{\\n  \\\"rank_order\\\": 7,\\n  \\\"url\\\": \\\"https://docs.aws.amazon.com/lambda/latest/dg/with-eventbridge-scheduler.html\\\",\\n  \\\"title\\\": \\\"Invoke a Lambda function on a schedule - AWS Lambda\\\",\\n  \\\"context\\\": \\\"Describes invoking a Lambda function on a schedule using EventBridge Scheduler.\\\"\\n}\"}, {\"text\": \"{\\n  \\\"rank_order\\\": 8,\\n  \\\"url\\\": \\\"https://docs.aws.amazon.com/lambda/latest/dg/troubleshooting-execution.html\\\",\\n  \\\"title\\\": \\\"Troubleshoot execution issues in Lambda - AWS Lambda\\\",\\n  \\\"context\\\": \\\"Learn how to troubleshoot common execution issues in Lambda\\\"\\n}\"}, {\"text\": \"{\\n  \\\"rank_order\\\": 9,\\n  \\\"url\\\": \\\"https://docs.aws.amazon.com/lambda/latest/api/API_CreateFunction.html\\\",\\n  \\\"title\\\": \\\"CreateFunction - AWS Lambda\\\",\\n  \\\"context\\\": \\\"Creates a Lambda function. To create a function, you need a deployment package and an execution role . The deployment package is a .zip file archive or container image that contains your function code. The execution role grants the function permission to use AWS services, such as Amazon CloudWatch Logs for log streaming and AWS X-Ray for request tracing.\\\"\\n}\"}, {\"text\": \"{\\n  \\\"rank_order\\\": 10,\\n  \\\"url\\\": \\\"https://docs.aws.amazon.com/lambda/latest/dg/services-xray.html\\\",\\n  \\\"title\\\": \\\"Visualize Lambda function invocations using AWS X-Ray - AWS Lambda\\\",\\n  \\\"context\\\": \\\"Use AWS X-Ray with Lambda to visualize components of your applications and understand performance\\\"\\n}\"}]}\n",
      "\u001b[1mBedrockAgent\u001b[0m 💭 \u001b[94m[thought]\u001b[0m The search results indicate that the relevant documentation for the maximum execution time of an AWS Lambda function is found at `https://docs.aws.amazon.com/lambda/latest/dg/configuration-timeout.html`. I will use the `read_documentation` tool to fetch the content of this page.\n",
      "\u001b[1mBedrockAgent\u001b[0m 🔧 \u001b[38;5;208m[tool_use]\u001b[0m Tool [read_documentation] requested with parameters: {'url': 'https://docs.aws.amazon.com/lambda/latest/dg/configuration-timeout.html'}\n",
      "\u001b[1mBedrockAgent\u001b[0m 🔧 \u001b[38;5;208m[tool_use]\u001b[0m Tool [read_documentation] executed with parameters: {'url': 'https://docs.aws.amazon.com/lambda/latest/dg/configuration-timeout.html'} -> AWS Documentation from https://docs.aws.amazon.com/lambda/latest/dg/configuration-timeout.html:\n",
      "\n",
      "# Configure Lambda function timeout\n",
      "\n",
      "Lambda runs your code for a set amount of time before timing out.\n",
      "*Timeout* is the maximum amount of time in seconds that a Lambda function can run. The\n",
      "default value for this setting is 3 seconds, but you can adjust this in increments of 1 second up to a maximum value\n",
      "of 900 seconds (15 minutes).\n",
      "\n",
      "This page describes how and when to update the timeout setting for a Lambda function.\n",
      "\n",
      "###### Sections\n",
      "\n",
      "* [Determining the appropriate timeout value for a Lambda function](#configuration-timeout-use-cases \"#configuration-timeout-use-cases\")\n",
      "* [Configuring timeout (console)](#configuration-timeout-console \"#configuration-timeout-console\")\n",
      "* [Configuring timeout (AWS CLI)](#configuration-timeout-cli \"#configuration-timeout-cli\")\n",
      "* [Configuring timeout (AWS SAM)](#configuration-timeout-sam \"#configuration-timeout-sam\")\n",
      "\n",
      "## Determining the appropriate timeout value for a Lambda function\n",
      "\n",
      "If the timeout value is close to the average duration of a function, there is a higher\n",
      "risk that the function will time out unexpectedly. The duration of a function can vary\n",
      "based on the amount of data transfer and processing, and the latency of any services the\n",
      "function interacts with. Some common causes of timeout include:\n",
      "\n",
      "* Downloads from Amazon Simple Storage Service (Amazon S3) are larger or take longer than average.\n",
      "* A function makes a request to another service, which takes longer to respond.\n",
      "* The parameters provided to a function require more computational complexity in the function, which causes the invocation to take longer.\n",
      "\n",
      "When testing your application, ensure that your tests accurately reflect the size and quantity of data and realistic parameter values. Tests often use small samples for convenience, but you should use datasets at the upper bounds of what is reasonably expected for your workload.\n",
      "\n",
      "## Configuring timeout (console)\n",
      "\n",
      "You can configure function timeout in the Lambda console.\n",
      "\n",
      "###### To modify the timeout for a function\n",
      "\n",
      "1. Open the [Functions page](https://console.aws.amazon.com/lambda/home#/functions \"https://console.aws.amazon.com/lambda/home#/functions\") of the Lambda console.\n",
      "2. Choose a function.\n",
      "3. Choose the **Configuration** tab and then choose **General configuration**.\n",
      "\n",
      "   ![The Configuration tab in the Lambda console.](/images/lambda/latest/dg/images/configuration-tab.png)\n",
      "4. Under **General configuration**, choose **Edit**.\n",
      "5. For **Timeout**, set a value between 1 and\n",
      "   900 seconds (15 minutes).\n",
      "6. Choose **Save**.\n",
      "\n",
      "## Configuring timeout (AWS CLI)\n",
      "\n",
      "You can use the [update-function-configuration](https://awscli.amazonaws.com/v2/documentation/api/latest/reference/lambda/update-function-configuration.html \"https://awscli.amazonaws.com/v2/documentation/api/latest/reference/lambda/update-function-configuration.html\") command to configure the timeout value, in seconds. The following example command increases the function timeout to 120 seconds (2 minutes).\n",
      "\n",
      "```\n",
      "aws lambda update-function-configuration \\\n",
      "  --function-name my-function \\\n",
      "  --timeout 120\n",
      "```\n",
      "\n",
      "## Configuring timeout (AWS SAM)\n",
      "\n",
      "You can use the [AWS Serverless Application Model](https://docs.aws.amazon.com/serverless-application-model/latest/developerguide/serverless-getting-started.html  \"https://docs.aws.amazon.com/serverless-application-model/latest/developerguide/serverless-getting-started.html \") to configure the timeout value for your function. Update the [Timeout](https://docs.aws.amazon.com/serverless-application-model/latest/developerguide/sam-resource-function.html#sam-function-timeout \"https://docs.aws.amazon.com/serverless-application-model/latest/developerguide/sam-resource-function.html#sam-function-timeout\") property in your `template.yaml` file and then run [sam deploy](https://docs.aws.amazon.com/serverless-application-model/latest/developerguide/sam-cli-command-reference-sam-deploy.html \"https://docs.aws.amazon.com/serverless-application-model/latest/developerguide/sam-cli-command-reference-sam-deploy.html\").\n",
      "\n",
      "###### Example template.yaml\n",
      "\n",
      "```\n",
      "AWSTemplateFormatVersion: '2010-09-09'\n",
      "Transform: AWS::Serverless-2016-10-31\n",
      "Description: An AWS Serverless Application Model template describing your function.\n",
      "Resources:\n",
      "  my-function:\n",
      "    Type: AWS::Serverless::Function\n",
      "    Properties:\n",
      "      CodeUri: .\n",
      "      Description: ''\n",
      "      MemorySize: 128\n",
      "      Timeout: 120\n",
      "      # Other function properties...\n",
      "```\n",
      "\u001b[1mBedrockAgent\u001b[0m 🎯 \u001b[91m[answer]\u001b[0m The longest time an AWS Lambda method can run is 900 seconds (15 minutes). This value can be configured in the Lambda console, AWS CLI, or AWS SAM. The default timeout value is 3 seconds, but it can be adjusted in increments of 1 second up to the maximum of 900 seconds.\n",
      "\u001b[1mBedrockAgent\u001b[0m 🏁 \u001b[96m[stop]\u001b[0m Agent BedrockAgent stopped\n"
     ]
    }
   ],
   "source": [
    "# Create an Bedrock agent with MCP tools\n",
    "with stdio_mcp_client:\n",
    "    # Get the tools from the MCP server\n",
    "    tools = stdio_mcp_client.list_tools_sync()\n",
    "    \n",
    "    agent = BedrockAgent(\n",
    "        model=NovaPro(cross_region='eu'),\n",
    "        tools=tools,\n",
    "    )\n",
    "    \n",
    "    response = agent.run(\"What is the longest time an AWS lambda method can run?\")\n",
    "    "
   ]
  },
  {
   "cell_type": "markdown",
   "id": "a83c6968",
   "metadata": {},
   "source": [
    "## Using Streaming HTTP Transport"
   ]
  },
  {
   "cell_type": "code",
   "execution_count": null,
   "id": "8d318f01",
   "metadata": {},
   "outputs": [],
   "source": [
    "\n",
    "from mcp.client.streamable_http import streamablehttp_client\n",
    "from fence.tools.mcp.mcp_client import MCPClient\n",
    "\n",
    "from fence.agents.bedrock import BedrockAgent\n",
    "from fence.models.bedrock import NovaPro\n",
    "\n",
    "from fence.agents.agent import Agent\n",
    "from fence.models.openai import GPT4o\n",
    "\n",
    "\n",
    "# for the http client we'll use the streamablehttp_client with a local MCP server intearcting with Github\n",
    "\n",
    "# git clone https://github.com/smithery-ai/mcp-servers.git\n",
    "# cd mcp-servers/github\n",
    "# npm run start\n",
    "# This with start a local MCP server on port 8081\n",
    "\n",
    "http_mcp_client = MCPClient(lambda: streamablehttp_client(\"http://localhost:8081/mcp\"))\n",
    "http_mcp_client.start()\n",
    "\n",
    "tools = http_mcp_client.list_tools_sync()"
   ]
  },
  {
   "cell_type": "code",
   "execution_count": 49,
   "id": "acce5563",
   "metadata": {},
   "outputs": [],
   "source": [
    "agent = BedrockAgent(\n",
    "        model=NovaPro(cross_region='eu'),\n",
    "        tools=tools,\n",
    "    )"
   ]
  },
  {
   "cell_type": "code",
   "execution_count": 50,
   "id": "06b20c57",
   "metadata": {},
   "outputs": [
    {
     "name": "stdout",
     "output_type": "stream",
     "text": [
      "\u001b[1mBedrockAgent\u001b[0m 🚀 \u001b[96m[start]\u001b[0m Agent BedrockAgent started\n",
      "\u001b[1mBedrockAgent\u001b[0m 💭 \u001b[94m[thought]\u001b[0m To gather information about the \"fence project\" by WouterDurnez, I should first search for repositories related to this project. If I find relevant repositories, I can then get detailed information about them.\n",
      "\u001b[1mBedrockAgent\u001b[0m 🔧 \u001b[38;5;208m[tool_use]\u001b[0m Tool [search_repositories] requested with parameters: {'query': 'fence project user:WouterDurnez'}\n",
      "\u001b[1mBedrockAgent\u001b[0m 🔧 \u001b[38;5;208m[tool_use]\u001b[0m Tool [search_repositories] executed with parameters: {'query': 'fence project user:WouterDurnez'} -> No repositories found\n",
      "\u001b[1mBedrockAgent\u001b[0m 💭 \u001b[94m[thought]\u001b[0m Since no repositories were found under the query \"fence project user:WouterDurnez\", I should try a broader search to see if there are any repositories by WouterDurnez that might be related to a fence project.\n",
      "\u001b[1mBedrockAgent\u001b[0m 🔧 \u001b[38;5;208m[tool_use]\u001b[0m Tool [search_repositories] requested with parameters: {'query': 'user:WouterDurnez'}\n",
      "\u001b[1mBedrockAgent\u001b[0m 🔧 \u001b[38;5;208m[tool_use]\u001b[0m Tool [search_repositories] executed with parameters: {'query': 'user:WouterDurnez'} -> ### Found 10 repositories:\n",
      "\n",
      "1. **WouterDurnez/fence** - 13 stars - `Python`\n",
      "   A small package that offers an alternative for LangChain's most used functionality\n",
      "   _Updated: 2025-05-27_\n",
      "\n",
      "2. **WouterDurnez/airhead** - 4 stars - `Python`\n",
      "   Lightweight Convolutional Neural Networks for Brain Tumor Segmentation\n",
      "   _Updated: 2025-02-23_\n",
      "\n",
      "3. **WouterDurnez/doppelganger** - 3 stars - `Python`\n",
      "   Using a GAN to create a fake profile pic for myself\n",
      "\n",
      "4. **WouterDurnez/burner** - 1 stars - `Python`\n",
      "   dummy burner repo\n",
      "\n",
      "5. **WouterDurnez/haai-hand-measurement** - `Python`\n",
      "   Getting hand measurements from a reference picture\n",
      "   _Updated: 2025-01-18_\n",
      "\n",
      "6. **WouterDurnez/haai** - `Python`\n",
      "   Swimming the waters for now\n",
      "   _Updated: 2024-12-02_\n",
      "\n",
      "7. **WouterDurnez/not_that_convoluted** - `Python`\n",
      "   undefined\n",
      "\n",
      "8. **WouterDurnez/open_profiling_of_quality** - `Python`\n",
      "   Repository for code in support of OPQ method\n",
      "\n",
      "9. **WouterDurnez/CV_in_the_name_of_deep_learning** - `Python`\n",
      "   Final project for Computer Vision\n",
      "\n",
      "10. **WouterDurnez/fenced-playground**\n",
      "   Various snippets of functionality using Fence\n",
      "   _Updated: 2024-12-03_\n",
      "\u001b[1mBedrockAgent\u001b[0m 🎯 \u001b[91m[answer]\u001b[0m The \"fence project\" by WouterDurnez appears to be a small package that offers an alternative for LangChain's most used functionality. It is written in Python and has 13 stars. The repository was last updated on 2025-05-27. \n",
      "\n",
      "Here are the details of the repository:\n",
      "- **Name:** WouterDurnez/fence\n",
      "- **Stars:** 13\n",
      "- **Language:** Python\n",
      "- **Description:** A small package that offers an alternative for LangChain's most used functionality\n",
      "- **Last Updated:** 2025-05-27\n",
      "\n",
      "Additionally, there is another repository called \"fenced-playground\" which contains various snippets of functionality using Fence. This repository was last updated on 2024-12-03.\n",
      "\u001b[1mBedrockAgent\u001b[0m 🏁 \u001b[96m[stop]\u001b[0m Agent BedrockAgent stopped\n"
     ]
    }
   ],
   "source": [
    "answer  = agent.run(\"Tell me about the fence project by WouterDurnez\")"
   ]
  },
  {
   "cell_type": "code",
   "execution_count": 59,
   "id": "8026e3f7",
   "metadata": {},
   "outputs": [],
   "source": [
    "agent = BedrockAgent(\n",
    "        model=NovaPro(cross_region='eu'),\n",
    "        tools=tools,\n",
    "    )"
   ]
  },
  {
   "cell_type": "code",
   "execution_count": 60,
   "id": "c1d24855",
   "metadata": {},
   "outputs": [
    {
     "name": "stdout",
     "output_type": "stream",
     "text": [
      "\u001b[1mBedrockAgent\u001b[0m 🚀 \u001b[96m[start]\u001b[0m Agent BedrockAgent started\n",
      "\u001b[1mBedrockAgent\u001b[0m 💭 \u001b[94m[thought]\u001b[0m To gather information about the fence project by WouterDurnez, I should first search for repositories related to this project. I'll use the `search_repositories` tool with a query that includes the user's name and the project name.\n",
      "\u001b[1mBedrockAgent\u001b[0m 🔧 \u001b[38;5;208m[tool_use]\u001b[0m Tool [search_repositories] requested with parameters: {'query': 'user:WouterDurnez fence'}\n",
      "\u001b[1mBedrockAgent\u001b[0m 🔧 \u001b[38;5;208m[tool_use]\u001b[0m Tool [search_repositories] executed with parameters: {'query': 'user:WouterDurnez fence'} -> ### Found 2 repositories:\n",
      "\n",
      "1. **WouterDurnez/fence** - 13 stars - `Python`\n",
      "   A small package that offers an alternative for LangChain's most used functionality\n",
      "   _Updated: 2025-05-27_\n",
      "\n",
      "2. **WouterDurnez/fenced-playground**\n",
      "   Various snippets of functionality using Fence\n",
      "   _Updated: 2024-12-03_\n",
      "\u001b[1mBedrockAgent\u001b[0m 🎯 \u001b[91m[answer]\u001b[0m The fence project by WouterDurnez consists of two repositories:\n",
      "\n",
      "1. **WouterDurnez/fence**:\n",
      "   - Stars: 13\n",
      "   - Language: Python\n",
      "   - Description: A small package that offers an alternative for LangChain's most used functionality.\n",
      "   - Last updated: 2025-05-27\n",
      "\n",
      "2. **WouterDurnez/fenced-playground**:\n",
      "   - Description: Various snippets of functionality using Fence.\n",
      "   - Last updated: 2024-12-03\n",
      "\n",
      "Would you like more detailed information about either of these repositories?\n",
      "\u001b[1mBedrockAgent\u001b[0m 🏁 \u001b[96m[stop]\u001b[0m Agent BedrockAgent stopped\n"
     ]
    },
    {
     "data": {
      "text/plain": [
       "AgentResponse(answer=\"The fence project by WouterDurnez consists of two repositories:\\n\\n1. **WouterDurnez/fence**:\\n   - Stars: 13\\n   - Language: Python\\n   - Description: A small package that offers an alternative for LangChain's most used functionality.\\n   - Last updated: 2025-05-27\\n\\n2. **WouterDurnez/fenced-playground**:\\n   - Description: Various snippets of functionality using Fence.\\n   - Last updated: 2024-12-03\\n\\nWould you like more detailed information about either of these repositories?\", events=[BedrockAgent [Start], BedrockAgent [Thinking] To gather information about the fence project by WouterDurnez, I should first search for repositories related to this project. I'll use the `search_repositories` tool with a query that includes the user's name and the project name., BedrockAgent [Tool_use_start] search_repositories ({'query': 'user:WouterDurnez fence'}) -> None, BedrockAgent [Tool_use_stop] search_repositories ({'query': 'user:WouterDurnez fence'}) -> ### Found 2 repositories:\n",
       "\n",
       "1. **WouterDurnez/fence** - 13 stars - `Python`\n",
       "   A small package that offers an alternative for LangChain's most used functionality\n",
       "   _Updated: 2025-05-27_\n",
       "\n",
       "2. **WouterDurnez/fenced-playground**\n",
       "   Various snippets of functionality using Fence\n",
       "   _Updated: 2024-12-03_, BedrockAgent [Answer] The fence project by WouterDurnez consists of two repositories:\n",
       "\n",
       "1. **WouterDurnez/fence**:\n",
       "   - Stars: 13\n",
       "   - Language: Python\n",
       "   - Description: A small package that offers an alternative for LangChain's most used functionality.\n",
       "   - Last updated: 2025-05-27\n",
       "\n",
       "2. **WouterDurnez/fenced-playground**:\n",
       "   - Description: Various snippets of functionality using Fence.\n",
       "   - Last updated: 2024-12-03\n",
       "\n",
       "Would you like more detailed information about either of these repositories?, BedrockAgent [Stop]])"
      ]
     },
     "execution_count": 60,
     "metadata": {},
     "output_type": "execute_result"
    }
   ],
   "source": [
    "agent.run(\"Tell me about the fence project by WouterDurnez\")"
   ]
  },
  {
   "cell_type": "code",
   "execution_count": null,
   "id": "33dd340c",
   "metadata": {},
   "outputs": [],
   "source": []
  }
 ],
 "metadata": {
  "kernelspec": {
   "display_name": ".venv",
   "language": "python",
   "name": "python3"
  },
  "language_info": {
   "codemirror_mode": {
    "name": "ipython",
    "version": 3
   },
   "file_extension": ".py",
   "mimetype": "text/x-python",
   "name": "python",
   "nbconvert_exporter": "python",
   "pygments_lexer": "ipython3",
   "version": "3.13.3"
  }
 },
 "nbformat": 4,
 "nbformat_minor": 5
}
