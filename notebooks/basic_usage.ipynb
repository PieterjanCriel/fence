{
 "cells": [
  {
   "cell_type": "markdown",
   "id": "4e010e381f4d1bbe",
   "metadata": {
    "collapsed": false,
    "jupyter": {
     "outputs_hidden": false
    }
   },
   "source": [
    "# 🤺 Fence demo\n",
    "\n",
    "This notebook demonstrates the use of various classes in this package. The core intent of this package is to provide a framework for interacting with language models in a way that is modular, extensible, and easy to use. The core classes are:\n",
    "- `PromptTemplate`: A template for a prompt that can be rendered with a dictionary of variables (or using keywords). It wraps around jinja2.Template, but adds some additional functionality.\n",
    "- `LLM`: A wrapper around a language model. \n",
    "- `Link`: Atomic LLM interaction wrapper. Takes in a PromptTemplate and a language model. It can be invoked with a dictionary of variables, and will return a dictionary of variables.\n",
    "- `TransformationLink`: A wrapper around a `function` that takes a dictionary of variables and returns a dictionary of variables. It can be invoked with a dictionary of variables, and will return a dictionary of variables.\n",
    "- `Chain`: A collection of links that are invoked in the right order based on the input and output keys for each Link.\n",
    "- `LinearChain`: A sequence of links that are invoked in the order they are passed in.\n",
    "\n",
    "Through these classes, we can interact with LLMs in varying degrees of complexity:\n",
    "1. Just call the model directly\n",
    "2. Use a `PromptTemplate` for reusability and abstraction\n",
    "3. Use a `Link` for atomic LLM interaction\n",
    "4. Use a `Chain` to execute a collection of `Links`\n",
    "\n",
    "Below, we'll go through each of these levels of complexity and provide examples.\n",
    "\n",
    "**Note** This notebook assumes you have access to AWS Bedrock, as we use Bedrock's Claude-instant model to fuel our LLM interactions."
   ]
  },
  {
   "cell_type": "code",
   "id": "a937d38e",
   "metadata": {
    "ExecuteTime": {
     "end_time": "2024-10-04T15:43:40.995318Z",
     "start_time": "2024-10-04T15:43:40.992671Z"
    }
   },
   "source": [
    "from pathlib import Path\n",
    "current_dir = Path('.').resolve().parents[0]\n",
    "import sys\n",
    "sys.path.append(str(current_dir))"
   ],
   "outputs": [],
   "execution_count": 1
  },
  {
   "metadata": {
    "ExecuteTime": {
     "end_time": "2024-10-04T15:43:41.289121Z",
     "start_time": "2024-10-04T15:43:41.017694Z"
    }
   },
   "cell_type": "code",
   "source": [
    "%load_ext autoreload\n",
    "from fence.models.claude import ClaudeInstant\n",
    "from fence.models.claude3 import Claude35Sonnet\n",
    "from fence.models.openai import GPT4omini\n",
    "from fence.templates.string import StringTemplate\n",
    "from fence.templates.messages import MessagesTemplate, Messages, Message\n",
    "from fence.links import Link, TransformationLink\n",
    "from fence.chains import Chain, LinearChain"
   ],
   "id": "d5a08a1007e6fa35",
   "outputs": [],
   "execution_count": 2
  },
  {
   "metadata": {},
   "cell_type": "markdown",
   "source": "## ⚙️ Setting up",
   "id": "1aa24e1159152eb7"
  },
  {
   "metadata": {
    "ExecuteTime": {
     "end_time": "2024-10-04T15:43:41.450277Z",
     "start_time": "2024-10-04T15:43:41.393517Z"
    }
   },
   "cell_type": "code",
   "source": [
    "# Get our model\n",
    "model = Claude35Sonnet(source='demo_notebook', region='us-east-1')\n",
    "model = GPT4omini(source='demo_notebook')"
   ],
   "id": "a61082844097188f",
   "outputs": [],
   "execution_count": 3
  },
  {
   "cell_type": "markdown",
   "id": "efabe783b73b8ec7",
   "metadata": {
    "collapsed": false,
    "jupyter": {
     "outputs_hidden": false
    }
   },
   "source": [
    "### 🪨 Level 1 - Just call the damn thing"
   ]
  },
  {
   "cell_type": "code",
   "id": "950662b95a79575c",
   "metadata": {
    "collapsed": false,
    "jupyter": {
     "outputs_hidden": false
    },
    "ExecuteTime": {
     "end_time": "2024-10-04T15:43:45.722880Z",
     "start_time": "2024-10-04T15:43:41.455041Z"
    }
   },
   "source": [
    "# Use the invoke method to call the model\n",
    "model.invoke('Why is the sky blue?')"
   ],
   "outputs": [
    {
     "data": {
      "text/plain": [
       "\"The sky appears blue due to a phenomenon known as Rayleigh scattering. This occurs when sunlight, which consists of many colors (or wavelengths), passes through the Earth's atmosphere. \\n\\nSunlight is made up of different colors, each with its own wavelength. Blue light has a shorter wavelength, while red light has a longer wavelength. When sunlight enters the atmosphere, it collides with air molecules and other small particles. Because of its shorter wavelength, blue light is scattered in all directions much more effectively than the longer wavelengths, such as red or yellow.\\n\\nAs a result, when we look up at the sky during the day, we see more of the scattered blue light, making the sky appear blue to our eyes. At sunrise and sunset, the sunlight has to travel through a thicker layer of the atmosphere, scattering more of the shorter wavelengths and allowing the longer wavelengths (reds and oranges) to dominate, which is why we see those colors during those times.\""
      ]
     },
     "execution_count": 4,
     "metadata": {},
     "output_type": "execute_result"
    }
   ],
   "execution_count": 4
  },
  {
   "cell_type": "code",
   "id": "22c4da28c3c3d3b0",
   "metadata": {
    "collapsed": false,
    "jupyter": {
     "outputs_hidden": false
    },
    "ExecuteTime": {
     "end_time": "2024-10-04T15:44:10.738525Z",
     "start_time": "2024-10-04T15:43:45.740792Z"
    }
   },
   "source": [
    "# Just call the damn thing\n",
    "model('Why is the sky blue?')"
   ],
   "outputs": [
    {
     "data": {
      "text/plain": [
       "\"The sky appears blue primarily due to a phenomenon called Rayleigh scattering. When sunlight enters the Earth's atmosphere, it is made up of various colors, each corresponding to different wavelengths. Blue light has a shorter wavelength compared to other colors like red and yellow.\\n\\nAs sunlight passes through the atmosphere, it interacts with gas molecules and small particles. Because blue light is scattered more than other colors due to its shorter wavelength, it is dispersed in all directions. When we look up at the sky, we see this scattered blue light, which is why the sky appears predominantly blue during the day.\\n\\nDuring sunrise and sunset, the sun's light has to pass through a larger section of the atmosphere, which scatters more shorter wavelengths and allows the longer wavelengths, like red and orange, to dominate, resulting in the beautiful colors we see at these times.\""
      ]
     },
     "execution_count": 5,
     "metadata": {},
     "output_type": "execute_result"
    }
   ],
   "execution_count": 5
  },
  {
   "cell_type": "markdown",
   "id": "632046188100875d",
   "metadata": {
    "collapsed": false,
    "jupyter": {
     "outputs_hidden": false
    }
   },
   "source": [
    "### 🔨 Level 2 - Use a PromptTemplate"
   ]
  },
  {
   "cell_type": "code",
   "id": "afe2b6d1d4078270",
   "metadata": {
    "collapsed": false,
    "jupyter": {
     "outputs_hidden": false
    },
    "ExecuteTime": {
     "end_time": "2024-10-04T15:44:10.755261Z",
     "start_time": "2024-10-04T15:44:10.752553Z"
    }
   },
   "source": [
    "# Initialize a prompt template\n",
    "prompt_template = StringTemplate('Why is the sky {color}?')\n",
    "print(prompt_template)"
   ],
   "outputs": [
    {
     "name": "stdout",
     "output_type": "stream",
     "text": [
      "StringTemplate: Why is the sky {color}?\n"
     ]
    }
   ],
   "execution_count": 6
  },
  {
   "cell_type": "code",
   "id": "9901374952217046",
   "metadata": {
    "collapsed": false,
    "jupyter": {
     "outputs_hidden": false
    },
    "ExecuteTime": {
     "end_time": "2024-10-04T15:44:10.779516Z",
     "start_time": "2024-10-04T15:44:10.777259Z"
    }
   },
   "source": [
    "# Render it with a dictionary\n",
    "print(prompt_template.render({'color': 'blue'}))\n",
    "\n",
    "# Render it with keyword arguments\n",
    "print(prompt_template.render(color='red'))\n",
    "\n",
    "# Input dict takes precedence over keyword arguments\n",
    "print(prompt_template.render(input_dict={'color': 'blue'}, color='red'))"
   ],
   "outputs": [
    {
     "name": "stdout",
     "output_type": "stream",
     "text": [
      "Why is the sky blue?\n",
      "Why is the sky red?\n",
      "Why is the sky red?\n"
     ]
    }
   ],
   "execution_count": 7
  },
  {
   "cell_type": "code",
   "id": "a5dca91633a69af",
   "metadata": {
    "collapsed": false,
    "jupyter": {
     "outputs_hidden": false
    },
    "ExecuteTime": {
     "end_time": "2024-10-04T15:44:10.795341Z",
     "start_time": "2024-10-04T15:44:10.792909Z"
    }
   },
   "source": [
    "# You can concatenate prompt templates, input variables are merged\n",
    "prompt_template_sky = StringTemplate('Why is the sky {color}?')\n",
    "prompt_template_grass = StringTemplate('Why is the grass {color}?')\n",
    "prompt_template_dress = StringTemplate('I like a dress with {pattern}.')\n",
    "combined_prompt_template = prompt_template_sky + prompt_template_grass + prompt_template_dress\n",
    "print(combined_prompt_template)\n",
    "print(combined_prompt_template.render({'color': 'blue', 'pattern': 'polka dots'}))"
   ],
   "outputs": [
    {
     "name": "stdout",
     "output_type": "stream",
     "text": [
      "StringTemplate: Why is the sky {color}? Why is the grass {color}? I like a dress with {pattern}.\n",
      "Why is the sky blue? Why is the grass blue? I like a dress with polka dots.\n"
     ]
    }
   ],
   "execution_count": 8
  },
  {
   "cell_type": "code",
   "id": "9d7766d8c7a53b12",
   "metadata": {
    "collapsed": false,
    "jupyter": {
     "outputs_hidden": false
    },
    "ExecuteTime": {
     "end_time": "2024-10-04T15:44:10.809580Z",
     "start_time": "2024-10-04T15:44:10.807504Z"
    }
   },
   "source": [
    "# You can customize the separator\n",
    "base_template = StringTemplate('Why is the sky {color}?', separator=' FUNKY TOWN ')\n",
    "additional_template = StringTemplate('Why is the grass {color}?')\n",
    "print((base_template + additional_template).render({'color': 'blue'}))"
   ],
   "outputs": [
    {
     "name": "stdout",
     "output_type": "stream",
     "text": [
      "Why is the sky blue? FUNKY TOWN Why is the grass blue?\n"
     ]
    }
   ],
   "execution_count": 9
  },
  {
   "metadata": {
    "ExecuteTime": {
     "end_time": "2024-10-04T15:44:10.855962Z",
     "start_time": "2024-10-04T15:44:10.853606Z"
    }
   },
   "cell_type": "code",
   "source": [
    "# You can also use the MessagesTemplates for more complex prompts\n",
    "messages = Messages(\n",
    "    system='Respond in a {tone} tone',\n",
    "    messages= [\n",
    "        Message(role=\"user\", content=\"Why is the sky {color}?\"),\n",
    "        # Equivalent to Message(role='user', content=Content(type='text', text='Why is the sky blue?'))\n",
    "        # But Content can also be an image, etc.\n",
    "    ]\n",
    ")\n",
    "messages_template = MessagesTemplate(\n",
    "    source=messages\n",
    ")\n",
    "print(messages_template)\n",
    "print(f\"\\nRendered: {messages_template.render(tone='sarcastic', color='blue')}\")"
   ],
   "id": "c6c3140b13ae4f",
   "outputs": [
    {
     "name": "stdout",
     "output_type": "stream",
     "text": [
      "MessagesTemplate: messages=[Message(role='user', content='Why is the sky {color}?')] system='Respond in a {tone} tone'\n",
      "\n",
      "Rendered: messages=[Message(role='user', content='Why is the sky blue?')] system='Respond in a sarcastic tone'\n"
     ]
    }
   ],
   "execution_count": 10
  },
  {
   "cell_type": "markdown",
   "id": "8e5617e437fb30fc",
   "metadata": {
    "collapsed": false,
    "jupyter": {
     "outputs_hidden": false
    }
   },
   "source": [
    "### 🧠 Level 3 - Use Links (lol)\n",
    "\n",
    "What are Links? In this context, they represent atomic components of LLM interaction. That means they should be able to be strung together to form a Chain, although they can be used independently as well."
   ]
  },
  {
   "cell_type": "code",
   "id": "219ef991de4352a6",
   "metadata": {
    "collapsed": false,
    "jupyter": {
     "outputs_hidden": false
    },
    "ExecuteTime": {
     "end_time": "2024-10-04T15:44:10.872723Z",
     "start_time": "2024-10-04T15:44:10.870573Z"
    }
   },
   "source": [
    "# The simplest link is the Link class, which just takes a prompt template and a model\n",
    "link = Link(template=prompt_template, model=model)\n",
    "print(link)"
   ],
   "outputs": [
    {
     "name": "stdout",
     "output_type": "stream",
     "text": [
      "Link: <['color']> -> <state>\n"
     ]
    }
   ],
   "execution_count": 11
  },
  {
   "cell_type": "code",
   "id": "3a1279bdd677c524",
   "metadata": {
    "collapsed": false,
    "jupyter": {
     "outputs_hidden": false
    },
    "ExecuteTime": {
     "end_time": "2024-10-04T15:44:16.431919Z",
     "start_time": "2024-10-04T15:44:10.880653Z"
    }
   },
   "source": [
    "# Invoke it\n",
    "link(color='blue') # Or, equivalently, link.run(input_dict={'color': 'blue'})"
   ],
   "outputs": [
    {
     "name": "stdout",
     "output_type": "stream",
     "text": [
      "\u001B[1;32m[2024-10-04 17:44:10] [ℹ️ INFO] [links.run:203]              Executing unnamed Link\u001B[0m\n"
     ]
    },
    {
     "data": {
      "text/plain": [
       "{'state': \"The sky appears blue primarily due to a phenomenon called Rayleigh scattering. This occurs when sunlight interacts with the Earth's atmosphere. \\n\\nSunlight, or white light, is made up of different colors, each with different wavelengths. Blue light has a shorter wavelength compared to other colors in the spectrum. When sunlight enters the atmosphere, it collides with gas molecules and small particles. Because blue light is scattered more effectively than the other colors, it is redirected in all directions, making the sky appear predominantly blue to our eyes.\\n\\nDuring sunrise and sunset, the sunlight passes through a thicker layer of the atmosphere. This longer path causes more scattering of the shorter wavelengths, allowing the longer wavelengths—like red and orange—to dominate, which is why the sky can appear reddish during those times.\"}"
      ]
     },
     "execution_count": 12,
     "metadata": {},
     "output_type": "execute_result"
    }
   ],
   "execution_count": 12
  },
  {
   "cell_type": "code",
   "id": "884bda0b4dca2512",
   "metadata": {
    "collapsed": false,
    "jupyter": {
     "outputs_hidden": false
    },
    "ExecuteTime": {
     "end_time": "2024-10-04T15:44:19.497706Z",
     "start_time": "2024-10-04T15:44:16.445036Z"
    }
   },
   "source": [
    "# By default, output is stored under 'state'. You can get a copy (e.g., for inspection of intermediate results) by passing a different output key\n",
    "link = Link(template=prompt_template, model=model, output_key='intermediate')\n",
    "link.run(input_dict={'color': 'blue'})"
   ],
   "outputs": [
    {
     "name": "stdout",
     "output_type": "stream",
     "text": [
      "\u001B[1;32m[2024-10-04 17:44:16] [ℹ️ INFO] [links.run:203]              Executing unnamed Link\u001B[0m\n"
     ]
    },
    {
     "data": {
      "text/plain": [
       "{'state': \"The sky appears blue due to a phenomenon called Rayleigh scattering. When sunlight enters Earth's atmosphere, it is made up of different colors that have different wavelengths. Blue light has a shorter wavelength compared to other colors like red and yellow.\\n\\nAs sunlight passes through the atmosphere, it collides with molecules and small particles in the air. These interactions scatter the shorter wavelengths of light (blue and violet) more than the longer wavelengths (red, orange, yellow). Although violet light is scattered even more than blue light, our eyes are more sensitive to blue and some of the violet light is absorbed by the ozone layer, which is why we primarily see a blue sky.\\n\\nDuring sunrise and sunset, the sky can appear red or orange. This is because the sunlight passes through a thicker layer of the atmosphere, scattering the shorter wavelengths and allowing the longer wavelengths (red and orange) to dominate.\",\n",
       " 'intermediate': \"The sky appears blue due to a phenomenon called Rayleigh scattering. When sunlight enters Earth's atmosphere, it is made up of different colors that have different wavelengths. Blue light has a shorter wavelength compared to other colors like red and yellow.\\n\\nAs sunlight passes through the atmosphere, it collides with molecules and small particles in the air. These interactions scatter the shorter wavelengths of light (blue and violet) more than the longer wavelengths (red, orange, yellow). Although violet light is scattered even more than blue light, our eyes are more sensitive to blue and some of the violet light is absorbed by the ozone layer, which is why we primarily see a blue sky.\\n\\nDuring sunrise and sunset, the sky can appear red or orange. This is because the sunlight passes through a thicker layer of the atmosphere, scattering the shorter wavelengths and allowing the longer wavelengths (red and orange) to dominate.\"}"
      ]
     },
     "execution_count": 13,
     "metadata": {},
     "output_type": "execute_result"
    }
   ],
   "execution_count": 13
  },
  {
   "cell_type": "code",
   "id": "52913f8c6dece54e",
   "metadata": {
    "collapsed": false,
    "jupyter": {
     "outputs_hidden": false
    },
    "ExecuteTime": {
     "end_time": "2024-10-04T15:44:22.083942Z",
     "start_time": "2024-10-04T15:44:19.514754Z"
    }
   },
   "source": [
    "# You can name your links for easier debugging in logs\n",
    "link = Link(template=prompt_template, model=model, name='sky')\n",
    "link.run(input_dict={'color': 'blue'})"
   ],
   "outputs": [
    {
     "name": "stdout",
     "output_type": "stream",
     "text": [
      "\u001B[1;32m[2024-10-04 17:44:19] [ℹ️ INFO] [links.run:203]              Executing <sky> Link\u001B[0m\n"
     ]
    },
    {
     "data": {
      "text/plain": [
       "{'state': \"The sky appears blue due to a phenomenon called Rayleigh scattering. When sunlight enters the Earth's atmosphere, it is made up of different colors that correspond to different wavelengths of light. Blue light has a shorter wavelength and is scattered in all directions by the molecules and small particles in the atmosphere. \\n\\nWhen the sun is high in the sky, the blue light is scattered much more than the other colors, which is why we see a blue sky most of the time. During sunrise or sunset, the sunlight passes through a greater thickness of the atmosphere, scattering shorter wavelengths (blue and green) out of the direct line of sight and allowing the longer wavelengths (red and orange) to become more prominent, resulting in the beautiful colors we often see at those times.\"}"
      ]
     },
     "execution_count": 14,
     "metadata": {},
     "output_type": "execute_result"
    }
   ],
   "execution_count": 14
  },
  {
   "cell_type": "code",
   "id": "460c06d5b33c6e87",
   "metadata": {
    "collapsed": false,
    "jupyter": {
     "outputs_hidden": false
    },
    "ExecuteTime": {
     "end_time": "2024-10-04T15:44:22.107790Z",
     "start_time": "2024-10-04T15:44:22.103107Z"
    }
   },
   "source": [
    "# You can also build TransformationLinks, which take a function that transforms any input_dict into a specific output\n",
    "def concatenate(input: dict):\n",
    "    return f\"{input['X']} and {input['Y']}\"\n",
    "\n",
    "concat_link = TransformationLink(\n",
    "    input_keys=[\"X\", \"Y\"], function=concatenate, output_key=\"C\"\n",
    ")\n",
    "\n",
    "concat_link.run(input_dict={\"X\": \"Hello\", \"Y\": \"World\"})"
   ],
   "outputs": [
    {
     "name": "stdout",
     "output_type": "stream",
     "text": [
      "\u001B[1;32m[2024-10-04 17:44:22] [ℹ️ INFO] [links.run:122]              Executing Transformation Link\u001B[0m\n"
     ]
    },
    {
     "data": {
      "text/plain": [
       "{'state': 'Hello and World', 'C': 'Hello and World'}"
      ]
     },
     "execution_count": 15,
     "metadata": {},
     "output_type": "execute_result"
    }
   ],
   "execution_count": 15
  },
  {
   "cell_type": "markdown",
   "id": "c83119613a5ecf54",
   "metadata": {
    "collapsed": false,
    "jupyter": {
     "outputs_hidden": false
    }
   },
   "source": [
    "### 🚀 Level 4 - Use Chains (lol again)"
   ]
  },
  {
   "cell_type": "code",
   "id": "a86436d806745ef0",
   "metadata": {
    "collapsed": false,
    "jupyter": {
     "outputs_hidden": false
    },
    "ExecuteTime": {
     "end_time": "2024-10-04T15:44:27.789780Z",
     "start_time": "2024-10-04T15:44:22.126884Z"
    }
   },
   "source": [
    "# You can also build Chains, which are just a sequence of links. There are two types of chains: LinearChain and Chain. \n",
    "# LinearChain is a sequence of links, while Chain is a collection of links that are invoked in the right order based on the input and output keys for each Link.\n",
    "\n",
    "# This is a LinearChain #\n",
    "#########################\n",
    "\n",
    "# Build some links\n",
    "link_opposite = Link(\n",
    "    template=StringTemplate(\n",
    "        \"What's the opposite of {A}? Reply with a few words max.\"\n",
    "    ),\n",
    "    name = 'opposite',\n",
    "    output_key=\"X\",\n",
    ")\n",
    "link_synonym = Link(\n",
    "    template=StringTemplate(\n",
    "        \"What's a synonym for {B}. Reply with one word.\"\n",
    "    ),\n",
    "    name='synonym',\n",
    "    output_key=\"Y\",\n",
    ")\n",
    "link_poem = Link(\n",
    "    template=StringTemplate(\n",
    "        \"Write a poem about {state}. Return only the poem, beginning with the title.\"\n",
    "    ),\n",
    "    name='poem',\n",
    "    output_key=\"Z\",\n",
    ")\n",
    "\n",
    "# Now build a LinearChain\n",
    "linear_chain = LinearChain(model=model, links=[link_opposite, link_synonym, concat_link, link_poem])\n",
    "\n",
    "# Run it\n",
    "result = linear_chain.run(input_dict={\"A\": \"A police officer\", \"B\": \"Hopeful\"})\n",
    "\n",
    "# Get the output\n",
    "print(result['state'])"
   ],
   "outputs": [
    {
     "name": "stdout",
     "output_type": "stream",
     "text": [
      "\u001B[1;32m[2024-10-04 17:44:22] [ℹ️ INFO] [links.run:203]              Executing <opposite> Link\u001B[0m\n",
      "\u001B[1;32m[2024-10-04 17:44:22] [ℹ️ INFO] [chains.run:266]             🔑 State keys: ['A', 'B', 'state', 'X'] (added: ['X', 'state'], removed: [])\u001B[0m\n",
      "\u001B[1;32m[2024-10-04 17:44:22] [ℹ️ INFO] [links.run:203]              Executing <synonym> Link\u001B[0m\n",
      "\u001B[1;32m[2024-10-04 17:44:23] [ℹ️ INFO] [chains.run:266]             🔑 State keys: ['A', 'B', 'state', 'X', 'Y'] (added: ['Y'], removed: [])\u001B[0m\n",
      "\u001B[1;32m[2024-10-04 17:44:23] [ℹ️ INFO] [links.run:122]              Executing Transformation Link\u001B[0m\n",
      "\u001B[1;32m[2024-10-04 17:44:23] [ℹ️ INFO] [chains.run:266]             🔑 State keys: ['A', 'B', 'state', 'X', 'Y', 'C'] (added: ['C'], removed: [])\u001B[0m\n",
      "\u001B[1;32m[2024-10-04 17:44:23] [ℹ️ INFO] [links.run:203]              Executing <poem> Link\u001B[0m\n",
      "\u001B[1;32m[2024-10-04 17:44:27] [ℹ️ INFO] [chains.run:266]             🔑 State keys: ['A', 'B', 'state', 'X', 'Y', 'C', 'Z'] (added: ['Z'], removed: [])\u001B[0m\n",
      "**A Glimmer in the Gloom**\n",
      "\n",
      "In shadows deep where whispers tread,  \n",
      "A criminal with dreams unfed,  \n",
      "He dances through the night’s embrace,  \n",
      "With a heart that yearns for a brighter space.  \n",
      "\n",
      "His hands have touched the tarnished gold,  \n",
      "Yet in his eyes, a story told,  \n",
      "Of hopes that shimmer, like stars unseen,  \n",
      "In the darkened alleys where he's been.  \n",
      "\n",
      "With every heist, a spark ignites,  \n",
      "A vision born of better nights,  \n",
      "Where kindness blooms on cobbled streets,  \n",
      "And laughter echoes, life’s true feats.  \n",
      "\n",
      "For in the game of wrong and right,  \n",
      "He seeks redemption in the moonlight,  \n",
      "A chance to turn his fate around,  \n",
      "To lay down roots on solid ground.  \n",
      "\n",
      "So as the sirens wail their tune,  \n",
      "He hears the promise of the sun and moon,  \n",
      "A criminal, yes, but more than that,  \n",
      "A dreamer lost, wearing hope like a hat.  \n",
      "\n",
      "With every step on this crooked way,  \n",
      "He charts a course to a brighter day,  \n",
      "For even in chains, where shadows blend,  \n",
      "An optimistic heart can always mend.  \n"
     ]
    }
   ],
   "execution_count": 16
  },
  {
   "cell_type": "code",
   "id": "6d1a3dc176bd9580",
   "metadata": {
    "collapsed": false,
    "jupyter": {
     "outputs_hidden": false
    },
    "ExecuteTime": {
     "end_time": "2024-10-04T15:44:27.803673Z",
     "start_time": "2024-10-04T15:44:27.800461Z"
    }
   },
   "source": [
    "# A LinearChain will take the presence of the 'state' key into account when invoking the next link.\n",
    "# A Chain will not. However, it has an extra 'feature' in the form of topological sorting. As long as a graph of links can be\n",
    "# extracted from the chain, and the input keys (that are not generated in the chain) are given, the chain will invoke the links in the right order.\n",
    "\n",
    "# This is a Chain #\n",
    "###################\n",
    "link_a = Link(\n",
    "    template=StringTemplate(\n",
    "        \"Capitalize this word: {A}. Only respond with the capitalized version\",\n",
    "    ),\n",
    "    name = 'opposite',\n",
    "    output_key=\"X\",\n",
    ")\n",
    "link_b = Link(\n",
    "    template=StringTemplate(\n",
    "        \"What's a synonym for {B}. Reply with one word.\", \n",
    "    ),\n",
    "    name='superlative',\n",
    "    output_key=\"Y\",\n",
    ")\n",
    "link_c = Link(\n",
    "    template=StringTemplate(\n",
    "        \"Combine {X} and {Y} and {C} in a meaningful sentence.\", \n",
    "    ),\n",
    "    name='sentence',\n",
    "    output_key=\"Z\",\n",
    ")\n",
    "chain = Chain(model=model, links=[link_c, link_a, link_b]) # Note that we can pass the links in any order\n",
    "\n",
    "# This is the sorted graph of links\n",
    "chain._topological_sort()"
   ],
   "outputs": [
    {
     "data": {
      "text/plain": [
       "[Link: superlative <['B']> -> <Y>,\n",
       " Link: opposite <['A']> -> <X>,\n",
       " Link: sentence <['X', 'C', 'Y']> -> <Z>]"
      ]
     },
     "execution_count": 17,
     "metadata": {},
     "output_type": "execute_result"
    }
   ],
   "execution_count": 17
  },
  {
   "cell_type": "code",
   "id": "f5fca5fd6f655679",
   "metadata": {
    "collapsed": false,
    "jupyter": {
     "outputs_hidden": false
    },
    "ExecuteTime": {
     "end_time": "2024-10-04T15:44:27.815402Z",
     "start_time": "2024-10-04T15:44:27.813086Z"
    }
   },
   "source": [
    "# Now we can run it\n",
    "try:\n",
    "    result = chain.run(input_dict={\"A\": \"A police officer\", \"B\": \"Hopeful\"})\n",
    "except Exception as e:\n",
    "    print(e)"
   ],
   "outputs": [
    {
     "name": "stdout",
     "output_type": "stream",
     "text": [
      "The following input keys are required: {'A', 'B', 'C'}. Missing: {'C'}\n"
     ]
    }
   ],
   "execution_count": 18
  },
  {
   "cell_type": "code",
   "id": "4dabac4f53177f1e",
   "metadata": {
    "collapsed": false,
    "jupyter": {
     "outputs_hidden": false
    },
    "ExecuteTime": {
     "end_time": "2024-10-04T15:44:30.510499Z",
     "start_time": "2024-10-04T15:44:27.825968Z"
    }
   },
   "source": [
    "# Woops, forgot something! There's no link that generates the 'C' key. We can pass it in though.\n",
    "result = chain.run(input_dict={\"A\": \"A police officer\", \"B\": \"Hopeful\", \"C\": \"a dog\"})\n",
    "print(result['state'])"
   ],
   "outputs": [
    {
     "name": "stdout",
     "output_type": "stream",
     "text": [
      "\u001B[1;32m[2024-10-04 17:44:27] [ℹ️ INFO] [links.run:203]              Executing <superlative> Link\u001B[0m\n",
      "\u001B[1;32m[2024-10-04 17:44:28] [ℹ️ INFO] [links.run:203]              Executing <opposite> Link\u001B[0m\n",
      "\u001B[1;32m[2024-10-04 17:44:29] [ℹ️ INFO] [links.run:203]              Executing <sentence> Link\u001B[0m\n",
      "The optimistic police officer smiled as he watched the playful dog frolic in the park, believing that small moments of joy like this could strengthen the bond between the community and the force.\n"
     ]
    }
   ],
   "execution_count": 19
  },
  {
   "cell_type": "code",
   "id": "fd6aa1cb2325cd41",
   "metadata": {
    "collapsed": false,
    "jupyter": {
     "outputs_hidden": false
    },
    "ExecuteTime": {
     "end_time": "2024-10-04T15:44:30.527572Z",
     "start_time": "2024-10-04T15:44:30.523951Z"
    }
   },
   "source": [
    "# Cycles are not allowed\n",
    "link_up = Link(\n",
    "    template=StringTemplate(\n",
    "        \"Capitalize this word: {up}. Only respond with the capitalized version\",\n",
    "    ),\n",
    "    name = 'up',\n",
    "    output_key=\"down\",\n",
    ")\n",
    "link_b = Link(\n",
    "    template=StringTemplate(\n",
    "        \"What's a synonym for {down}. Reply with one word.\", \n",
    "    ),\n",
    "    name='down',\n",
    "    output_key=\"up\",\n",
    ")\n",
    "chain = Chain(model=model, links=[link_up, link_b])\n",
    "try:\n",
    "    chain.run(input_dict={\"up\": \"happy\"})\n",
    "except Exception as e:\n",
    "    print(e)"
   ],
   "outputs": [
    {
     "name": "stdout",
     "output_type": "stream",
     "text": [
      "Cycle detected in the dependency graph.\n"
     ]
    }
   ],
   "execution_count": 20
  },
  {
   "cell_type": "code",
   "id": "b3a8561144f1584c",
   "metadata": {
    "collapsed": false,
    "jupyter": {
     "outputs_hidden": false
    },
    "ExecuteTime": {
     "end_time": "2024-10-04T15:44:30.541089Z",
     "start_time": "2024-10-04T15:44:30.539519Z"
    }
   },
   "source": [],
   "outputs": [],
   "execution_count": null
  },
  {
   "metadata": {},
   "cell_type": "code",
   "outputs": [],
   "execution_count": null,
   "source": "",
   "id": "1688858b2321221"
  }
 ],
 "metadata": {
  "kernelspec": {
   "display_name": "Python 3 (ipykernel)",
   "language": "python",
   "name": "python3"
  },
  "language_info": {
   "codemirror_mode": {
    "name": "ipython",
    "version": 3
   },
   "file_extension": ".py",
   "mimetype": "text/x-python",
   "name": "python",
   "nbconvert_exporter": "python",
   "pygments_lexer": "ipython3",
   "version": "3.12.4"
  }
 },
 "nbformat": 4,
 "nbformat_minor": 5
}
