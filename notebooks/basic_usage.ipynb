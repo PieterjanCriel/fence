{
 "cells": [
  {
   "cell_type": "markdown",
   "id": "4e010e381f4d1bbe",
   "metadata": {
    "collapsed": false,
    "jupyter": {
     "outputs_hidden": false
    }
   },
   "source": [
    "# 🤺 Fence demo\n",
    "\n",
    "This notebook demonstrates the use of various classes in this package. The core intent of this package is to provide a framework for interacting with language models in a way that is modular, extensible, and easy to use. The core classes are:\n",
    "- `PromptTemplate`: A template for a prompt that can be rendered with a dictionary of variables (or using keywords). It wraps around jinja2.Template, but adds some additional functionality.\n",
    "- `LLM`: A wrapper around a language model. \n",
    "- `Link`: Atomic LLM interaction wrapper. Takes in a PromptTemplate and a language model. It can be invoked with a dictionary of variables, and will return a dictionary of variables.\n",
    "- `TransformationLink`: A wrapper around a `function` that takes a dictionary of variables and returns a dictionary of variables. It can be invoked with a dictionary of variables, and will return a dictionary of variables.\n",
    "- `Chain`: A collection of links that are invoked in the right order based on the input and output keys for each Link.\n",
    "- `LinearChain`: A sequence of links that are invoked in the order they are passed in.\n",
    "\n",
    "Through these classes, we can interact with LLMs in varying degrees of complexity:\n",
    "1. Just call the model directly\n",
    "2. Use a `PromptTemplate` for reusability and abstraction\n",
    "3. Use a `Link` for atomic LLM interaction\n",
    "4. Use a `Chain` to execute a collection of `Links`\n",
    "\n",
    "Below, we'll go through each of these levels of complexity and provide examples.\n",
    "\n",
    "**Note** This notebook assumes you have access to AWS Bedrock, as we use Bedrock's Claude-instant model to fuel our LLM interactions."
   ]
  },
  {
   "cell_type": "code",
   "id": "a937d38e",
   "metadata": {
    "ExecuteTime": {
     "end_time": "2025-01-30T09:39:29.725553Z",
     "start_time": "2025-01-30T09:39:29.722961Z"
    }
   },
   "source": [
    "from pathlib import Path\n",
    "current_dir = Path('.').resolve().parents[0]\n",
    "import sys\n",
    "sys.path.append(str(current_dir))"
   ],
   "outputs": [],
   "execution_count": 1
  },
  {
   "metadata": {
    "ExecuteTime": {
     "end_time": "2025-01-30T09:39:29.966153Z",
     "start_time": "2025-01-30T09:39:29.737805Z"
    }
   },
   "cell_type": "code",
   "source": [
    "%load_ext autoreload\n",
    "from fence.models.bedrock.claude import ClaudeInstant\n",
    "from fence.models.bedrock.claude import Claude35Sonnet\n",
    "from fence.models.openai import GPT4omini\n",
    "from fence.templates.string import StringTemplate\n",
    "from fence.templates.messages import MessagesTemplate, Messages, Message\n",
    "from fence.links import Link, TransformationLink\n",
    "from fence.chains import Chain, LinearChain"
   ],
   "id": "d5a08a1007e6fa35",
   "outputs": [],
   "execution_count": 2
  },
  {
   "metadata": {},
   "cell_type": "markdown",
   "source": "## ⚙️ Setting up",
   "id": "1aa24e1159152eb7"
  },
  {
   "metadata": {
    "ExecuteTime": {
     "end_time": "2025-01-30T09:39:30.151647Z",
     "start_time": "2025-01-30T09:39:30.056526Z"
    }
   },
   "cell_type": "code",
   "source": [
    "# Get our model\n",
    "model = Claude35Sonnet(source='demo_notebook', region='us-east-1')\n",
    "model = GPT4omini(source='demo_notebook')"
   ],
   "id": "a61082844097188f",
   "outputs": [],
   "execution_count": 3
  },
  {
   "cell_type": "markdown",
   "id": "efabe783b73b8ec7",
   "metadata": {
    "collapsed": false,
    "jupyter": {
     "outputs_hidden": false
    }
   },
   "source": [
    "### 🪨 Level 1 - Just call the damn thing"
   ]
  },
  {
   "cell_type": "code",
   "id": "950662b95a79575c",
   "metadata": {
    "collapsed": false,
    "jupyter": {
     "outputs_hidden": false
    },
    "ExecuteTime": {
     "end_time": "2025-01-30T09:39:35.535660Z",
     "start_time": "2025-01-30T09:39:30.156039Z"
    }
   },
   "source": [
    "# Use the invoke method to call the model\n",
    "model.invoke('Why is the sky blue?')"
   ],
   "outputs": [
    {
     "data": {
      "text/plain": [
       "\"The sky appears blue due to a phenomenon called Rayleigh scattering. When sunlight enters Earth's atmosphere, it is made up of various colors, each corresponding to different wavelengths. Blue light has a shorter wavelength compared to other colors like red and yellow.\\n\\nAs sunlight passes through the atmosphere, molecules and small particles scatter the shorter wavelengths of light (blue) more than the longer wavelengths (red). This scattering causes the blue light to be diffused in all directions, and as a result, when we look up at the sky, we see it predominantly as blue.\\n\\nDuring sunrise and sunset, the sun is positioned lower on the horizon, and its light has to pass through a greater thickness of the atmosphere. This extra distance scatters even more of the blue and green light, allowing the longer wavelengths like red and orange to become more prominent, which is why we see those colors during those times.\""
      ]
     },
     "execution_count": 4,
     "metadata": {},
     "output_type": "execute_result"
    }
   ],
   "execution_count": 4
  },
  {
   "cell_type": "code",
   "id": "22c4da28c3c3d3b0",
   "metadata": {
    "collapsed": false,
    "jupyter": {
     "outputs_hidden": false
    },
    "ExecuteTime": {
     "end_time": "2025-01-30T09:39:39.982161Z",
     "start_time": "2025-01-30T09:39:35.550472Z"
    }
   },
   "source": [
    "# Just call the damn thing\n",
    "model('Why is the sky blue?')"
   ],
   "outputs": [
    {
     "data": {
      "text/plain": [
       "\"The sky appears blue due to a phenomenon called Rayleigh scattering. When sunlight enters the Earth's atmosphere, it is made up of various colors, each with different wavelengths. Blue light has a shorter wavelength than other colors, such as red and yellow.\\n\\nAs sunlight interacts with the gases and particles in the atmosphere, shorter wavelengths (like blue) scatter more effectively than longer wavelengths (like red). This scattering causes the blue light to spread out in all directions, making the sky appear blue to our eyes during the day.\\n\\nAt sunrise and sunset, the sun's light passes through a thicker layer of atmosphere, scattering more of the shorter wavelengths out of direct sight and allowing the longer wavelengths, such as red and orange, to dominate the sky's colors during those times.\""
      ]
     },
     "execution_count": 5,
     "metadata": {},
     "output_type": "execute_result"
    }
   ],
   "execution_count": 5
  },
  {
   "cell_type": "markdown",
   "id": "632046188100875d",
   "metadata": {
    "collapsed": false,
    "jupyter": {
     "outputs_hidden": false
    }
   },
   "source": [
    "### 🔨 Level 2 - Use a PromptTemplate"
   ]
  },
  {
   "cell_type": "code",
   "id": "afe2b6d1d4078270",
   "metadata": {
    "collapsed": false,
    "jupyter": {
     "outputs_hidden": false
    },
    "ExecuteTime": {
     "end_time": "2025-01-30T09:39:40.009682Z",
     "start_time": "2025-01-30T09:39:40.007676Z"
    }
   },
   "source": [
    "# Initialize a prompt template\n",
    "prompt_template = StringTemplate('Why is the sky {color}?')\n",
    "print(prompt_template)"
   ],
   "outputs": [
    {
     "name": "stdout",
     "output_type": "stream",
     "text": [
      "StringTemplate: Why is the sky {color}?\n"
     ]
    }
   ],
   "execution_count": 6
  },
  {
   "cell_type": "code",
   "id": "9901374952217046",
   "metadata": {
    "collapsed": false,
    "jupyter": {
     "outputs_hidden": false
    },
    "ExecuteTime": {
     "end_time": "2025-01-30T09:39:40.090246Z",
     "start_time": "2025-01-30T09:39:40.087655Z"
    }
   },
   "source": [
    "# Render it with a dictionary\n",
    "print(prompt_template.render({'color': 'blue'}))\n",
    "\n",
    "# Render it with keyword arguments\n",
    "print(prompt_template.render(color='red'))\n",
    "\n",
    "# Input dict takes precedence over keyword arguments\n",
    "print(prompt_template.render(input_dict={'color': 'blue'}, color='red'))"
   ],
   "outputs": [
    {
     "name": "stdout",
     "output_type": "stream",
     "text": [
      "Why is the sky blue?\n",
      "Why is the sky red?\n",
      "Why is the sky red?\n"
     ]
    }
   ],
   "execution_count": 7
  },
  {
   "cell_type": "code",
   "id": "a5dca91633a69af",
   "metadata": {
    "collapsed": false,
    "jupyter": {
     "outputs_hidden": false
    },
    "ExecuteTime": {
     "end_time": "2025-01-30T09:39:40.168548Z",
     "start_time": "2025-01-30T09:39:40.166462Z"
    }
   },
   "source": [
    "# You can concatenate prompt templates, input variables are merged\n",
    "prompt_template_sky = StringTemplate('Why is the sky {color}?')\n",
    "prompt_template_grass = StringTemplate('Why is the grass {color}?')\n",
    "prompt_template_dress = StringTemplate('I like a dress with {pattern}.')\n",
    "combined_prompt_template = prompt_template_sky + prompt_template_grass + prompt_template_dress\n",
    "print(combined_prompt_template)\n",
    "print(combined_prompt_template.render({'color': 'blue', 'pattern': 'polka dots'}))"
   ],
   "outputs": [
    {
     "name": "stdout",
     "output_type": "stream",
     "text": [
      "StringTemplate: Why is the sky {color}? Why is the grass {color}? I like a dress with {pattern}.\n",
      "Why is the sky blue? Why is the grass blue? I like a dress with polka dots.\n"
     ]
    }
   ],
   "execution_count": 8
  },
  {
   "cell_type": "code",
   "id": "9d7766d8c7a53b12",
   "metadata": {
    "collapsed": false,
    "jupyter": {
     "outputs_hidden": false
    },
    "ExecuteTime": {
     "end_time": "2025-01-30T09:39:40.202499Z",
     "start_time": "2025-01-30T09:39:40.200495Z"
    }
   },
   "source": [
    "# You can customize the separator\n",
    "base_template = StringTemplate('Why is the sky {color}?', separator=' FUNKY TOWN ')\n",
    "additional_template = StringTemplate('Why is the grass {color}?')\n",
    "print((base_template + additional_template).render({'color': 'blue'}))"
   ],
   "outputs": [
    {
     "name": "stdout",
     "output_type": "stream",
     "text": [
      "Why is the sky blue? FUNKY TOWN Why is the grass blue?\n"
     ]
    }
   ],
   "execution_count": 9
  },
  {
   "metadata": {
    "ExecuteTime": {
     "end_time": "2025-01-30T09:39:40.219866Z",
     "start_time": "2025-01-30T09:39:40.217703Z"
    }
   },
   "cell_type": "code",
   "source": [
    "# You can also use the MessagesTemplates for more complex prompts\n",
    "messages = Messages(\n",
    "    system='Respond in a {tone} tone',\n",
    "    messages= [\n",
    "        Message(role=\"user\", content=\"Why is the sky {color}?\"),\n",
    "        # Equivalent to Message(role='user', content=Content(type='text', text='Why is the sky blue?'))\n",
    "        # But Content can also be an image, etc.\n",
    "    ]\n",
    ")\n",
    "messages_template = MessagesTemplate(\n",
    "    source=messages\n",
    ")\n",
    "print(messages_template)\n",
    "print(f\"\\nRendered: {messages_template.render(tone='sarcastic', color='blue')}\")"
   ],
   "id": "c6c3140b13ae4f",
   "outputs": [
    {
     "name": "stdout",
     "output_type": "stream",
     "text": [
      "MessagesTemplate: messages=[Message(role='user', content='Why is the sky {color}?')] system='Respond in a {tone} tone'\n",
      "\n",
      "Rendered: messages=[Message(role='user', content='Why is the sky blue?')] system='Respond in a sarcastic tone'\n"
     ]
    }
   ],
   "execution_count": 10
  },
  {
   "cell_type": "markdown",
   "id": "8e5617e437fb30fc",
   "metadata": {
    "collapsed": false,
    "jupyter": {
     "outputs_hidden": false
    }
   },
   "source": [
    "### 🧠 Level 3 - Use Links (lol)\n",
    "\n",
    "What are Links? In this context, they represent atomic components of LLM interaction. That means they should be able to be strung together to form a Chain, although they can be used independently as well."
   ]
  },
  {
   "cell_type": "code",
   "id": "219ef991de4352a6",
   "metadata": {
    "collapsed": false,
    "jupyter": {
     "outputs_hidden": false
    },
    "ExecuteTime": {
     "end_time": "2025-01-30T09:39:40.236409Z",
     "start_time": "2025-01-30T09:39:40.234582Z"
    }
   },
   "source": [
    "# The simplest link is the Link class, which just takes a prompt template and a model\n",
    "link = Link(template=prompt_template, model=model)\n",
    "print(link)"
   ],
   "outputs": [
    {
     "name": "stdout",
     "output_type": "stream",
     "text": [
      "Link: <['color']> -> <state>\n"
     ]
    }
   ],
   "execution_count": 11
  },
  {
   "cell_type": "code",
   "id": "3a1279bdd677c524",
   "metadata": {
    "collapsed": false,
    "jupyter": {
     "outputs_hidden": false
    },
    "ExecuteTime": {
     "end_time": "2025-01-30T09:39:43.977792Z",
     "start_time": "2025-01-30T09:39:40.270505Z"
    }
   },
   "source": [
    "# Invoke it\n",
    "link(color='blue') # Or, equivalently, link.run(input_dict={'color': 'blue'})"
   ],
   "outputs": [
    {
     "data": {
      "text/plain": [
       "{'state': \"The sky appears blue primarily due to a phenomenon called Rayleigh scattering. When sunlight enters Earth's atmosphere, it consists of various colors of light, each with different wavelengths. Blue light has a shorter wavelength compared to other colors like red or yellow.\\n\\nAs sunlight passes through the atmosphere, it encounters molecules and small particles, which scatter the shorter wavelengths of light more effectively than the longer wavelengths. Because blue light is scattered in all directions, it becomes the dominant color we see when we look up at the sky.\\n\\nDuring sunrise and sunset, when the sun is lower on the horizon, the light has to travel through a greater thickness of the atmosphere. This greater distance causes more scattering of the shorter wavelengths and allows the longer wavelengths, like red and orange, to dominate the sky's color during these times.\"}"
      ]
     },
     "execution_count": 12,
     "metadata": {},
     "output_type": "execute_result"
    }
   ],
   "execution_count": 12
  },
  {
   "cell_type": "code",
   "id": "884bda0b4dca2512",
   "metadata": {
    "collapsed": false,
    "jupyter": {
     "outputs_hidden": false
    },
    "ExecuteTime": {
     "end_time": "2025-01-30T09:39:47.515468Z",
     "start_time": "2025-01-30T09:39:43.993514Z"
    }
   },
   "source": [
    "# By default, output is stored under 'state'. You can get a copy (e.g., for inspection of intermediate results) by passing a different output key\n",
    "link = Link(template=prompt_template, model=model, output_key='intermediate')\n",
    "link.run(input_dict={'color': 'blue'})"
   ],
   "outputs": [
    {
     "data": {
      "text/plain": [
       "{'state': \"The sky appears blue primarily due to a phenomenon called Rayleigh scattering. When sunlight enters Earth's atmosphere, it is composed of multiple colors, each with different wavelengths. Blue light has a shorter wavelength compared to other colors like red or yellow.\\n\\nAs sunlight interacts with the gases and particles in the atmosphere, shorter wavelengths (blue light) are scattered in all directions more effectively than longer wavelengths (like red). This scattering causes the blue light to be more prominent, making the sky appear blue to our eyes.\\n\\nAdditionally, the angle of the sun affects the color of the sky. During sunrise and sunset, the sun's light passes through a thicker layer of the atmosphere, scattering shorter wavelengths out of the direct line of sight more than at midday. This is why the sky can appear red, orange, or pink during those times.\",\n",
       " 'intermediate': \"The sky appears blue primarily due to a phenomenon called Rayleigh scattering. When sunlight enters Earth's atmosphere, it is composed of multiple colors, each with different wavelengths. Blue light has a shorter wavelength compared to other colors like red or yellow.\\n\\nAs sunlight interacts with the gases and particles in the atmosphere, shorter wavelengths (blue light) are scattered in all directions more effectively than longer wavelengths (like red). This scattering causes the blue light to be more prominent, making the sky appear blue to our eyes.\\n\\nAdditionally, the angle of the sun affects the color of the sky. During sunrise and sunset, the sun's light passes through a thicker layer of the atmosphere, scattering shorter wavelengths out of the direct line of sight more than at midday. This is why the sky can appear red, orange, or pink during those times.\"}"
      ]
     },
     "execution_count": 13,
     "metadata": {},
     "output_type": "execute_result"
    }
   ],
   "execution_count": 13
  },
  {
   "cell_type": "code",
   "id": "52913f8c6dece54e",
   "metadata": {
    "collapsed": false,
    "jupyter": {
     "outputs_hidden": false
    },
    "ExecuteTime": {
     "end_time": "2025-01-30T09:39:53.436707Z",
     "start_time": "2025-01-30T09:39:47.536885Z"
    }
   },
   "source": [
    "# You can name your links for easier debugging in logs\n",
    "link = Link(template=prompt_template, model=model, name='sky')\n",
    "link.run(input_dict={'color': 'blue'})"
   ],
   "outputs": [
    {
     "data": {
      "text/plain": [
       "{'state': \"The sky appears blue primarily due to a phenomenon known as Rayleigh scattering. When sunlight enters the Earth's atmosphere, it is made up of different colors of light, each with different wavelengths. Blue light has a shorter wavelength compared to other colors like red or yellow.\\n\\nAs sunlight passes through the atmosphere, it interacts with gas molecules and small particles. Because blue light is scattered in all directions more than the other colors due to its shorter wavelength, it becomes the dominant color we see when we look up at the sky.\\n\\nDuring sunrise and sunset, the sky can take on shades of red or orange. This is because the sun's light passes through a thicker layer of the Earth's atmosphere, scattering shorter wavelengths like blue and allowing the longer wavelengths of red and orange to become more visible.\\n\\nSo, in summary, the blue color of the sky is due to the scattering of sunlight by the atmosphere, with blue light being scattered more than other colors.\"}"
      ]
     },
     "execution_count": 14,
     "metadata": {},
     "output_type": "execute_result"
    }
   ],
   "execution_count": 14
  },
  {
   "cell_type": "code",
   "id": "460c06d5b33c6e87",
   "metadata": {
    "collapsed": false,
    "jupyter": {
     "outputs_hidden": false
    },
    "ExecuteTime": {
     "end_time": "2025-01-30T09:39:53.461521Z",
     "start_time": "2025-01-30T09:39:53.458092Z"
    }
   },
   "source": [
    "# You can also build TransformationLinks, which take a function that transforms any input_dict into a specific output\n",
    "def concatenate(input: dict):\n",
    "    return f\"{input['X']} and {input['Y']}\"\n",
    "\n",
    "concat_link = TransformationLink(\n",
    "    input_keys=[\"X\", \"Y\"], function=concatenate, output_key=\"C\"\n",
    ")\n",
    "\n",
    "concat_link.run(input_dict={\"X\": \"Hello\", \"Y\": \"World\"})"
   ],
   "outputs": [
    {
     "data": {
      "text/plain": [
       "{'state': 'Hello and World', 'C': 'Hello and World'}"
      ]
     },
     "execution_count": 15,
     "metadata": {},
     "output_type": "execute_result"
    }
   ],
   "execution_count": 15
  },
  {
   "cell_type": "markdown",
   "id": "c83119613a5ecf54",
   "metadata": {
    "collapsed": false,
    "jupyter": {
     "outputs_hidden": false
    }
   },
   "source": [
    "### 🚀 Level 4 - Use Chains (lol again)"
   ]
  },
  {
   "cell_type": "code",
   "id": "a86436d806745ef0",
   "metadata": {
    "collapsed": false,
    "jupyter": {
     "outputs_hidden": false
    },
    "ExecuteTime": {
     "end_time": "2025-01-30T09:39:59.882356Z",
     "start_time": "2025-01-30T09:39:53.477224Z"
    }
   },
   "source": [
    "# You can also build Chains, which are just a sequence of links. There are two types of chains: LinearChain and Chain. \n",
    "# LinearChain is a sequence of links, while Chain is a collection of links that are invoked in the right order based on the input and output keys for each Link.\n",
    "\n",
    "# This is a LinearChain #\n",
    "#########################\n",
    "\n",
    "# Build some links\n",
    "link_opposite = Link(\n",
    "    template=StringTemplate(\n",
    "        \"What's the opposite of {A}? Reply with a few words max.\"\n",
    "    ),\n",
    "    name = 'opposite',\n",
    "    output_key=\"X\",\n",
    ")\n",
    "link_synonym = Link(\n",
    "    template=StringTemplate(\n",
    "        \"What's a synonym for {B}. Reply with one word.\"\n",
    "    ),\n",
    "    name='synonym',\n",
    "    output_key=\"Y\",\n",
    ")\n",
    "link_poem = Link(\n",
    "    template=StringTemplate(\n",
    "        \"Write a poem about {state}. Return only the poem, beginning with the title.\"\n",
    "    ),\n",
    "    name='poem',\n",
    "    output_key=\"Z\",\n",
    ")\n",
    "\n",
    "# Now build a LinearChain\n",
    "linear_chain = LinearChain(model=model, links=[link_opposite, link_synonym, concat_link, link_poem])\n",
    "\n",
    "# Run it\n",
    "result = linear_chain.run(input_dict={\"A\": \"A police officer\", \"B\": \"Hopeful\"})\n",
    "\n",
    "# Get the output\n",
    "print(result['state'])"
   ],
   "outputs": [
    {
     "name": "stdout",
     "output_type": "stream",
     "text": [
      "**The Optimistic Thief**\n",
      "\n",
      "In shadows deep, where echoes call,  \n",
      "A criminal weaves through the midnight thrall,  \n",
      "With nimble fingers and a heart of steel,  \n",
      "He dances with fate, his fortune to steal.  \n",
      "\n",
      "Yet behind those eyes, a flicker of light,  \n",
      "A dream yet unbroken, a goal in the night,  \n",
      "For every heist played with cunning and grace,  \n",
      "Hides a spark of redemption he longs to embrace.  \n",
      "\n",
      "With a heart full of dreams and a mind set on fire,  \n",
      "He steals not for gold, but to chase a desire,  \n",
      "To rewrite his story, to challenge the fate,  \n",
      "To rise from the ashes, no longer sedate.  \n",
      "\n",
      "Each lock that he picks is a door to his soul,  \n",
      "Each risk that he takes is a step toward his goal,  \n",
      "For deep in the darkness, he dares to believe,  \n",
      "That even a criminal can learn to achieve.  \n",
      "\n",
      "So he threads through the city, with hope as his guide,  \n",
      "A rogue with a vision, a pulse of the tide,  \n",
      "In a world full of chaos, one truth he holds dear:  \n",
      "Even stars shine brighter when the night's crystal clear.\n"
     ]
    }
   ],
   "execution_count": 16
  },
  {
   "cell_type": "code",
   "id": "6d1a3dc176bd9580",
   "metadata": {
    "collapsed": false,
    "jupyter": {
     "outputs_hidden": false
    },
    "ExecuteTime": {
     "end_time": "2025-01-30T09:39:59.908712Z",
     "start_time": "2025-01-30T09:39:59.905072Z"
    }
   },
   "source": [
    "# A LinearChain will take the presence of the 'state' key into account when invoking the next link.\n",
    "# A Chain will not. However, it has an extra 'feature' in the form of topological sorting. As long as a graph of links can be\n",
    "# extracted from the chain, and the input keys (that are not generated in the chain) are given, the chain will invoke the links in the right order.\n",
    "\n",
    "# This is a Chain #\n",
    "###################\n",
    "link_a = Link(\n",
    "    template=StringTemplate(\n",
    "        \"Capitalize this word: {A}. Only respond with the capitalized version\",\n",
    "    ),\n",
    "    name = 'opposite',\n",
    "    output_key=\"X\",\n",
    ")\n",
    "link_b = Link(\n",
    "    template=StringTemplate(\n",
    "        \"What's a synonym for {B}. Reply with one word.\", \n",
    "    ),\n",
    "    name='superlative',\n",
    "    output_key=\"Y\",\n",
    ")\n",
    "link_c = Link(\n",
    "    template=StringTemplate(\n",
    "        \"Combine {X} and {Y} and {C} in a meaningful sentence.\", \n",
    "    ),\n",
    "    name='sentence',\n",
    "    output_key=\"Z\",\n",
    ")\n",
    "chain = Chain(model=model, links=[link_c, link_a, link_b]) # Note that we can pass the links in any order\n",
    "\n",
    "# This is the sorted graph of links\n",
    "chain._topological_sort()"
   ],
   "outputs": [
    {
     "data": {
      "text/plain": [
       "[Link: superlative <['B']> -> <Y>,\n",
       " Link: opposite <['A']> -> <X>,\n",
       " Link: sentence <['Y', 'X', 'C']> -> <Z>]"
      ]
     },
     "execution_count": 17,
     "metadata": {},
     "output_type": "execute_result"
    }
   ],
   "execution_count": 17
  },
  {
   "cell_type": "code",
   "id": "f5fca5fd6f655679",
   "metadata": {
    "collapsed": false,
    "jupyter": {
     "outputs_hidden": false
    },
    "ExecuteTime": {
     "end_time": "2025-01-30T09:39:59.987194Z",
     "start_time": "2025-01-30T09:39:59.984799Z"
    }
   },
   "source": [
    "# Now we can run it\n",
    "try:\n",
    "    result = chain.run(input_dict={\"A\": \"A police officer\", \"B\": \"Hopeful\"})\n",
    "except Exception as e:\n",
    "    print(e)"
   ],
   "outputs": [
    {
     "name": "stdout",
     "output_type": "stream",
     "text": [
      "The following input keys are required: {'B', 'C', 'A'}. Missing: {'C'}\n"
     ]
    }
   ],
   "execution_count": 18
  },
  {
   "cell_type": "code",
   "id": "4dabac4f53177f1e",
   "metadata": {
    "collapsed": false,
    "jupyter": {
     "outputs_hidden": false
    },
    "ExecuteTime": {
     "end_time": "2025-01-30T09:40:03.597447Z",
     "start_time": "2025-01-30T09:40:00.086754Z"
    }
   },
   "source": [
    "# Woops, forgot something! There's no link that generates the 'C' key. We can pass it in though.\n",
    "result = chain.run(input_dict={\"A\": \"A police officer\", \"B\": \"Hopeful\", \"C\": \"a dog\"})\n",
    "print(result['state'])"
   ],
   "outputs": [
    {
     "name": "stdout",
     "output_type": "stream",
     "text": [
      "The optimistic police officer smiled as his loyal dog trotted happily by his side, ready to bring joy and safety to their community.\n"
     ]
    }
   ],
   "execution_count": 19
  },
  {
   "cell_type": "code",
   "id": "fd6aa1cb2325cd41",
   "metadata": {
    "collapsed": false,
    "jupyter": {
     "outputs_hidden": false
    },
    "ExecuteTime": {
     "end_time": "2025-01-30T09:40:03.620698Z",
     "start_time": "2025-01-30T09:40:03.617620Z"
    }
   },
   "source": [
    "# Cycles are not allowed\n",
    "link_up = Link(\n",
    "    template=StringTemplate(\n",
    "        \"Capitalize this word: {up}. Only respond with the capitalized version\",\n",
    "    ),\n",
    "    name = 'up',\n",
    "    output_key=\"down\",\n",
    ")\n",
    "link_b = Link(\n",
    "    template=StringTemplate(\n",
    "        \"What's a synonym for {down}. Reply with one word.\", \n",
    "    ),\n",
    "    name='down',\n",
    "    output_key=\"up\",\n",
    ")\n",
    "chain = Chain(model=model, links=[link_up, link_b])\n",
    "try:\n",
    "    chain.run(input_dict={\"up\": \"happy\"})\n",
    "except Exception as e:\n",
    "    print(e)"
   ],
   "outputs": [
    {
     "name": "stdout",
     "output_type": "stream",
     "text": [
      "Cycle detected in the dependency graph.\n"
     ]
    }
   ],
   "execution_count": 20
  },
  {
   "cell_type": "code",
   "id": "b3a8561144f1584c",
   "metadata": {
    "collapsed": false,
    "jupyter": {
     "outputs_hidden": false
    },
    "ExecuteTime": {
     "end_time": "2025-01-30T09:40:03.687960Z",
     "start_time": "2025-01-30T09:40:03.686251Z"
    }
   },
   "source": [],
   "outputs": [],
   "execution_count": null
  },
  {
   "metadata": {
    "ExecuteTime": {
     "end_time": "2025-01-30T09:40:03.702174Z",
     "start_time": "2025-01-30T09:40:03.700710Z"
    }
   },
   "cell_type": "code",
   "source": "",
   "id": "1688858b2321221",
   "outputs": [],
   "execution_count": null
  }
 ],
 "metadata": {
  "kernelspec": {
   "display_name": "Python 3 (ipykernel)",
   "language": "python",
   "name": "python3"
  },
  "language_info": {
   "codemirror_mode": {
    "name": "ipython",
    "version": 3
   },
   "file_extension": ".py",
   "mimetype": "text/x-python",
   "name": "python",
   "nbconvert_exporter": "python",
   "pygments_lexer": "ipython3",
   "version": "3.12.4"
  }
 },
 "nbformat": 4,
 "nbformat_minor": 5
}
