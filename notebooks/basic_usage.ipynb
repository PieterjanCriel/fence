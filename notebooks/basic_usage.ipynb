{
 "cells": [
  {
   "cell_type": "markdown",
   "id": "4e010e381f4d1bbe",
   "metadata": {
    "collapsed": false,
    "jupyter": {
     "outputs_hidden": false
    }
   },
   "source": [
    "# 🤺 Demo: Basic usage\n",
    "\n",
    "This notebook demonstrates the use of various classes in this package. The core intent of this package is to provide a framework for interacting with language models in a way that is modular, extensible, and easy to use. \n",
    "\n",
    "Through these classes, we can interact with LLMs in varying degrees of complexity:\n",
    "1. Just call the model directly\n",
    "2. Use a `Template` for reusability and abstraction\n",
    "3. Use a `Link` for atomic LLM interaction\n",
    "4. Use a `Chain` to execute a collection of `Links`\n",
    "\n",
    "Below, we'll go through each of these levels of complexity and provide examples.\n",
    "\n",
    "**Note** This notebook assumes you have access to AWS Bedrock, as we use Bedrock's Claude-instant model to fuel our LLM interactions."
   ]
  },
  {
   "cell_type": "code",
   "execution_count": 1,
   "id": "a937d38e",
   "metadata": {
    "ExecuteTime": {
     "end_time": "2025-03-06T12:42:45.427383Z",
     "start_time": "2025-03-06T12:42:45.419422Z"
    }
   },
   "outputs": [],
   "source": [
    "from pathlib import Path\n",
    "current_dir = Path('.').resolve().parents[0]\n",
    "import sys\n",
    "sys.path.append(str(current_dir))"
   ]
  },
  {
   "cell_type": "code",
   "execution_count": 2,
   "id": "d5a08a1007e6fa35",
   "metadata": {
    "ExecuteTime": {
     "end_time": "2025-03-06T12:42:45.442894Z",
     "start_time": "2025-03-06T12:42:45.437803Z"
    }
   },
   "outputs": [],
   "source": [
    "%load_ext autoreload\n",
    "from fence.models.bedrock.claude import Claude35Sonnet\n",
    "from fence.models.openai import GPT4omini\n",
    "from fence.templates.string import StringTemplate\n",
    "from fence.templates.messages import MessagesTemplate, Messages, Message\n",
    "from fence.links import Link, TransformationLink\n",
    "from fence.chains import Chain, LinearChain"
   ]
  },
  {
   "cell_type": "markdown",
   "id": "1aa24e1159152eb7",
   "metadata": {},
   "source": [
    "## ⚙️ Setting up"
   ]
  },
  {
   "cell_type": "code",
   "execution_count": 3,
   "id": "a61082844097188f",
   "metadata": {
    "ExecuteTime": {
     "end_time": "2025-03-06T12:42:45.490401Z",
     "start_time": "2025-03-06T12:42:45.476366Z"
    }
   },
   "outputs": [],
   "source": [
    "# Get our model\n",
    "model = Claude35Sonnet(source='demo_notebook', region='us-east-1')\n",
    "model = GPT4omini(source='demo_notebook')"
   ]
  },
  {
   "cell_type": "markdown",
   "id": "efabe783b73b8ec7",
   "metadata": {
    "collapsed": false,
    "jupyter": {
     "outputs_hidden": false
    }
   },
   "source": [
    "### 🪨 Level 1 - Just call the damn thing"
   ]
  },
  {
   "cell_type": "code",
   "execution_count": 4,
   "id": "950662b95a79575c",
   "metadata": {
    "ExecuteTime": {
     "end_time": "2025-03-06T12:42:49.844528Z",
     "start_time": "2025-03-06T12:42:45.499513Z"
    },
    "collapsed": false,
    "jupyter": {
     "outputs_hidden": false
    }
   },
   "outputs": [
    {
     "data": {
      "text/plain": [
       "\"The sky appears blue primarily due to a phenomenon called Rayleigh scattering. When sunlight enters Earth's atmosphere, it is made up of different colors, which correspond to different wavelengths. Blue light has a shorter wavelength compared to other colors like red or yellow.\\n\\nAs sunlight passes through the atmosphere, it collides with air molecules and small particles. The shorter wavelengths of blue light are scattered in all directions more effectively than the longer wavelengths of red light. This scattering causes blue light to dominate the colors that we see when we look up at the sky.\\n\\nDuring sunrise and sunset, the sun's light has to travel through a thicker layer of the atmosphere, which scatters the shorter blue wavelengths out of direct sight and allows the longer wavelengths (reds and oranges) to be more prominent. This is why we often see beautiful colors during those times.\""
      ]
     },
     "execution_count": 4,
     "metadata": {},
     "output_type": "execute_result"
    }
   ],
   "source": [
    "# Use the invoke method to call the model\n",
    "model.invoke('Why is the sky blue?')"
   ]
  },
  {
   "cell_type": "code",
   "execution_count": 5,
   "id": "22c4da28c3c3d3b0",
   "metadata": {
    "ExecuteTime": {
     "end_time": "2025-03-06T12:42:52.416754Z",
     "start_time": "2025-03-06T12:42:49.852555Z"
    },
    "collapsed": false,
    "jupyter": {
     "outputs_hidden": false
    }
   },
   "outputs": [
    {
     "data": {
      "text/plain": [
       "\"The sky appears blue primarily due to a phenomenon called Rayleigh scattering. When sunlight enters Earth's atmosphere, it interacts with molecules and small particles in the air. Sunlight, or white light, is made up of many different colors, each with a different wavelength. \\n\\nBlue light has a shorter wavelength compared to other colors like red or yellow. Because shorter wavelengths scatter more than longer wavelengths, the blue light is scattered in all directions by the oxygen and nitrogen molecules in the atmosphere. This scattering causes the sky to look predominantly blue to our eyes.\\n\\nDuring sunrise and sunset, the sun's light passes through a thicker layer of the atmosphere. The longer path results in even more scattering of the shorter wavelengths, allowing the longer wavelengths (reds and oranges) to dominate, giving the sky a reddish hue during those times.\""
      ]
     },
     "execution_count": 5,
     "metadata": {},
     "output_type": "execute_result"
    }
   ],
   "source": [
    "# Just call the damn thing\n",
    "model('Why is the sky blue?')"
   ]
  },
  {
   "cell_type": "markdown",
   "id": "632046188100875d",
   "metadata": {
    "collapsed": false,
    "jupyter": {
     "outputs_hidden": false
    }
   },
   "source": [
    "### 🔨 Level 2 - Use a PromptTemplate"
   ]
  },
  {
   "cell_type": "code",
   "execution_count": 6,
   "id": "afe2b6d1d4078270",
   "metadata": {
    "ExecuteTime": {
     "end_time": "2025-03-06T12:42:52.500193Z",
     "start_time": "2025-03-06T12:42:52.497260Z"
    },
    "collapsed": false,
    "jupyter": {
     "outputs_hidden": false
    }
   },
   "outputs": [
    {
     "name": "stdout",
     "output_type": "stream",
     "text": [
      "StringTemplate: Why is the sky {color}?\n"
     ]
    }
   ],
   "source": [
    "# Initialize a prompt template\n",
    "prompt_template = StringTemplate('Why is the sky {color}?')\n",
    "print(prompt_template)"
   ]
  },
  {
   "cell_type": "code",
   "execution_count": 7,
   "id": "9901374952217046",
   "metadata": {
    "ExecuteTime": {
     "end_time": "2025-03-06T12:42:52.537713Z",
     "start_time": "2025-03-06T12:42:52.534495Z"
    },
    "collapsed": false,
    "jupyter": {
     "outputs_hidden": false
    }
   },
   "outputs": [
    {
     "name": "stdout",
     "output_type": "stream",
     "text": [
      "Why is the sky blue?\n",
      "Why is the sky red?\n",
      "Why is the sky red?\n"
     ]
    }
   ],
   "source": [
    "# Render it with a dictionary\n",
    "print(prompt_template.render({'color': 'blue'}))\n",
    "\n",
    "# Render it with keyword arguments\n",
    "print(prompt_template.render(color='red'))\n",
    "\n",
    "# Input dict takes precedence over keyword arguments\n",
    "print(prompt_template.render(input_dict={'color': 'blue'}, color='red'))"
   ]
  },
  {
   "cell_type": "code",
   "execution_count": 8,
   "id": "de0506db77d4e875",
   "metadata": {
    "ExecuteTime": {
     "end_time": "2025-03-06T12:42:52.576554Z",
     "start_time": "2025-03-06T12:42:52.574130Z"
    }
   },
   "outputs": [
    {
     "name": "stdout",
     "output_type": "stream",
     "text": [
      "Why is the sky blue?\n"
     ]
    }
   ],
   "source": [
    "prompt_template_test = StringTemplate('Why is the sky {color}?')\n",
    "print(prompt_template_test.render({'color': 'blue'}))"
   ]
  },
  {
   "cell_type": "code",
   "execution_count": 9,
   "id": "a5dca91633a69af",
   "metadata": {
    "ExecuteTime": {
     "end_time": "2025-03-06T12:42:52.611131Z",
     "start_time": "2025-03-06T12:42:52.608763Z"
    },
    "collapsed": false,
    "jupyter": {
     "outputs_hidden": false
    }
   },
   "outputs": [
    {
     "name": "stdout",
     "output_type": "stream",
     "text": [
      "StringTemplate: Why is the sky {color}? Why is the grass {color}? I like a dress with {pattern}.\n",
      "Why is the sky blue? Why is the grass blue? I like a dress with polka dots.\n"
     ]
    }
   ],
   "source": [
    "# You can concatenate prompt templates, input variables are merged\n",
    "prompt_template_sky = StringTemplate('Why is the sky {color}?')\n",
    "prompt_template_grass = StringTemplate('Why is the grass {color}?')\n",
    "prompt_template_dress = StringTemplate('I like a dress with {pattern}.')\n",
    "combined_prompt_template = prompt_template_sky + prompt_template_grass + prompt_template_dress\n",
    "print(combined_prompt_template)\n",
    "print(combined_prompt_template.render({'color': 'blue', 'pattern': 'polka dots'}))"
   ]
  },
  {
   "cell_type": "code",
   "execution_count": 10,
   "id": "9d7766d8c7a53b12",
   "metadata": {
    "ExecuteTime": {
     "end_time": "2025-03-06T12:42:52.625148Z",
     "start_time": "2025-03-06T12:42:52.623127Z"
    },
    "collapsed": false,
    "jupyter": {
     "outputs_hidden": false
    }
   },
   "outputs": [
    {
     "name": "stdout",
     "output_type": "stream",
     "text": [
      "Why is the sky blue? FUNKY TOWN Why is the grass blue?\n"
     ]
    }
   ],
   "source": [
    "# You can customize the separator\n",
    "base_template = StringTemplate('Why is the sky {color}?', separator=' FUNKY TOWN ')\n",
    "additional_template = StringTemplate('Why is the grass {color}?')\n",
    "print((base_template + additional_template).render({'color': 'blue'}))"
   ]
  },
  {
   "cell_type": "code",
   "execution_count": 11,
   "id": "c6c3140b13ae4f",
   "metadata": {
    "ExecuteTime": {
     "end_time": "2025-03-06T12:42:52.646399Z",
     "start_time": "2025-03-06T12:42:52.641927Z"
    }
   },
   "outputs": [
    {
     "name": "stdout",
     "output_type": "stream",
     "text": [
      "MessagesTemplate: messages=[Message(role='user', content='Why is the sky {color}?')] system='Respond in a {tone} tone'\n",
      "\n",
      "Rendered: messages=[Message(role='user', content='Why is the sky blue?')] system='Respond in a sarcastic tone'\n"
     ]
    }
   ],
   "source": [
    "# You can also use the MessagesTemplates for more complex prompts\n",
    "messages = Messages(\n",
    "    system='Respond in a {tone} tone',\n",
    "    messages= [\n",
    "        Message(role=\"user\", content=\"Why is the sky {color}?\"),\n",
    "        # Equivalent to Message(role='user', content=Content(type='text', text='Why is the sky blue?'))\n",
    "        # But Content can also be an image, etc.\n",
    "    ]\n",
    ")\n",
    "messages_template = MessagesTemplate(\n",
    "    source=messages\n",
    ")\n",
    "print(messages_template)\n",
    "print(f\"\\nRendered: {messages_template.render(tone='sarcastic', color='blue')}\")"
   ]
  },
  {
   "cell_type": "markdown",
   "id": "8e5617e437fb30fc",
   "metadata": {
    "collapsed": false,
    "jupyter": {
     "outputs_hidden": false
    }
   },
   "source": [
    "### 🧠 Level 3 - Use Links (lol)\n",
    "\n",
    "What are Links? In this context, they represent atomic components of LLM interaction. That means they should be able to be strung together to form a Chain, although they can be used independently as well."
   ]
  },
  {
   "cell_type": "code",
   "execution_count": 12,
   "id": "219ef991de4352a6",
   "metadata": {
    "ExecuteTime": {
     "end_time": "2025-03-06T12:42:52.678237Z",
     "start_time": "2025-03-06T12:42:52.675990Z"
    },
    "collapsed": false,
    "jupyter": {
     "outputs_hidden": false
    }
   },
   "outputs": [
    {
     "name": "stdout",
     "output_type": "stream",
     "text": [
      "Link: <['color']> -> <state>\n"
     ]
    }
   ],
   "source": [
    "# The simplest link is the Link class, which just takes a prompt template and a model\n",
    "link = Link(template=prompt_template, model=model)\n",
    "print(link)"
   ]
  },
  {
   "cell_type": "code",
   "execution_count": 13,
   "id": "3a1279bdd677c524",
   "metadata": {
    "ExecuteTime": {
     "end_time": "2025-03-06T12:42:58.570231Z",
     "start_time": "2025-03-06T12:42:52.690935Z"
    },
    "collapsed": false,
    "jupyter": {
     "outputs_hidden": false
    }
   },
   "outputs": [
    {
     "data": {
      "text/plain": [
       "{'state': \"The sky appears blue primarily due to a phenomenon called Rayleigh scattering. This occurs when sunlight, which is made up of many colors (or wavelengths), interacts with the Earth's atmosphere.\\n\\nSunlight contains different colors that correspond to different wavelengths. Blue light has a shorter wavelength compared to other colors in the spectrum, such as red and yellow. When sunlight passes through the atmosphere, it collides with gas molecules and small particles. The shorter wavelengths of light (blue and violet) are scattered more than the longer wavelengths (red and yellow).\\n\\nEven though violet light is scattered even more than blue, our eyes are more sensitive to blue light and the upper atmosphere absorbs some violet light, which is why we predominantly see a blue sky during the day. When the sun is lower on the horizon, such as during sunrise and sunset, the light path through the atmosphere is longer, allowing more scattering of the shorter wavelengths and leaving the longer wavelengths (reds and oranges) more visible, which is why sunsets often display those colors.\"}"
      ]
     },
     "execution_count": 13,
     "metadata": {},
     "output_type": "execute_result"
    }
   ],
   "source": [
    "# Invoke it\n",
    "link(color='blue') # Or, equivalently, link.run(input_dict={'color': 'blue'})"
   ]
  },
  {
   "cell_type": "code",
   "execution_count": 14,
   "id": "884bda0b4dca2512",
   "metadata": {
    "ExecuteTime": {
     "end_time": "2025-03-06T12:43:01.079996Z",
     "start_time": "2025-03-06T12:42:58.589795Z"
    },
    "collapsed": false,
    "jupyter": {
     "outputs_hidden": false
    }
   },
   "outputs": [
    {
     "data": {
      "text/plain": [
       "{'state': \"The sky appears blue due to a phenomenon called Rayleigh scattering. When sunlight enters the Earth's atmosphere, it interacts with air molecules and small particles. Sunlight, or white light, is made up of various colors, each with different wavelengths. Blue light has a shorter wavelength compared to other colors like red or yellow.\\n\\nBecause of this shorter wavelength, blue light is scattered in all directions by the gases and particles in the atmosphere. As a result, when we look up at the sky during the day, we see more of this scattered blue light than any other color. \\n\\nDuring sunrise and sunset, the sky can appear red or orange because the sunlight passes through a thicker portion of the atmosphere. This causes shorter wavelengths (blue and green light) to scatter out more, allowing the longer wavelengths (red and orange) to dominate the view.\",\n",
       " 'intermediate': \"The sky appears blue due to a phenomenon called Rayleigh scattering. When sunlight enters the Earth's atmosphere, it interacts with air molecules and small particles. Sunlight, or white light, is made up of various colors, each with different wavelengths. Blue light has a shorter wavelength compared to other colors like red or yellow.\\n\\nBecause of this shorter wavelength, blue light is scattered in all directions by the gases and particles in the atmosphere. As a result, when we look up at the sky during the day, we see more of this scattered blue light than any other color. \\n\\nDuring sunrise and sunset, the sky can appear red or orange because the sunlight passes through a thicker portion of the atmosphere. This causes shorter wavelengths (blue and green light) to scatter out more, allowing the longer wavelengths (red and orange) to dominate the view.\"}"
      ]
     },
     "execution_count": 14,
     "metadata": {},
     "output_type": "execute_result"
    }
   ],
   "source": [
    "# By default, output is stored under 'state'. You can get a copy (e.g., for inspection of intermediate results) by passing a different output key\n",
    "link = Link(template=prompt_template, model=model, output_key='intermediate')\n",
    "link.run(input_dict={'color': 'blue'})"
   ]
  },
  {
   "cell_type": "code",
   "execution_count": 15,
   "id": "52913f8c6dece54e",
   "metadata": {
    "ExecuteTime": {
     "end_time": "2025-03-06T12:43:03.930253Z",
     "start_time": "2025-03-06T12:43:01.092813Z"
    },
    "collapsed": false,
    "jupyter": {
     "outputs_hidden": false
    }
   },
   "outputs": [
    {
     "data": {
      "text/plain": [
       "{'state': \"The sky appears blue due to a phenomenon known as Rayleigh scattering. When sunlight enters the Earth's atmosphere, it is made up of different colors, each with varying wavelengths. Blue light has a shorter wavelength compared to other colors like red and yellow.\\n\\nAs sunlight passes through the atmosphere, it interacts with air molecules and small particles. Because blue light is scattered in all directions more effectively than other colors due to its shorter wavelength, it becomes the dominant color we see when we look up at the sky. \\n\\nDuring sunrise and sunset, the sunlight passes through a greater thickness of the Earth's atmosphere, scattering shorter wavelengths of light and allowing the longer wavelengths (reds and oranges) to dominate, which is why the sky can appear red or orange during those times.\"}"
      ]
     },
     "execution_count": 15,
     "metadata": {},
     "output_type": "execute_result"
    }
   ],
   "source": [
    "# You can name your links for easier debugging in logs\n",
    "link = Link(template=prompt_template, model=model, name='sky')\n",
    "link.run(input_dict={'color': 'blue'})"
   ]
  },
  {
   "cell_type": "code",
   "execution_count": 16,
   "id": "460c06d5b33c6e87",
   "metadata": {
    "ExecuteTime": {
     "end_time": "2025-03-06T12:43:03.956656Z",
     "start_time": "2025-03-06T12:43:03.952958Z"
    },
    "collapsed": false,
    "jupyter": {
     "outputs_hidden": false
    }
   },
   "outputs": [
    {
     "data": {
      "text/plain": [
       "{'state': 'Hello and World', 'C': 'Hello and World'}"
      ]
     },
     "execution_count": 16,
     "metadata": {},
     "output_type": "execute_result"
    }
   ],
   "source": [
    "# You can also build TransformationLinks, which take a function that transforms any input_dict into a specific output\n",
    "def concatenate(input: dict):\n",
    "    return f\"{input['X']} and {input['Y']}\"\n",
    "\n",
    "concat_link = TransformationLink(\n",
    "    input_keys=[\"X\", \"Y\"], function=concatenate, output_key=\"C\"\n",
    ")\n",
    "\n",
    "concat_link.run(input_dict={\"X\": \"Hello\", \"Y\": \"World\"})"
   ]
  },
  {
   "cell_type": "markdown",
   "id": "c83119613a5ecf54",
   "metadata": {
    "collapsed": false,
    "jupyter": {
     "outputs_hidden": false
    }
   },
   "source": [
    "### 🚀 Level 4 - Use Chains (lol again)"
   ]
  },
  {
   "cell_type": "code",
   "execution_count": 17,
   "id": "a86436d806745ef0",
   "metadata": {
    "ExecuteTime": {
     "end_time": "2025-03-06T12:47:58.836497Z",
     "start_time": "2025-03-06T12:47:52.604832Z"
    },
    "collapsed": false,
    "jupyter": {
     "outputs_hidden": false
    }
   },
   "outputs": [
    {
     "name": "stdout",
     "output_type": "stream",
     "text": [
      "{'A': 'A police officer',\n",
      " 'B': 'Hopeful',\n",
      " 'C': 'A criminal. and Optimistic.',\n",
      " 'X': 'A criminal.',\n",
      " 'Y': 'Optimistic.',\n",
      " 'Z': \"**The Optimist's Crime**\\n\"\n",
      "      '\\n'\n",
      "      'In shadows deep where silence hides,  \\n'\n",
      "      'A criminal’s heart still beats, it bides,  \\n'\n",
      "      'With dreams that sparkle like stars above,  \\n'\n",
      "      'Whispers of hope, a longing for love.  \\n'\n",
      "      '\\n'\n",
      "      'He prowls the streets with a crooked smile,  \\n'\n",
      "      'Yet in his chest, a spark worthwhile,  \\n'\n",
      "      'For every heist, a tale of grace,  \\n'\n",
      "      'A wish for redemption, a chance to embrace.  \\n'\n",
      "      '\\n'\n",
      "      'With fingers stained by the sins of night,  \\n'\n",
      "      'He counts his fortunes with fingers tight,  \\n'\n",
      "      'But in his eyes, a glimmering thread,  \\n'\n",
      "      'Of laughter, of joy, of paths ahead.  \\n'\n",
      "      '\\n'\n",
      "      'He dreams of a life where wrong becomes right,  \\n'\n",
      "      'Where burdens lift softly like clouds taking flight,  \\n'\n",
      "      'Each stolen moment a lesson learned,  \\n'\n",
      "      \"In the furnace of life, it's how we are burned.  \\n\"\n",
      "      '\\n'\n",
      "      'For in every shadow, a light does gleam,  \\n'\n",
      "      'A flicker of hope in the darkest dream,  \\n'\n",
      "      \"So here's to the criminal, lost yet found,  \\n\"\n",
      "      'With every misstep, he dances around.  \\n'\n",
      "      '\\n'\n",
      "      'For in every crime, an ambition does speak,  \\n'\n",
      "      'A testament to those who feel weak,  \\n'\n",
      "      'With dreams like wildflowers breaking through stone,  \\n'\n",
      "      'Even in chaos, we’re never alone.  ',\n",
      " 'state': \"**The Optimist's Crime**\\n\"\n",
      "          '\\n'\n",
      "          'In shadows deep where silence hides,  \\n'\n",
      "          'A criminal’s heart still beats, it bides,  \\n'\n",
      "          'With dreams that sparkle like stars above,  \\n'\n",
      "          'Whispers of hope, a longing for love.  \\n'\n",
      "          '\\n'\n",
      "          'He prowls the streets with a crooked smile,  \\n'\n",
      "          'Yet in his chest, a spark worthwhile,  \\n'\n",
      "          'For every heist, a tale of grace,  \\n'\n",
      "          'A wish for redemption, a chance to embrace.  \\n'\n",
      "          '\\n'\n",
      "          'With fingers stained by the sins of night,  \\n'\n",
      "          'He counts his fortunes with fingers tight,  \\n'\n",
      "          'But in his eyes, a glimmering thread,  \\n'\n",
      "          'Of laughter, of joy, of paths ahead.  \\n'\n",
      "          '\\n'\n",
      "          'He dreams of a life where wrong becomes right,  \\n'\n",
      "          'Where burdens lift softly like clouds taking flight,  \\n'\n",
      "          'Each stolen moment a lesson learned,  \\n'\n",
      "          \"In the furnace of life, it's how we are burned.  \\n\"\n",
      "          '\\n'\n",
      "          'For in every shadow, a light does gleam,  \\n'\n",
      "          'A flicker of hope in the darkest dream,  \\n'\n",
      "          \"So here's to the criminal, lost yet found,  \\n\"\n",
      "          'With every misstep, he dances around.  \\n'\n",
      "          '\\n'\n",
      "          'For in every crime, an ambition does speak,  \\n'\n",
      "          'A testament to those who feel weak,  \\n'\n",
      "          'With dreams like wildflowers breaking through stone,  \\n'\n",
      "          'Even in chaos, we’re never alone.  '}\n"
     ]
    }
   ],
   "source": [
    "# You can also build Chains, which are just a sequence of links. There are two types of chains: LinearChain and Chain. \n",
    "# LinearChain is a sequence of links, while Chain is a collection of links that are invoked in the right order based on the input and output keys for each Link.\n",
    "\n",
    "# This is a LinearChain #\n",
    "#########################\n",
    "\n",
    "# Build some links\n",
    "link_opposite = Link(\n",
    "    template=StringTemplate(\n",
    "        \"What's the opposite of {A}? Reply with a few words max.\"\n",
    "    ),\n",
    "    name = 'opposite',\n",
    "    output_key=\"X\",\n",
    ")\n",
    "link_synonym = Link(\n",
    "    template=StringTemplate(\n",
    "        \"What's a synonym for {B}. Reply with one word.\"\n",
    "    ),\n",
    "    name='synonym',\n",
    "    output_key=\"Y\",\n",
    ")\n",
    "link_poem = Link(\n",
    "    template=StringTemplate(\n",
    "        \"Write a poem about {state}. Return only the poem, beginning with the title.\"\n",
    "    ),\n",
    "    name='poem',\n",
    "    output_key=\"Z\",\n",
    ")\n",
    "\n",
    "# Now build a LinearChain\n",
    "linear_chain = LinearChain(model=model, links=[link_opposite, link_synonym, concat_link, link_poem])\n",
    "\n",
    "# Run it\n",
    "result = linear_chain.run(input_dict={\"A\": \"A police officer\", \"B\": \"Hopeful\"})\n",
    "\n",
    "# Get the output\n",
    "from pprint import pprint\n",
    "pprint(result)"
   ]
  },
  {
   "cell_type": "code",
   "execution_count": 18,
   "id": "6d1a3dc176bd9580",
   "metadata": {
    "ExecuteTime": {
     "end_time": "2025-03-06T12:43:10.917685Z",
     "start_time": "2025-03-06T12:43:10.913463Z"
    },
    "collapsed": false,
    "jupyter": {
     "outputs_hidden": false
    }
   },
   "outputs": [
    {
     "data": {
      "text/plain": [
       "[Link: superlative <['B']> -> <Y>,\n",
       " Link: opposite <['A']> -> <X>,\n",
       " Link: sentence <['C', 'X', 'Y']> -> <Z>]"
      ]
     },
     "execution_count": 18,
     "metadata": {},
     "output_type": "execute_result"
    }
   ],
   "source": [
    "# A LinearChain will take the presence of the 'state' key into account when invoking the next link.\n",
    "# A Chain will not. However, it has an extra 'feature' in the form of topological sorting. As long as a graph of links can be\n",
    "# extracted from the chain, and the input keys (that are not generated in the chain) are given, the chain will invoke the links in the right order.\n",
    "\n",
    "# This is a Chain #\n",
    "###################\n",
    "link_a = Link(\n",
    "    template=StringTemplate(\n",
    "        \"Capitalize this word: {A}. Only respond with the capitalized version\",\n",
    "    ),\n",
    "    name = 'opposite',\n",
    "    output_key=\"X\",\n",
    ")\n",
    "link_b = Link(\n",
    "    template=StringTemplate(\n",
    "        \"What's a synonym for {B}. Reply with one word.\", \n",
    "    ),\n",
    "    name='superlative',\n",
    "    output_key=\"Y\",\n",
    ")\n",
    "link_c = Link(\n",
    "    template=StringTemplate(\n",
    "        \"Combine {X} and {Y} and {C} in a meaningful sentence.\", \n",
    "    ),\n",
    "    name='sentence',\n",
    "    output_key=\"Z\",\n",
    ")\n",
    "chain = Chain(model=model, links=[link_c, link_a, link_b]) # Note that we can pass the links in any order\n",
    "\n",
    "# This is the sorted graph of links\n",
    "chain._topological_sort()"
   ]
  },
  {
   "cell_type": "code",
   "execution_count": 19,
   "id": "f5fca5fd6f655679",
   "metadata": {
    "ExecuteTime": {
     "end_time": "2025-03-06T12:43:10.953055Z",
     "start_time": "2025-03-06T12:43:10.950301Z"
    },
    "collapsed": false,
    "jupyter": {
     "outputs_hidden": false
    }
   },
   "outputs": [
    {
     "name": "stdout",
     "output_type": "stream",
     "text": [
      "The following input keys are required: {'A', 'C', 'B'}. Missing: {'C'}\n"
     ]
    }
   ],
   "source": [
    "# Now we can run it\n",
    "try:\n",
    "    result = chain.run(input_dict={\"A\": \"A police officer\", \"B\": \"Hopeful\"})\n",
    "except Exception as e:\n",
    "    print(e)"
   ]
  },
  {
   "cell_type": "code",
   "execution_count": 20,
   "id": "4dabac4f53177f1e",
   "metadata": {
    "ExecuteTime": {
     "end_time": "2025-03-06T12:43:12.841004Z",
     "start_time": "2025-03-06T12:43:10.959048Z"
    },
    "collapsed": false,
    "jupyter": {
     "outputs_hidden": false
    }
   },
   "outputs": [
    {
     "name": "stdout",
     "output_type": "stream",
     "text": [
      "The optimistic police officer, accompanied by his loyal dog, patrolled the neighborhood with a smile, spreading positivity and ensuring the safety of the community.\n"
     ]
    }
   ],
   "source": [
    "# Woops, forgot something! There's no link that generates the 'C' key. We can pass it in though.\n",
    "result = chain.run(input_dict={\"A\": \"A police officer\", \"B\": \"Hopeful\", \"C\": \"a dog\"})\n",
    "print(result['state'])"
   ]
  },
  {
   "cell_type": "code",
   "execution_count": 21,
   "id": "fd6aa1cb2325cd41",
   "metadata": {
    "ExecuteTime": {
     "end_time": "2025-03-06T12:43:12.862150Z",
     "start_time": "2025-03-06T12:43:12.858495Z"
    },
    "collapsed": false,
    "jupyter": {
     "outputs_hidden": false
    }
   },
   "outputs": [
    {
     "name": "stdout",
     "output_type": "stream",
     "text": [
      "Cycle detected in the dependency graph.\n"
     ]
    }
   ],
   "source": [
    "# Cycles are not allowed\n",
    "link_up = Link(\n",
    "    template=StringTemplate(\n",
    "        \"Capitalize this word: {up}. Only respond with the capitalized version\",\n",
    "    ),\n",
    "    name = 'up',\n",
    "    output_key=\"down\",\n",
    ")\n",
    "link_b = Link(\n",
    "    template=StringTemplate(\n",
    "        \"What's a synonym for {down}. Reply with one word.\", \n",
    "    ),\n",
    "    name='down',\n",
    "    output_key=\"up\",\n",
    ")\n",
    "chain = Chain(model=model, links=[link_up, link_b])\n",
    "try:\n",
    "    chain.run(input_dict={\"up\": \"happy\"})\n",
    "except Exception as e:\n",
    "    print(e)"
   ]
  },
  {
   "cell_type": "code",
   "execution_count": null,
   "id": "b3a8561144f1584c",
   "metadata": {
    "ExecuteTime": {
     "end_time": "2025-03-06T12:43:12.905747Z",
     "start_time": "2025-03-06T12:43:12.900807Z"
    },
    "collapsed": false,
    "jupyter": {
     "outputs_hidden": false
    }
   },
   "outputs": [],
   "source": []
  },
  {
   "cell_type": "code",
   "execution_count": null,
   "id": "1688858b2321221",
   "metadata": {
    "ExecuteTime": {
     "end_time": "2025-03-06T12:43:12.949717Z",
     "start_time": "2025-03-06T12:43:12.945331Z"
    }
   },
   "outputs": [],
   "source": []
  }
 ],
 "metadata": {
  "kernelspec": {
   "display_name": ".venv",
   "language": "python",
   "name": "python3"
  },
  "language_info": {
   "codemirror_mode": {
    "name": "ipython",
    "version": 3
   },
   "file_extension": ".py",
   "mimetype": "text/x-python",
   "name": "python",
   "nbconvert_exporter": "python",
   "pygments_lexer": "ipython3",
   "version": "3.13.3"
  }
 },
 "nbformat": 4,
 "nbformat_minor": 5
}
