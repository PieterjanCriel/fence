{
 "cells": [
  {
   "cell_type": "markdown",
   "id": "4e010e381f4d1bbe",
   "metadata": {
    "collapsed": false,
    "jupyter": {
     "outputs_hidden": false
    }
   },
   "source": [
    "# 🤺 Fence demo\n",
    "\n",
    "This notebook demonstrates the use of various classes in this package. The core intent of this package is to provide a framework for interacting with language models in a way that is modular, extensible, and easy to use. The core classes are:\n",
    "- `PromptTemplate`: A template for a prompt that can be rendered with a dictionary of variables (or using keywords). It wraps around jinja2.Template, but adds some additional functionality.\n",
    "- `LLM`: A wrapper around a language model. \n",
    "- `Link`: Atomic LLM interaction wrapper. Takes in a PromptTemplate and a language model. It can be invoked with a dictionary of variables, and will return a dictionary of variables.\n",
    "- `TransformationLink`: A wrapper around a `function` that takes a dictionary of variables and returns a dictionary of variables. It can be invoked with a dictionary of variables, and will return a dictionary of variables.\n",
    "- `Chain`: A collection of links that are invoked in the right order based on the input and output keys for each Link.\n",
    "- `LinearChain`: A sequence of links that are invoked in the order they are passed in.\n",
    "\n",
    "Through these classes, we can interact with LLMs in varying degrees of complexity:\n",
    "1. Just call the model directly\n",
    "2. Use a `PromptTemplate` for reusability and abstraction\n",
    "3. Use a `Link` for atomic LLM interaction\n",
    "4. Use a `Chain` to execute a collection of `Links`\n",
    "\n",
    "Below, we'll go through each of these levels of complexity and provide examples.\n",
    "\n",
    "**Note** This notebook assumes you have access to AWS Bedrock, as we use Bedrock's Claude-instant model to fuel our LLM interactions."
   ]
  },
  {
   "cell_type": "code",
   "id": "a937d38e",
   "metadata": {
    "ExecuteTime": {
     "end_time": "2025-03-06T12:42:45.427383Z",
     "start_time": "2025-03-06T12:42:45.419422Z"
    }
   },
   "source": [
    "from pathlib import Path\n",
    "current_dir = Path('.').resolve().parents[0]\n",
    "import sys\n",
    "sys.path.append(str(current_dir))"
   ],
   "outputs": [],
   "execution_count": 14
  },
  {
   "metadata": {
    "ExecuteTime": {
     "end_time": "2025-03-06T12:42:45.442894Z",
     "start_time": "2025-03-06T12:42:45.437803Z"
    }
   },
   "cell_type": "code",
   "source": [
    "%load_ext autoreload\n",
    "from fence.models.bedrock.claude import ClaudeInstant\n",
    "from fence.models.bedrock.claude import Claude35Sonnet\n",
    "from fence.models.openai import GPT4omini\n",
    "from fence.templates.string import StringTemplate\n",
    "from fence.templates.messages import MessagesTemplate, Messages, Message\n",
    "from fence.links import Link, TransformationLink\n",
    "from fence.chains import Chain, LinearChain"
   ],
   "id": "d5a08a1007e6fa35",
   "outputs": [
    {
     "name": "stdout",
     "output_type": "stream",
     "text": [
      "The autoreload extension is already loaded. To reload it, use:\n",
      "  %reload_ext autoreload\n"
     ]
    }
   ],
   "execution_count": 15
  },
  {
   "metadata": {},
   "cell_type": "markdown",
   "source": "## ⚙️ Setting up",
   "id": "1aa24e1159152eb7"
  },
  {
   "metadata": {
    "ExecuteTime": {
     "end_time": "2025-03-06T12:42:45.490401Z",
     "start_time": "2025-03-06T12:42:45.476366Z"
    }
   },
   "cell_type": "code",
   "source": [
    "# Get our model\n",
    "model = Claude35Sonnet(source='demo_notebook', region='us-east-1')\n",
    "model = GPT4omini(source='demo_notebook')"
   ],
   "id": "a61082844097188f",
   "outputs": [],
   "execution_count": 16
  },
  {
   "cell_type": "markdown",
   "id": "efabe783b73b8ec7",
   "metadata": {
    "collapsed": false,
    "jupyter": {
     "outputs_hidden": false
    }
   },
   "source": [
    "### 🪨 Level 1 - Just call the damn thing"
   ]
  },
  {
   "cell_type": "code",
   "id": "950662b95a79575c",
   "metadata": {
    "collapsed": false,
    "jupyter": {
     "outputs_hidden": false
    },
    "ExecuteTime": {
     "end_time": "2025-03-06T12:42:49.844528Z",
     "start_time": "2025-03-06T12:42:45.499513Z"
    }
   },
   "source": [
    "# Use the invoke method to call the model\n",
    "model.invoke('Why is the sky blue?')"
   ],
   "outputs": [
    {
     "data": {
      "text/plain": [
       "\"The sky appears blue due to a phenomenon called Rayleigh scattering. When sunlight enters the Earth's atmosphere, it interacts with molecules and small particles in the air. Sunlight, or white light, is made up of different colors, each with different wavelengths. Blue light has a shorter wavelength compared to other colors.\\n\\nAs sunlight passes through the atmosphere, the shorter wavelengths of blue light are scattered in all directions more than the longer wavelengths, such as red or yellow light. This scattering causes the blue light to be more prevalent in the sky when we look up, creating the blue appearance that we associate with a clear day.\\n\\nDuring sunrise and sunset, the sun is lower on the horizon, and sunlight travels through a thicker layer of the atmosphere. This increased distance causes more scattering of shorter wavelengths and allows the longer wavelengths (reds and oranges) to dominate, resulting in the beautiful colors we see during those times.\""
      ]
     },
     "execution_count": 17,
     "metadata": {},
     "output_type": "execute_result"
    }
   ],
   "execution_count": 17
  },
  {
   "cell_type": "code",
   "id": "22c4da28c3c3d3b0",
   "metadata": {
    "collapsed": false,
    "jupyter": {
     "outputs_hidden": false
    },
    "ExecuteTime": {
     "end_time": "2025-03-06T12:42:52.416754Z",
     "start_time": "2025-03-06T12:42:49.852555Z"
    }
   },
   "source": [
    "# Just call the damn thing\n",
    "model('Why is the sky blue?')"
   ],
   "outputs": [
    {
     "data": {
      "text/plain": [
       "\"The sky appears blue primarily due to a phenomenon called Rayleigh scattering. When sunlight enters the Earth's atmosphere, it interacts with air molecules and small particles. Sunlight is composed of many colors, each with different wavelengths. Blue light has a shorter wavelength than colors like red or yellow.\\n\\nAs sunlight passes through the atmosphere, the shorter wavelengths (blue and violet) are scattered in all directions by the gases and particles in the air. Although violet light is scattered even more than blue light, our eyes are more sensitive to blue light and some of the violet light is absorbed by the ozone layer. This results in the sky predominantly appearing blue during the day.\\n\\nAt sunrise and sunset, the sky can take on shades of red, orange, and pink. This is because the sunlight passes through a greater thickness of the atmosphere, scattering most of the shorter blue wavelengths and allowing the longer red and orange wavelengths to dominate.\""
      ]
     },
     "execution_count": 18,
     "metadata": {},
     "output_type": "execute_result"
    }
   ],
   "execution_count": 18
  },
  {
   "cell_type": "markdown",
   "id": "632046188100875d",
   "metadata": {
    "collapsed": false,
    "jupyter": {
     "outputs_hidden": false
    }
   },
   "source": [
    "### 🔨 Level 2 - Use a PromptTemplate"
   ]
  },
  {
   "cell_type": "code",
   "id": "afe2b6d1d4078270",
   "metadata": {
    "collapsed": false,
    "jupyter": {
     "outputs_hidden": false
    },
    "ExecuteTime": {
     "end_time": "2025-03-06T12:42:52.500193Z",
     "start_time": "2025-03-06T12:42:52.497260Z"
    }
   },
   "source": [
    "# Initialize a prompt template\n",
    "prompt_template = StringTemplate('Why is the sky {color}?')\n",
    "print(prompt_template)"
   ],
   "outputs": [
    {
     "name": "stdout",
     "output_type": "stream",
     "text": [
      "StringTemplate: Why is the sky {color}?\n"
     ]
    }
   ],
   "execution_count": 19
  },
  {
   "cell_type": "code",
   "id": "9901374952217046",
   "metadata": {
    "collapsed": false,
    "jupyter": {
     "outputs_hidden": false
    },
    "ExecuteTime": {
     "end_time": "2025-03-06T12:42:52.537713Z",
     "start_time": "2025-03-06T12:42:52.534495Z"
    }
   },
   "source": [
    "# Render it with a dictionary\n",
    "print(prompt_template.render({'color': 'blue'}))\n",
    "\n",
    "# Render it with keyword arguments\n",
    "print(prompt_template.render(color='red'))\n",
    "\n",
    "# Input dict takes precedence over keyword arguments\n",
    "print(prompt_template.render(input_dict={'color': 'blue'}, color='red'))"
   ],
   "outputs": [
    {
     "name": "stdout",
     "output_type": "stream",
     "text": [
      "Why is the sky blue?\n",
      "Why is the sky red?\n",
      "Why is the sky red?\n"
     ]
    }
   ],
   "execution_count": 20
  },
  {
   "metadata": {
    "ExecuteTime": {
     "end_time": "2025-03-06T12:42:52.576554Z",
     "start_time": "2025-03-06T12:42:52.574130Z"
    }
   },
   "cell_type": "code",
   "source": [
    "prompt_template_test = StringTemplate('Why is the sky {color}?')\n",
    "print(prompt_template_test.render({'color': 'blue'}))"
   ],
   "id": "de0506db77d4e875",
   "outputs": [
    {
     "name": "stdout",
     "output_type": "stream",
     "text": [
      "Why is the sky blue?\n"
     ]
    }
   ],
   "execution_count": 21
  },
  {
   "cell_type": "code",
   "id": "a5dca91633a69af",
   "metadata": {
    "collapsed": false,
    "jupyter": {
     "outputs_hidden": false
    },
    "ExecuteTime": {
     "end_time": "2025-03-06T12:42:52.611131Z",
     "start_time": "2025-03-06T12:42:52.608763Z"
    }
   },
   "source": [
    "# You can concatenate prompt templates, input variables are merged\n",
    "prompt_template_sky = StringTemplate('Why is the sky {color}?')\n",
    "prompt_template_grass = StringTemplate('Why is the grass {color}?')\n",
    "prompt_template_dress = StringTemplate('I like a dress with {pattern}.')\n",
    "combined_prompt_template = prompt_template_sky + prompt_template_grass + prompt_template_dress\n",
    "print(combined_prompt_template)\n",
    "print(combined_prompt_template.render({'color': 'blue', 'pattern': 'polka dots'}))"
   ],
   "outputs": [
    {
     "name": "stdout",
     "output_type": "stream",
     "text": [
      "StringTemplate: Why is the sky {color}? Why is the grass {color}? I like a dress with {pattern}.\n",
      "Why is the sky blue? Why is the grass blue? I like a dress with polka dots.\n"
     ]
    }
   ],
   "execution_count": 22
  },
  {
   "cell_type": "code",
   "id": "9d7766d8c7a53b12",
   "metadata": {
    "collapsed": false,
    "jupyter": {
     "outputs_hidden": false
    },
    "ExecuteTime": {
     "end_time": "2025-03-06T12:42:52.625148Z",
     "start_time": "2025-03-06T12:42:52.623127Z"
    }
   },
   "source": [
    "# You can customize the separator\n",
    "base_template = StringTemplate('Why is the sky {color}?', separator=' FUNKY TOWN ')\n",
    "additional_template = StringTemplate('Why is the grass {color}?')\n",
    "print((base_template + additional_template).render({'color': 'blue'}))"
   ],
   "outputs": [
    {
     "name": "stdout",
     "output_type": "stream",
     "text": [
      "Why is the sky blue? FUNKY TOWN Why is the grass blue?\n"
     ]
    }
   ],
   "execution_count": 23
  },
  {
   "metadata": {
    "ExecuteTime": {
     "end_time": "2025-03-06T12:42:52.646399Z",
     "start_time": "2025-03-06T12:42:52.641927Z"
    }
   },
   "cell_type": "code",
   "source": [
    "# You can also use the MessagesTemplates for more complex prompts\n",
    "messages = Messages(\n",
    "    system='Respond in a {tone} tone',\n",
    "    messages= [\n",
    "        Message(role=\"user\", content=\"Why is the sky {color}?\"),\n",
    "        # Equivalent to Message(role='user', content=Content(type='text', text='Why is the sky blue?'))\n",
    "        # But Content can also be an image, etc.\n",
    "    ]\n",
    ")\n",
    "messages_template = MessagesTemplate(\n",
    "    source=messages\n",
    ")\n",
    "print(messages_template)\n",
    "print(f\"\\nRendered: {messages_template.render(tone='sarcastic', color='blue')}\")"
   ],
   "id": "c6c3140b13ae4f",
   "outputs": [
    {
     "name": "stdout",
     "output_type": "stream",
     "text": [
      "MessagesTemplate: messages=[Message(role='user', content='Why is the sky {color}?')] system='Respond in a {tone} tone'\n",
      "\n",
      "Rendered: messages=[Message(role='user', content='Why is the sky blue?')] system='Respond in a sarcastic tone'\n"
     ]
    }
   ],
   "execution_count": 24
  },
  {
   "cell_type": "markdown",
   "id": "8e5617e437fb30fc",
   "metadata": {
    "collapsed": false,
    "jupyter": {
     "outputs_hidden": false
    }
   },
   "source": [
    "### 🧠 Level 3 - Use Links (lol)\n",
    "\n",
    "What are Links? In this context, they represent atomic components of LLM interaction. That means they should be able to be strung together to form a Chain, although they can be used independently as well."
   ]
  },
  {
   "cell_type": "code",
   "id": "219ef991de4352a6",
   "metadata": {
    "collapsed": false,
    "jupyter": {
     "outputs_hidden": false
    },
    "ExecuteTime": {
     "end_time": "2025-03-06T12:42:52.678237Z",
     "start_time": "2025-03-06T12:42:52.675990Z"
    }
   },
   "source": [
    "# The simplest link is the Link class, which just takes a prompt template and a model\n",
    "link = Link(template=prompt_template, model=model)\n",
    "print(link)"
   ],
   "outputs": [
    {
     "name": "stdout",
     "output_type": "stream",
     "text": [
      "Link: <['color']> -> <state>\n"
     ]
    }
   ],
   "execution_count": 25
  },
  {
   "cell_type": "code",
   "id": "3a1279bdd677c524",
   "metadata": {
    "collapsed": false,
    "jupyter": {
     "outputs_hidden": false
    },
    "ExecuteTime": {
     "end_time": "2025-03-06T12:42:58.570231Z",
     "start_time": "2025-03-06T12:42:52.690935Z"
    }
   },
   "source": [
    "# Invoke it\n",
    "link(color='blue') # Or, equivalently, link.run(input_dict={'color': 'blue'})"
   ],
   "outputs": [
    {
     "data": {
      "text/plain": [
       "{'state': \"The sky appears blue due to a phenomenon known as Rayleigh scattering. This occurs when sunlight interacts with the Earth's atmosphere, which is made up of various gases and particles.\\n\\nSunlight, or white light, is composed of many colors, each with different wavelengths. Blue light has a shorter wavelength compared to other colors like red or yellow. When sunlight enters the atmosphere, it collides with molecules and small particles, scattering the shorter blue wavelengths in all directions more effectively than the longer wavelengths.\\n\\nAs a result, when we look up at the sky, we see more of this scattered blue light than any other color, making the sky appear predominantly blue during the day. At sunrise and sunset, the light passes through more of the atmosphere, which scatters shorter wavelengths even more and allows the longer wavelengths (reds and oranges) to predominate, creating those beautiful colors at those times.\"}"
      ]
     },
     "execution_count": 26,
     "metadata": {},
     "output_type": "execute_result"
    }
   ],
   "execution_count": 26
  },
  {
   "cell_type": "code",
   "id": "884bda0b4dca2512",
   "metadata": {
    "collapsed": false,
    "jupyter": {
     "outputs_hidden": false
    },
    "ExecuteTime": {
     "end_time": "2025-03-06T12:43:01.079996Z",
     "start_time": "2025-03-06T12:42:58.589795Z"
    }
   },
   "source": [
    "# By default, output is stored under 'state'. You can get a copy (e.g., for inspection of intermediate results) by passing a different output key\n",
    "link = Link(template=prompt_template, model=model, output_key='intermediate')\n",
    "link.run(input_dict={'color': 'blue'})"
   ],
   "outputs": [
    {
     "data": {
      "text/plain": [
       "{'state': \"The sky appears blue primarily due to a phenomenon called Rayleigh scattering. When sunlight passes through the Earth's atmosphere, it collides with molecules and small particles in the air. Sunlight, or white light, is made up of various colors, each with different wavelengths. Blue light has a shorter wavelength than other colors, such as red or yellow.\\n\\nBecause of its shorter wavelength, blue light is scattered in all directions more effectively than longer wavelengths when it interacts with the air molecules. As a result, when we look up at the sky, we see more of this scattered blue light. \\n\\nDuring sunrise and sunset, the light has to pass through a greater thickness of the atmosphere, scattering shorter wavelengths out of the direct line of sight and allowing longer wavelengths like red and orange to dominate the view. This is why the sky can appear more red or orange during those times.\",\n",
       " 'intermediate': \"The sky appears blue primarily due to a phenomenon called Rayleigh scattering. When sunlight passes through the Earth's atmosphere, it collides with molecules and small particles in the air. Sunlight, or white light, is made up of various colors, each with different wavelengths. Blue light has a shorter wavelength than other colors, such as red or yellow.\\n\\nBecause of its shorter wavelength, blue light is scattered in all directions more effectively than longer wavelengths when it interacts with the air molecules. As a result, when we look up at the sky, we see more of this scattered blue light. \\n\\nDuring sunrise and sunset, the light has to pass through a greater thickness of the atmosphere, scattering shorter wavelengths out of the direct line of sight and allowing longer wavelengths like red and orange to dominate the view. This is why the sky can appear more red or orange during those times.\"}"
      ]
     },
     "execution_count": 27,
     "metadata": {},
     "output_type": "execute_result"
    }
   ],
   "execution_count": 27
  },
  {
   "cell_type": "code",
   "id": "52913f8c6dece54e",
   "metadata": {
    "collapsed": false,
    "jupyter": {
     "outputs_hidden": false
    },
    "ExecuteTime": {
     "end_time": "2025-03-06T12:43:03.930253Z",
     "start_time": "2025-03-06T12:43:01.092813Z"
    }
   },
   "source": [
    "# You can name your links for easier debugging in logs\n",
    "link = Link(template=prompt_template, model=model, name='sky')\n",
    "link.run(input_dict={'color': 'blue'})"
   ],
   "outputs": [
    {
     "data": {
      "text/plain": [
       "{'state': \"The sky appears blue primarily due to a phenomenon called Rayleigh scattering. When sunlight reaches Earth's atmosphere, it is made up of various colors of light, which correspond to different wavelengths. Blue light has a shorter wavelength and is scattered in all directions by the gases and particles in the atmosphere more effectively than colors with longer wavelengths, such as red or yellow.\\n\\nDuring the day, when the sun is high in the sky, the blue light is scattered across the sky, making it appear predominantly blue to our eyes. At sunrise and sunset, the sun's light has to travel through more of the Earth's atmosphere. This longer path scatters the shorter blue wavelengths even more and allows the longer wavelengths, like red and orange, to dominate the sky's colors, creating the beautiful hues often observed at these times.\"}"
      ]
     },
     "execution_count": 28,
     "metadata": {},
     "output_type": "execute_result"
    }
   ],
   "execution_count": 28
  },
  {
   "cell_type": "code",
   "id": "460c06d5b33c6e87",
   "metadata": {
    "collapsed": false,
    "jupyter": {
     "outputs_hidden": false
    },
    "ExecuteTime": {
     "end_time": "2025-03-06T12:43:03.956656Z",
     "start_time": "2025-03-06T12:43:03.952958Z"
    }
   },
   "source": [
    "# You can also build TransformationLinks, which take a function that transforms any input_dict into a specific output\n",
    "def concatenate(input: dict):\n",
    "    return f\"{input['X']} and {input['Y']}\"\n",
    "\n",
    "concat_link = TransformationLink(\n",
    "    input_keys=[\"X\", \"Y\"], function=concatenate, output_key=\"C\"\n",
    ")\n",
    "\n",
    "concat_link.run(input_dict={\"X\": \"Hello\", \"Y\": \"World\"})"
   ],
   "outputs": [
    {
     "data": {
      "text/plain": [
       "{'state': 'Hello and World', 'C': 'Hello and World'}"
      ]
     },
     "execution_count": 29,
     "metadata": {},
     "output_type": "execute_result"
    }
   ],
   "execution_count": 29
  },
  {
   "cell_type": "markdown",
   "id": "c83119613a5ecf54",
   "metadata": {
    "collapsed": false,
    "jupyter": {
     "outputs_hidden": false
    }
   },
   "source": [
    "### 🚀 Level 4 - Use Chains (lol again)"
   ]
  },
  {
   "cell_type": "code",
   "id": "a86436d806745ef0",
   "metadata": {
    "collapsed": false,
    "jupyter": {
     "outputs_hidden": false
    },
    "ExecuteTime": {
     "end_time": "2025-03-06T12:47:58.836497Z",
     "start_time": "2025-03-06T12:47:52.604832Z"
    }
   },
   "source": [
    "# You can also build Chains, which are just a sequence of links. There are two types of chains: LinearChain and Chain. \n",
    "# LinearChain is a sequence of links, while Chain is a collection of links that are invoked in the right order based on the input and output keys for each Link.\n",
    "\n",
    "# This is a LinearChain #\n",
    "#########################\n",
    "\n",
    "# Build some links\n",
    "link_opposite = Link(\n",
    "    template=StringTemplate(\n",
    "        \"What's the opposite of {A}? Reply with a few words max.\"\n",
    "    ),\n",
    "    name = 'opposite',\n",
    "    output_key=\"X\",\n",
    ")\n",
    "link_synonym = Link(\n",
    "    template=StringTemplate(\n",
    "        \"What's a synonym for {B}. Reply with one word.\"\n",
    "    ),\n",
    "    name='synonym',\n",
    "    output_key=\"Y\",\n",
    ")\n",
    "link_poem = Link(\n",
    "    template=StringTemplate(\n",
    "        \"Write a poem about {state}. Return only the poem, beginning with the title.\"\n",
    "    ),\n",
    "    name='poem',\n",
    "    output_key=\"Z\",\n",
    ")\n",
    "\n",
    "# Now build a LinearChain\n",
    "linear_chain = LinearChain(model=model, links=[link_opposite, link_synonym, concat_link, link_poem])\n",
    "\n",
    "# Run it\n",
    "result = linear_chain.run(input_dict={\"A\": \"A police officer\", \"B\": \"Hopeful\"})\n",
    "\n",
    "# Get the output\n",
    "from pprint import pprint\n",
    "pprint(result)"
   ],
   "outputs": [
    {
     "name": "stdout",
     "output_type": "stream",
     "text": [
      "{'A': 'A police officer',\n",
      " 'B': 'Hopeful',\n",
      " 'C': 'A criminal. and Optimistic.',\n",
      " 'X': 'A criminal.',\n",
      " 'Y': 'Optimistic.',\n",
      " 'Z': '**The Optimistic Outlaw**\\n'\n",
      "      '\\n'\n",
      "      'In shadows deep where whispers dwell,  \\n'\n",
      "      'A rogue with tales to spin and tell,  \\n'\n",
      "      'With a heart that dances, wild and free,  \\n'\n",
      "      'Chasing dreams beneath the moonlit tree.  \\n'\n",
      "      '\\n'\n",
      "      'His hands may bear the scars of night,  \\n'\n",
      "      'Yet in his eyes, a spark so bright,  \\n'\n",
      "      'He steals not for greed or gain,  \\n'\n",
      "      'But for the thrill of breaking the chain.  \\n'\n",
      "      '\\n'\n",
      "      'With every heist of stolen glance,  \\n'\n",
      "      'He crafts a world where hearts can dance,  \\n'\n",
      "      'A twist of fate, a chance to rise,  \\n'\n",
      "      'For even thorns can wear a disguise.  \\n'\n",
      "      '\\n'\n",
      "      'In alleyways where shadows creep,  \\n'\n",
      "      'He plants the seeds of hope to seep,  \\n'\n",
      "      'A laugh, a jest, a wink, a nod,  \\n'\n",
      "      'Turning mischief into a facade.  \\n'\n",
      "      '\\n'\n",
      "      'Each lock he picks, each door ajar,  \\n'\n",
      "      'He draws a map beneath the stars,  \\n'\n",
      "      'For every risk, a lesson learned,  \\n'\n",
      "      'In every corner, passion burned.  \\n'\n",
      "      '\\n'\n",
      "      'Though branded a villain, lost in dreams,  \\n'\n",
      "      'He weaves through life’s chaotic seams,  \\n'\n",
      "      \"For in the heart of an outlaw's quest,  \\n\"\n",
      "      'Lies the true spirit of hope expressed.  \\n'\n",
      "      '\\n'\n",
      "      'So here’s to the criminal, bold and bright,  \\n'\n",
      "      'Who dances on edges of wrong and right,  \\n'\n",
      "      'In the tapestry of life, he plays his part,  \\n'\n",
      "      'An optimistic thief, with a dream in his heart.  ',\n",
      " 'state': '**The Optimistic Outlaw**\\n'\n",
      "          '\\n'\n",
      "          'In shadows deep where whispers dwell,  \\n'\n",
      "          'A rogue with tales to spin and tell,  \\n'\n",
      "          'With a heart that dances, wild and free,  \\n'\n",
      "          'Chasing dreams beneath the moonlit tree.  \\n'\n",
      "          '\\n'\n",
      "          'His hands may bear the scars of night,  \\n'\n",
      "          'Yet in his eyes, a spark so bright,  \\n'\n",
      "          'He steals not for greed or gain,  \\n'\n",
      "          'But for the thrill of breaking the chain.  \\n'\n",
      "          '\\n'\n",
      "          'With every heist of stolen glance,  \\n'\n",
      "          'He crafts a world where hearts can dance,  \\n'\n",
      "          'A twist of fate, a chance to rise,  \\n'\n",
      "          'For even thorns can wear a disguise.  \\n'\n",
      "          '\\n'\n",
      "          'In alleyways where shadows creep,  \\n'\n",
      "          'He plants the seeds of hope to seep,  \\n'\n",
      "          'A laugh, a jest, a wink, a nod,  \\n'\n",
      "          'Turning mischief into a facade.  \\n'\n",
      "          '\\n'\n",
      "          'Each lock he picks, each door ajar,  \\n'\n",
      "          'He draws a map beneath the stars,  \\n'\n",
      "          'For every risk, a lesson learned,  \\n'\n",
      "          'In every corner, passion burned.  \\n'\n",
      "          '\\n'\n",
      "          'Though branded a villain, lost in dreams,  \\n'\n",
      "          'He weaves through life’s chaotic seams,  \\n'\n",
      "          \"For in the heart of an outlaw's quest,  \\n\"\n",
      "          'Lies the true spirit of hope expressed.  \\n'\n",
      "          '\\n'\n",
      "          'So here’s to the criminal, bold and bright,  \\n'\n",
      "          'Who dances on edges of wrong and right,  \\n'\n",
      "          'In the tapestry of life, he plays his part,  \\n'\n",
      "          'An optimistic thief, with a dream in his heart.  '}\n"
     ]
    }
   ],
   "execution_count": 36
  },
  {
   "cell_type": "code",
   "id": "6d1a3dc176bd9580",
   "metadata": {
    "collapsed": false,
    "jupyter": {
     "outputs_hidden": false
    },
    "ExecuteTime": {
     "end_time": "2025-03-06T12:43:10.917685Z",
     "start_time": "2025-03-06T12:43:10.913463Z"
    }
   },
   "source": [
    "# A LinearChain will take the presence of the 'state' key into account when invoking the next link.\n",
    "# A Chain will not. However, it has an extra 'feature' in the form of topological sorting. As long as a graph of links can be\n",
    "# extracted from the chain, and the input keys (that are not generated in the chain) are given, the chain will invoke the links in the right order.\n",
    "\n",
    "# This is a Chain #\n",
    "###################\n",
    "link_a = Link(\n",
    "    template=StringTemplate(\n",
    "        \"Capitalize this word: {A}. Only respond with the capitalized version\",\n",
    "    ),\n",
    "    name = 'opposite',\n",
    "    output_key=\"X\",\n",
    ")\n",
    "link_b = Link(\n",
    "    template=StringTemplate(\n",
    "        \"What's a synonym for {B}. Reply with one word.\", \n",
    "    ),\n",
    "    name='superlative',\n",
    "    output_key=\"Y\",\n",
    ")\n",
    "link_c = Link(\n",
    "    template=StringTemplate(\n",
    "        \"Combine {X} and {Y} and {C} in a meaningful sentence.\", \n",
    "    ),\n",
    "    name='sentence',\n",
    "    output_key=\"Z\",\n",
    ")\n",
    "chain = Chain(model=model, links=[link_c, link_a, link_b]) # Note that we can pass the links in any order\n",
    "\n",
    "# This is the sorted graph of links\n",
    "chain._topological_sort()"
   ],
   "outputs": [
    {
     "data": {
      "text/plain": [
       "[Link: superlative <['B']> -> <Y>,\n",
       " Link: opposite <['A']> -> <X>,\n",
       " Link: sentence <['C', 'Y', 'X']> -> <Z>]"
      ]
     },
     "execution_count": 31,
     "metadata": {},
     "output_type": "execute_result"
    }
   ],
   "execution_count": 31
  },
  {
   "cell_type": "code",
   "id": "f5fca5fd6f655679",
   "metadata": {
    "collapsed": false,
    "jupyter": {
     "outputs_hidden": false
    },
    "ExecuteTime": {
     "end_time": "2025-03-06T12:43:10.953055Z",
     "start_time": "2025-03-06T12:43:10.950301Z"
    }
   },
   "source": [
    "# Now we can run it\n",
    "try:\n",
    "    result = chain.run(input_dict={\"A\": \"A police officer\", \"B\": \"Hopeful\"})\n",
    "except Exception as e:\n",
    "    print(e)"
   ],
   "outputs": [
    {
     "name": "stdout",
     "output_type": "stream",
     "text": [
      "The following input keys are required: {'B', 'A', 'C'}. Missing: {'C'}\n"
     ]
    }
   ],
   "execution_count": 32
  },
  {
   "cell_type": "code",
   "id": "4dabac4f53177f1e",
   "metadata": {
    "collapsed": false,
    "jupyter": {
     "outputs_hidden": false
    },
    "ExecuteTime": {
     "end_time": "2025-03-06T12:43:12.841004Z",
     "start_time": "2025-03-06T12:43:10.959048Z"
    }
   },
   "source": [
    "# Woops, forgot something! There's no link that generates the 'C' key. We can pass it in though.\n",
    "result = chain.run(input_dict={\"A\": \"A police officer\", \"B\": \"Hopeful\", \"C\": \"a dog\"})\n",
    "print(result['state'])"
   ],
   "outputs": [
    {
     "name": "stdout",
     "output_type": "stream",
     "text": [
      "The optimistic police officer knelt down to pet the friendly dog, believing that their connection could help bridge the gap between the community and law enforcement.\n"
     ]
    }
   ],
   "execution_count": 33
  },
  {
   "cell_type": "code",
   "id": "fd6aa1cb2325cd41",
   "metadata": {
    "collapsed": false,
    "jupyter": {
     "outputs_hidden": false
    },
    "ExecuteTime": {
     "end_time": "2025-03-06T12:43:12.862150Z",
     "start_time": "2025-03-06T12:43:12.858495Z"
    }
   },
   "source": [
    "# Cycles are not allowed\n",
    "link_up = Link(\n",
    "    template=StringTemplate(\n",
    "        \"Capitalize this word: {up}. Only respond with the capitalized version\",\n",
    "    ),\n",
    "    name = 'up',\n",
    "    output_key=\"down\",\n",
    ")\n",
    "link_b = Link(\n",
    "    template=StringTemplate(\n",
    "        \"What's a synonym for {down}. Reply with one word.\", \n",
    "    ),\n",
    "    name='down',\n",
    "    output_key=\"up\",\n",
    ")\n",
    "chain = Chain(model=model, links=[link_up, link_b])\n",
    "try:\n",
    "    chain.run(input_dict={\"up\": \"happy\"})\n",
    "except Exception as e:\n",
    "    print(e)"
   ],
   "outputs": [
    {
     "name": "stdout",
     "output_type": "stream",
     "text": [
      "Cycle detected in the dependency graph.\n"
     ]
    }
   ],
   "execution_count": 34
  },
  {
   "cell_type": "code",
   "id": "b3a8561144f1584c",
   "metadata": {
    "collapsed": false,
    "jupyter": {
     "outputs_hidden": false
    },
    "ExecuteTime": {
     "end_time": "2025-03-06T12:43:12.905747Z",
     "start_time": "2025-03-06T12:43:12.900807Z"
    }
   },
   "source": [],
   "outputs": [],
   "execution_count": null
  },
  {
   "metadata": {
    "ExecuteTime": {
     "end_time": "2025-03-06T12:43:12.949717Z",
     "start_time": "2025-03-06T12:43:12.945331Z"
    }
   },
   "cell_type": "code",
   "source": "",
   "id": "1688858b2321221",
   "outputs": [],
   "execution_count": null
  }
 ],
 "metadata": {
  "kernelspec": {
   "display_name": "Python 3 (ipykernel)",
   "language": "python",
   "name": "python3"
  },
  "language_info": {
   "codemirror_mode": {
    "name": "ipython",
    "version": 3
   },
   "file_extension": ".py",
   "mimetype": "text/x-python",
   "name": "python",
   "nbconvert_exporter": "python",
   "pygments_lexer": "ipython3",
   "version": "3.12.4"
  }
 },
 "nbformat": 4,
 "nbformat_minor": 5
}
