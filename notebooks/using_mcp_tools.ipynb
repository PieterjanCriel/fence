{
 "cells": [
  {
   "cell_type": "code",
   "execution_count": 1,
   "id": "c5a08137",
   "metadata": {},
   "outputs": [],
   "source": [
    "from pathlib import Path\n",
    "current_dir = Path('.').resolve().parents[0]\n",
    "import sys\n",
    "sys.path.append(str(current_dir))"
   ]
  },
  {
   "cell_type": "code",
   "execution_count": 2,
   "id": "548a55cf",
   "metadata": {},
   "outputs": [],
   "source": [
    "%load_ext autoreload\n",
    "\n",
    "from mcp.client.sse import sse_client\n",
    "from fence.tools.mcp.mcp_client import MCPClient\n",
    "\n",
    "from fence.agents.bedrock import BedrockAgent\n",
    "from fence.models.bedrock import NovaPro\n",
    "\n"
   ]
  },
  {
   "cell_type": "code",
   "execution_count": 3,
   "id": "4a664d2c",
   "metadata": {},
   "outputs": [],
   "source": [
    "sse_mcp_client = MCPClient(lambda: sse_client(\"http://localhost:8000/sse\"))"
   ]
  },
  {
   "cell_type": "code",
   "execution_count": 4,
   "id": "d9b210e6",
   "metadata": {},
   "outputs": [
    {
     "data": {
      "text/plain": [
       "<fence.tools.mcp.mcp_client.MCPClient at 0x1076a8440>"
      ]
     },
     "execution_count": 4,
     "metadata": {},
     "output_type": "execute_result"
    }
   ],
   "source": [
    "sse_mcp_client.start()"
   ]
  },
  {
   "cell_type": "code",
   "execution_count": null,
   "id": "c9ca5802",
   "metadata": {},
   "outputs": [],
   "source": []
  },
  {
   "cell_type": "code",
   "execution_count": null,
   "id": "36ae87f8",
   "metadata": {},
   "outputs": [
    {
     "name": "stdout",
     "output_type": "stream",
     "text": [
      "fetch\n"
     ]
    }
   ],
   "source": [
    "tools = sse_mcp_client.list_tools()\n",
    "\n",
    "first_tool = tools[0]\n",
    "print(first_tool.get_tool_name())"
   ]
  },
  {
   "cell_type": "code",
   "execution_count": 7,
   "id": "bcb8df2e",
   "metadata": {},
   "outputs": [
    {
     "name": "stdout",
     "output_type": "stream",
     "text": [
      "{\"text\": \"Missing required argument 'url'\"}\n"
     ]
    }
   ],
   "source": [
    "out = first_tool.execute_tool({\"url\" : \"https://www.standaard.be\"})\n"
   ]
  },
  {
   "cell_type": "code",
   "execution_count": null,
   "id": "407a00d5",
   "metadata": {},
   "outputs": [],
   "source": [
    "# get Tools from the MCP\n",
    "tools = sse_mcp_client.list_tools()\n",
    "\n",
    "# Create a model\n",
    "model = NovaPro(region='us-east-1') # Not out in eu-west-1 yet, our default\n",
    "\n",
    "# Create an agent\n",
    "agent = BedrockAgent(\n",
    "    model=model,\n",
    "    tools=tools,\n",
    ")\n"
   ]
  },
  {
   "cell_type": "code",
   "execution_count": 9,
   "id": "8244bde4",
   "metadata": {},
   "outputs": [
    {
     "name": "stdout",
     "output_type": "stream",
     "text": [
      "\u001b[1mBedrockAgent\u001b[0m 🚀 \u001b[96m[start]\u001b[0m Agent BedrockAgent started\n",
      "\u001b[1mBedrockAgent\u001b[0m 💭 \u001b[94m[thought]\u001b[0m To determine what the website https://example.com is about, I need to fetch the content of the website and analyze it.\n",
      "\u001b[1mBedrockAgent\u001b[0m 🔧 \u001b[38;5;208m[tool_use]\u001b[0m Tool [fetch] requested with parameters: {'url': 'https://example.com'}\n",
      "{\"text\": \"<!doctype html>\\n<html>\\n<head>\\n    <title>Example Domain</title>\\n\\n    <meta charset=\\\"utf-8\\\" />\\n    <meta http-equiv=\\\"Content-type\\\" content=\\\"text/html; charset=utf-8\\\" />\\n    <meta name=\\\"viewport\\\" content=\\\"width=device-width, initial-scale=1\\\" />\\n    <style type=\\\"text/css\\\">\\n    body {\\n        background-color: #f0f0f2;\\n        margin: 0;\\n        padding: 0;\\n        font-family: -apple-system, system-ui, BlinkMacSystemFont, \\\"Segoe UI\\\", \\\"Open Sans\\\", \\\"Helvetica Neue\\\", Helvetica, Arial, sans-serif;\\n        \\n    }\\n    div {\\n        width: 600px;\\n        margin: 5em auto;\\n        padding: 2em;\\n        background-color: #fdfdff;\\n        border-radius: 0.5em;\\n        box-shadow: 2px 3px 7px 2px rgba(0,0,0,0.02);\\n    }\\n    a:link, a:visited {\\n        color: #38488f;\\n        text-decoration: none;\\n    }\\n    @media (max-width: 700px) {\\n        div {\\n            margin: 0 auto;\\n            width: auto;\\n        }\\n    }\\n    </style>    \\n</head>\\n\\n<body>\\n<div>\\n    <h1>Example Domain</h1>\\n    <p>This domain is for use in illustrative examples in documents. You may use this\\n    domain in literature without prior coordination or asking for permission.</p>\\n    <p><a href=\\\"https://www.iana.org/domains/example\\\">More information...</a></p>\\n</div>\\n</body>\\n</html>\\n\"}\n",
      "\u001b[1mBedrockAgent\u001b[0m 🔧 \u001b[38;5;208m[tool_use]\u001b[0m Tool [fetch] executed with parameters: {'url': 'https://example.com'} -> {\"text\": \"<!doctype html>\\n<html>\\n<head>\\n    <title>Example Domain</title>\\n\\n    <meta charset=\\\"utf-8\\\" />\\n    <meta http-equiv=\\\"Content-type\\\" content=\\\"text/html; charset=utf-8\\\" />\\n    <meta name=\\\"viewport\\\" content=\\\"width=device-width, initial-scale=1\\\" />\\n    <style type=\\\"text/css\\\">\\n    body {\\n        background-color: #f0f0f2;\\n        margin: 0;\\n        padding: 0;\\n        font-family: -apple-system, system-ui, BlinkMacSystemFont, \\\"Segoe UI\\\", \\\"Open Sans\\\", \\\"Helvetica Neue\\\", Helvetica, Arial, sans-serif;\\n        \\n    }\\n    div {\\n        width: 600px;\\n        margin: 5em auto;\\n        padding: 2em;\\n        background-color: #fdfdff;\\n        border-radius: 0.5em;\\n        box-shadow: 2px 3px 7px 2px rgba(0,0,0,0.02);\\n    }\\n    a:link, a:visited {\\n        color: #38488f;\\n        text-decoration: none;\\n    }\\n    @media (max-width: 700px) {\\n        div {\\n            margin: 0 auto;\\n            width: auto;\\n        }\\n    }\\n    </style>    \\n</head>\\n\\n<body>\\n<div>\\n    <h1>Example Domain</h1>\\n    <p>This domain is for use in illustrative examples in documents. You may use this\\n    domain in literature without prior coordination or asking for permission.</p>\\n    <p><a href=\\\"https://www.iana.org/domains/example\\\">More information...</a></p>\\n</div>\\n</body>\\n</html>\\n\"}\n",
      "\u001b[1mBedrockAgent\u001b[0m 🎯 \u001b[91m[answer]\u001b[0m The website https://example.com is a domain used for illustrative examples in documents. It is intended for use in literature without the need for prior coordination or permission. For more information, you can visit the provided link: [More information...](https://www.iana.org/domains/example).\n",
      "\u001b[1mBedrockAgent\u001b[0m 🏁 \u001b[96m[stop]\u001b[0m Agent BedrockAgent stopped\n"
     ]
    }
   ],
   "source": [
    "response = agent.run('What is the website https://example.com about?')"
   ]
  },
  {
   "cell_type": "code",
   "execution_count": null,
   "id": "b525cc95",
   "metadata": {},
   "outputs": [],
   "source": [
    "print(f\"\\n\\nAgent answer: {response.answer}\")"
   ]
  },
  {
   "cell_type": "code",
   "execution_count": null,
   "id": "19f94ff8",
   "metadata": {},
   "outputs": [],
   "source": []
  }
 ],
 "metadata": {
  "kernelspec": {
   "display_name": ".venv",
   "language": "python",
   "name": "python3"
  },
  "language_info": {
   "codemirror_mode": {
    "name": "ipython",
    "version": 3
   },
   "file_extension": ".py",
   "mimetype": "text/x-python",
   "name": "python",
   "nbconvert_exporter": "python",
   "pygments_lexer": "ipython3",
   "version": "3.13.3"
  }
 },
 "nbformat": 4,
 "nbformat_minor": 5
}
