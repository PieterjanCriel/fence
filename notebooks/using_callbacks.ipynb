{
 "cells": [
  {
   "metadata": {},
   "cell_type": "markdown",
   "source": "# 🤺 Demo: Using the logging callbacks\n",
   "id": "a813be7c9e416c85"
  },
  {
   "metadata": {},
   "cell_type": "markdown",
   "source": [
    "## 🧐 What is a log callback and how do I use it?\n",
    "\n",
    "When making calls to an LLM, you may want to record some metrics to your own system. This is where the log callback comes in. It allows you to record the metrics of your choice, via a custom function. Let's try a minimal example."
   ],
   "id": "d9a84620404fa77e"
  },
  {
   "metadata": {
    "ExecuteTime": {
     "end_time": "2025-02-27T09:23:06.271175Z",
     "start_time": "2025-02-27T09:23:06.268084Z"
    }
   },
   "cell_type": "code",
   "source": [
    "from fence.models.openai.gpt import GPT4omini\n",
    "from fence.models.base import register_log_callback, register_log_tags\n",
    "from fence.utils.logger import setup_logging\n",
    "\n",
    "logger = setup_logging(are_you_serious=False)\n",
    "model = GPT4omini()"
   ],
   "id": "6d25709c0a479001",
   "outputs": [],
   "execution_count": 6
  },
  {
   "metadata": {},
   "cell_type": "markdown",
   "source": [
    "Let's register two things:\n",
    "* A log callback that prints the metrics and tags. This can be any function you want.\n",
    "* Some tags that will be passed to the log callback. This can be any dictionary you want."
   ],
   "id": "66013fed09a60cf5"
  },
  {
   "metadata": {
    "ExecuteTime": {
     "end_time": "2025-02-27T09:23:06.285454Z",
     "start_time": "2025-02-27T09:23:06.282926Z"
    }
   },
   "cell_type": "code",
   "source": [
    "# Register logging callback\n",
    "from pprint import pformat\n",
    "register_log_callback(lambda metrics, tags: print(f\"Sending metrics: {pformat(metrics)}\\nwith tags: {pformat(tags)}\"))\n",
    "\n",
    "# Register logging tags\n",
    "register_log_tags({\"team\": \"Olympic Fencing team\", \"project\": \"Mad secret pudding project\"})\n",
    "\n",
    "# Print them out\n",
    "from fence.models.base import get_log_tags, get_log_callback\n",
    "print(f\"Callback: {get_log_callback()}\")\n",
    "print(f\"Tags: {get_log_tags()}\")"
   ],
   "id": "220871bd49720fc4",
   "outputs": [
    {
     "name": "stdout",
     "output_type": "stream",
     "text": [
      "Callback: <function <lambda> at 0x10a3d13a0>\n",
      "Tags: {'team': 'Olympic Fencing team', 'project': 'Mad secret pudding project'}\n"
     ]
    }
   ],
   "execution_count": 7
  },
  {
   "metadata": {},
   "cell_type": "markdown",
   "source": "Now let's make a call to the model. The log callback will print the metrics and tags.",
   "id": "5787ffa5e5d2e252"
  },
  {
   "metadata": {
    "ExecuteTime": {
     "end_time": "2025-02-27T09:23:09.290231Z",
     "start_time": "2025-02-27T09:23:06.362172Z"
    }
   },
   "cell_type": "code",
   "source": "response = model(\"Who was the best fencer of all time?\")",
   "id": "56cfd02ab367f8fb",
   "outputs": [
    {
     "name": "stdout",
     "output_type": "stream",
     "text": [
      "{'input_token_count': 17, 'output_token_count': 229, 'input_word_count': 8, 'output_word_count': 152}\n",
      "Sending metrics: {'input_token_count': 17,\n",
      " 'input_word_count': 8,\n",
      " 'invocation': 1,\n",
      " 'output_token_count': 229,\n",
      " 'output_word_count': 152}\n",
      "with tags: {'project': 'Mad secret pudding project',\n",
      " 'team': 'Olympic Fencing team',\n",
      " 'weapon': 'foil'}\n"
     ]
    }
   ],
   "execution_count": 8
  },
  {
   "metadata": {},
   "cell_type": "markdown",
   "source": "Now let's add some more tags, and a special metric prefix.",
   "id": "94885b08cd5165ac"
  },
  {
   "metadata": {
    "ExecuteTime": {
     "end_time": "2025-02-27T09:23:09.369067Z",
     "start_time": "2025-02-27T09:23:09.366209Z"
    }
   },
   "cell_type": "code",
   "source": "model = GPT4omini(metric_prefix=\"🤺\", extra_tags={\"weapon\": \"Epee\"})",
   "id": "feb3865aebb28beb",
   "outputs": [],
   "execution_count": 9
  },
  {
   "metadata": {
    "ExecuteTime": {
     "end_time": "2025-02-27T09:23:12.741016Z",
     "start_time": "2025-02-27T09:23:09.384241Z"
    }
   },
   "cell_type": "code",
   "source": "response = model(\"Seriously, who was the best fencer of all time?\")\n",
   "id": "6cf295cf99c2490a",
   "outputs": [
    {
     "name": "stdout",
     "output_type": "stream",
     "text": [
      "{'🤺.input_token_count': 19, '🤺.output_token_count': 283, '🤺.input_word_count': 9, '🤺.output_word_count': 201}\n",
      "Sending metrics: {'🤺.input_token_count': 19,\n",
      " '🤺.input_word_count': 9,\n",
      " '🤺.invocation': 1,\n",
      " '🤺.output_token_count': 283,\n",
      " '🤺.output_word_count': 201}\n",
      "with tags: {'project': 'Mad secret pudding project',\n",
      " 'team': 'Olympic Fencing team',\n",
      " 'weapon': 'Epee'}\n"
     ]
    }
   ],
   "execution_count": 10
  },
  {
   "metadata": {
    "ExecuteTime": {
     "end_time": "2025-02-27T09:23:12.761743Z",
     "start_time": "2025-02-27T09:23:12.759872Z"
    }
   },
   "cell_type": "code",
   "source": "",
   "id": "c74fc2ba296c021f",
   "outputs": [],
   "execution_count": null
  }
 ],
 "metadata": {
  "kernelspec": {
   "display_name": "Python 3",
   "language": "python",
   "name": "python3"
  },
  "language_info": {
   "codemirror_mode": {
    "name": "ipython",
    "version": 2
   },
   "file_extension": ".py",
   "mimetype": "text/x-python",
   "name": "python",
   "nbconvert_exporter": "python",
   "pygments_lexer": "ipython2",
   "version": "2.7.6"
  }
 },
 "nbformat": 4,
 "nbformat_minor": 5
}
