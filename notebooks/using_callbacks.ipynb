{
 "cells": [
  {
   "metadata": {},
   "cell_type": "markdown",
   "source": "# 🤺 Demo: Using the logging callbacks\n",
   "id": "a813be7c9e416c85"
  },
  {
   "metadata": {},
   "cell_type": "markdown",
   "source": [
    "## 🧐 What is a log callback and how do I use it?\n",
    "\n",
    "When making calls to an LLM, you may want to record some metrics to your own system. This is where the log callback comes in. It allows you to record the metrics of your choice, via a custom function. Let's try a minimal example."
   ],
   "id": "d9a84620404fa77e"
  },
  {
   "metadata": {
    "ExecuteTime": {
     "end_time": "2025-03-06T12:53:04.911349Z",
     "start_time": "2025-03-06T12:53:04.731493Z"
    }
   },
   "cell_type": "code",
   "source": [
    "from fence.models.openai.gpt import GPT4omini\n",
    "from fence.models.base import register_log_callback, register_log_tags\n",
    "from fence.utils.logger import setup_logging\n",
    "\n",
    "logger = setup_logging(are_you_serious=False)\n",
    "model = GPT4omini()"
   ],
   "id": "6d25709c0a479001",
   "outputs": [],
   "execution_count": 1
  },
  {
   "metadata": {},
   "cell_type": "markdown",
   "source": [
    "Let's register two things:\n",
    "* A log callback that prints the metrics and tags. This can be any function you want.\n",
    "* Some tags that will be passed to the log callback. This can be any dictionary you want."
   ],
   "id": "66013fed09a60cf5"
  },
  {
   "metadata": {
    "ExecuteTime": {
     "end_time": "2025-03-06T12:53:04.917529Z",
     "start_time": "2025-03-06T12:53:04.915410Z"
    }
   },
   "cell_type": "code",
   "source": [
    "# Register logging callback\n",
    "from pprint import pformat\n",
    "register_log_callback(lambda metrics, tags: print(f\"Sending metrics: {pformat(metrics)}\\nwith tags: {pformat(tags)}\"))\n",
    "\n",
    "# Register logging tags\n",
    "register_log_tags({\"team\": \"Olympic Fencing team\", \"project\": \"Mad secret pudding project\"})\n",
    "\n",
    "# Print them out\n",
    "from fence.models.base import get_log_tags, get_log_callback\n",
    "print(f\"Callback: {get_log_callback()}\")\n",
    "print(f\"Tags: {get_log_tags()}\")"
   ],
   "id": "220871bd49720fc4",
   "outputs": [
    {
     "name": "stdout",
     "output_type": "stream",
     "text": [
      "Callback: <function <lambda> at 0x1240e1b20>\n",
      "Tags: {'team': 'Olympic Fencing team', 'project': 'Mad secret pudding project'}\n"
     ]
    }
   ],
   "execution_count": 2
  },
  {
   "metadata": {},
   "cell_type": "markdown",
   "source": "Now let's make a call to the model. The log callback will print the metrics and tags.",
   "id": "5787ffa5e5d2e252"
  },
  {
   "metadata": {
    "ExecuteTime": {
     "end_time": "2025-03-06T12:53:10.886142Z",
     "start_time": "2025-03-06T12:53:05.035335Z"
    }
   },
   "cell_type": "code",
   "source": "response = model(\"Who was the best fencer of all time?\")",
   "id": "56cfd02ab367f8fb",
   "outputs": [
    {
     "name": "stdout",
     "output_type": "stream",
     "text": [
      "Sending metrics: {'input_token_count': 17,\n",
      " 'input_word_count': 8,\n",
      " 'invocation': 1,\n",
      " 'output_token_count': 294,\n",
      " 'output_word_count': 216}\n",
      "with tags: {}\n"
     ]
    }
   ],
   "execution_count": 3
  },
  {
   "metadata": {},
   "cell_type": "markdown",
   "source": "Now let's add some more tags, and a special metric prefix.",
   "id": "94885b08cd5165ac"
  },
  {
   "metadata": {
    "ExecuteTime": {
     "end_time": "2025-03-06T12:53:10.893220Z",
     "start_time": "2025-03-06T12:53:10.891202Z"
    }
   },
   "cell_type": "code",
   "source": "model = GPT4omini(metric_prefix=\"🤺\", extra_tags={\"weapon\": \"Epee\"})",
   "id": "feb3865aebb28beb",
   "outputs": [],
   "execution_count": 4
  },
  {
   "metadata": {
    "ExecuteTime": {
     "end_time": "2025-03-06T12:53:16.921363Z",
     "start_time": "2025-03-06T12:53:10.904307Z"
    }
   },
   "cell_type": "code",
   "source": "response = model(\"Seriously, who was the best fencer of all time?\")\n",
   "id": "6cf295cf99c2490a",
   "outputs": [
    {
     "name": "stdout",
     "output_type": "stream",
     "text": [
      "Sending metrics: {'🤺.input_token_count': 19,\n",
      " '🤺.input_word_count': 9,\n",
      " '🤺.invocation': 1,\n",
      " '🤺.output_token_count': 282,\n",
      " '🤺.output_word_count': 193}\n",
      "with tags: {'project': 'Mad secret pudding project',\n",
      " 'team': 'Olympic Fencing team',\n",
      " 'weapon': 'Epee'}\n"
     ]
    }
   ],
   "execution_count": 5
  },
  {
   "metadata": {
    "ExecuteTime": {
     "end_time": "2025-03-06T12:53:16.936171Z",
     "start_time": "2025-03-06T12:53:16.934508Z"
    }
   },
   "cell_type": "code",
   "source": "",
   "id": "c74fc2ba296c021f",
   "outputs": [],
   "execution_count": null
  }
 ],
 "metadata": {
  "kernelspec": {
   "display_name": "Python 3",
   "language": "python",
   "name": "python3"
  },
  "language_info": {
   "codemirror_mode": {
    "name": "ipython",
    "version": 2
   },
   "file_extension": ".py",
   "mimetype": "text/x-python",
   "name": "python",
   "nbconvert_exporter": "python",
   "pygments_lexer": "ipython2",
   "version": "2.7.6"
  }
 },
 "nbformat": 4,
 "nbformat_minor": 5
}
