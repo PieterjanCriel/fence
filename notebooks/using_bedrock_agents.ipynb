{
 "cells": [
  {
   "cell_type": "markdown",
   "metadata": {},
   "source": [
    "# 🤺 Demo: Using the Bedrock Agents"
   ]
  },
  {
   "cell_type": "markdown",
   "metadata": {},
   "source": [
    "**What is a Bedrock Agent?**\n",
    "\n",
    "Bedrock, and more specifically its Converse API, has tool calling built-in. As a result, it made sense to overhaul the Bedrock LLM classes to support said tool calling (which involved extra models, handling the output, etc.).\n",
    "\n",
    "Once the model classes had been rebuilt, the opportunity presented itself to implement a new Agent. Rather than build a vanilla ReAct agent, this one would leverage implicit tool calling, and support some extra features. Let's start off slow.\n",
    "\n",
    "**_Caveat_** Agents work with various models, but they need be 'smart enough'. For instance, NovaPro seems to work quite well, whereas NovaLite of NovaMicro tend to make mistakes in the tool calling, or returning of answers.\n",
    "\n",
    "### 1. A simple Bedrock Agent"
   ]
  },
  {
   "cell_type": "code",
   "execution_count": 8,
   "metadata": {},
   "outputs": [],
   "source": [
    "from fence.agents.bedrock import BedrockAgent\n",
    "from fence.models.bedrock import NovaPro\n",
    "from fence.models.bedrock import Claude35Sonnet, ClaudeHaiku"
   ]
  },
  {
   "cell_type": "code",
   "execution_count": 9,
   "metadata": {},
   "outputs": [
    {
     "name": "stdout",
     "output_type": "stream",
     "text": [
      "\u001b[1mBedrockAgent\u001b[0m 💭 \u001b[94m[thought]\u001b[0m The user has greeted me. I should respond with a friendly greeting and offer assistance.\n",
      "\u001b[1mBedrockAgent\u001b[0m 🎯 \u001b[91m[answer]\u001b[0m Hello! It's nice to have you here. How can I assist you today? Whether you have a question, need information, or just want to chat, I'm here to help.\n",
      "\n",
      "\n",
      "Agent answer: Hello! It's nice to have you here. How can I assist you today? Whether you have a question, need information, or just want to chat, I'm here to help.\n"
     ]
    }
   ],
   "source": [
    "# Create a model\n",
    "model = NovaPro(region='us-east-1') # Not out in eu-west-1 yet, our default\n",
    "\n",
    "# Create an agent\n",
    "agent = BedrockAgent(model=model)\n",
    "\n",
    "# Run the agent\n",
    "response = agent.run('hello!')\n",
    "\n",
    "print(f\"\\n\\nAgent answer: {response.answer}\")"
   ]
  },
  {
   "cell_type": "markdown",
   "metadata": {},
   "source": [
    "Cool, that's a hello world agent. Let's make it a bit more interesting and give it some more tools.\n",
    "\n",
    "### 2. A Bedrock Agent that can perform temperature conversions\n"
   ]
  },
  {
   "cell_type": "code",
   "execution_count": 10,
   "metadata": {},
   "outputs": [],
   "source": [
    "from fence.tools.base import tool\n",
    "\n",
    "# Define a weather tool using the decorator\n",
    "@tool(description=\"Get the current weather for a location\")\n",
    "def get_weather(location: str):\n",
    "    \"\"\"\n",
    "    Get the current weather for a location.\n",
    "\n",
    "    :param location: The location to get the weather for\n",
    "    :return: The current weather for the location\n",
    "    \"\"\"\n",
    "    # Simulate weather API response\n",
    "    weather_data = {\n",
    "        \"New York\": \"Sunny, 75°F\",\n",
    "        \"London\": \"Rainy, 55°F\",\n",
    "        \"Tokyo\": \"Cloudy, 65°F\",\n",
    "        \"Sydney\": \"Clear, 80°F\",\n",
    "    }\n",
    "    return weather_data.get(location, f\"Weather data not available for {location}\")\n",
    "\n",
    "# Define a temperature conversion tool\n",
    "@tool(description=\"Convert temperature between Fahrenheit and Celsius\")\n",
    "def convert_temperature(value: float, from_unit: str, to_unit: str):\n",
    "    \"\"\"\n",
    "    Convert temperature between Fahrenheit and Celsius.\n",
    "\n",
    "    :param value: The temperature value to convert\n",
    "    :param from_unit: The unit to convert from ('Fahrenheit', 'F', 'Celsius', 'C')\n",
    "    :param to_unit: The unit to convert to ('Fahrenheit', 'F', 'Celsius', 'C')\n",
    "    :return: The converted temperature value\n",
    "    \"\"\"\n",
    "    # Normalize input units\n",
    "    from_unit = from_unit.lower()\n",
    "    to_unit = to_unit.lower()\n",
    "\n",
    "    # Convert full names to single letters\n",
    "    if from_unit in [\"fahrenheit\", \"f\"]:\n",
    "        from_unit = \"f\"\n",
    "    elif from_unit in [\"celsius\", \"c\"]:\n",
    "        from_unit = \"c\"\n",
    "\n",
    "    if to_unit in [\"fahrenheit\", \"f\"]:\n",
    "        to_unit = \"f\"\n",
    "    elif to_unit in [\"celsius\", \"c\"]:\n",
    "        to_unit = \"c\"\n",
    "\n",
    "    if from_unit == \"f\" and to_unit == \"c\":\n",
    "        return f\"{(value - 32) * 5/9:.1f}°C\"\n",
    "    elif from_unit == \"c\" and to_unit == \"f\":\n",
    "        return f\"{(value * 9/5) + 32:.1f}°F\"\n",
    "    else:\n",
    "        return f\"Invalid conversion: {from_unit} to {to_unit}\"\n"
   ]
  },
  {
   "cell_type": "markdown",
   "metadata": {},
   "source": [
    "Now let's hand these over to the agent, and see how it can use them."
   ]
  },
  {
   "cell_type": "code",
   "execution_count": 11,
   "metadata": {},
   "outputs": [
    {
     "name": "stdout",
     "output_type": "stream",
     "text": [
      "\u001b[1mBedrockAgent\u001b[0m 💭 \u001b[94m[thought]\u001b[0m To provide the weather in New York in Celsius, I need to follow these steps:\n",
      "1. Get the current weather in New York using the GetWeatherTool.\n",
      "2. Extract the temperature from the weather data.\n",
      "3. Convert the temperature from Fahrenheit to Celsius using the ConvertTemperatureTool.\n",
      "\u001b[1mBedrockAgent\u001b[0m 🔧 \u001b[38;5;208m[tool_use]\u001b[0m Using tool [GetWeatherTool] with parameters: {'location': 'New York'} -> Sunny, 75°F\n",
      "\u001b[1mBedrockAgent\u001b[0m 💭 \u001b[94m[thought]\u001b[0m The current weather in New York is Sunny, 75°F. I need to convert this temperature from Fahrenheit to Celsius using the ConvertTemperatureTool.\n",
      "\u001b[1mBedrockAgent\u001b[0m 🔧 \u001b[38;5;208m[tool_use]\u001b[0m Using tool [ConvertTemperatureTool] with parameters: {'from_unit': 'Fahrenheit', 'to_unit': 'Celsius', 'value': 75} -> 23.9°C\n",
      "\u001b[1mBedrockAgent\u001b[0m 🎯 \u001b[91m[answer]\u001b[0m The weather in New York is Sunny, 23.9°C.\n",
      "\n",
      "\n",
      "Agent answer: The weather in New York is Sunny, 23.9°C.\n",
      "\n",
      "\n"
     ]
    }
   ],
   "source": [
    "# New agent\n",
    "agent = BedrockAgent(model=model, tools=[get_weather, convert_temperature])\n",
    "\n",
    "# Get the weather in Brussels, in Celsius\n",
    "response = agent.run('What is the weather in New York, in Celsius?')\n",
    "\n",
    "print(f\"\\n\\nAgent answer: {response.answer}\\n\\n\")\n"
   ]
  },
  {
   "cell_type": "markdown",
   "metadata": {},
   "source": [
    "Now, the response actually contains more information than just the answer. What it contains is the following:\n",
    "\n",
    "- `answer`: The answer to the question\n",
    "- `events`: All events that occurred during the agent's execution, broken down into:\n",
    "  - `thinking`: All thoughts the agent had\n",
    "  - `tool_use`: All tool calls the agent made\n",
    "  - `answer`: The final answer to the question\n",
    "\n",
    "This allows for a much more detailed analysis of the agent's thought process and tool usage.\n"
   ]
  },
  {
   "cell_type": "code",
   "execution_count": 12,
   "metadata": {},
   "outputs": [
    {
     "name": "stdout",
     "output_type": "stream",
     "text": [
      "[Thinking event: \"To provide the weather in New York in Celsius, I need to follow these steps:\n",
      "1. Get the current weather in New York using the GetWeatherTool.\n",
      "2. Extract the temperature from the weather data.\n",
      "3. Convert the temperature from Fahrenheit to Celsius using the ConvertTemperatureTool.\",\n",
      " Tool_use event: GetWeatherTool ({'location': 'New York'}) -> Sunny, 75°F,\n",
      " Thinking event: \"The current weather in New York is Sunny, 75°F. I need to convert this temperature from Fahrenheit to Celsius using the ConvertTemperatureTool.\",\n",
      " Tool_use event: ConvertTemperatureTool ({'from_unit': 'Fahrenheit', 'to_unit': 'Celsius', 'value': 75}) -> 23.9°C,\n",
      " Answer event: \"The weather in New York is Sunny, 23.9°C.\"]\n"
     ]
    }
   ],
   "source": [
    "from pprint import pprint\n",
    "pprint(response.events)"
   ]
  },
  {
   "cell_type": "markdown",
   "metadata": {},
   "source": [
    "Some extra options:\n",
    "- Pass an `identifier` to the agent, to help with logging (useful when running multiple agents)\n",
    "- Pass a `system_message` to the agent, to change the assistant's personality\n",
    "- Pass a `memory` to the agent, to use a custom memory (e.g., DynamoDBMemory)\n",
    "- Pass `log_agentic_response` to the agent, to disable intermediate logging\n",
    "- Pass a `are_you_serious` to the agent, to change the log message style to boring\n",
    "\n"
   ]
  },
  {
   "cell_type": "code",
   "execution_count": 13,
   "metadata": {},
   "outputs": [
    {
     "name": "stdout",
     "output_type": "stream",
     "text": [
      "-- Using an identifier\n",
      "\u001b[1mmy_agent\u001b[0m 💭 \u001b[94m[thought]\u001b[0m The user has greeted me. I should respond with a friendly greeting and offer assistance.\n",
      "\u001b[1mmy_agent\u001b[0m 🎯 \u001b[91m[answer]\u001b[0m Hello! It's nice to have you here. How can I assist you today? If you have any questions or need help with something, feel free to ask.\n",
      "-- Using a system message\n",
      "\u001b[1mBedrockAgent\u001b[0m 💭 \u001b[94m[thought]\u001b[0m In this scenario, I am to act as a rude French person who pretends not understanding English. I should respond in French, displaying a lack of comprehension of the English greeting.\n",
      "\u001b[1mBedrockAgent\u001b[0m 🎯 \u001b[91m[answer]\u001b[0m Bonjour! Ah, je ne comprends pas l'anglais. Parlez-vous français?\n",
      "-- Boring logging\n",
      "BedrockAgent: [thought] The user has greeted me. I should respond with a friendly greeting and offer assistance.\n",
      "BedrockAgent: [answer] Hello! It's nice to have you here. How can I assist you today? Whether you have a question, need information, or just want to chat, I'm here to help.\n"
     ]
    }
   ],
   "source": [
    "print(\"-- Using an identifier\")\n",
    "agent = BedrockAgent(model=model, identifier=\"my_agent\")\n",
    "agent.run('hello!')\n",
    "\n",
    "print(\"-- Using a system message\")\n",
    "agent = BedrockAgent(model=model, system_message=\"You are a rude French person who fakes not knowing English.\")\n",
    "agent.run('hello!')\n",
    "\n",
    "print(\"-- Boring logging\")\n",
    "agent = BedrockAgent(model=model, are_you_serious=True)\n",
    "agent.run('hello!');\n"
   ]
  },
  {
   "cell_type": "markdown",
   "metadata": {},
   "source": [
    "Now let's get into some more interesting stuff.\n",
    "\n",
    "### 3. Assigning custom event handlers\n",
    "\n",
    "Bedrock agents, as you already saw, handle output as different styles of events. There can be handled separately. One such example you can already see in the agentic logs: depending on the event, the log message is formatted differently. However, this also opens the door for new opportunities. What if we want to send messages to a Slack channel when a tool is used? Or when the agent provides an answer? Or when it thinks? We can do this by assigning custom event handlers. Let's mock some with a simple example.\n",
    "\n"
   ]
  },
  {
   "cell_type": "code",
   "execution_count": 14,
   "metadata": {},
   "outputs": [
    {
     "name": "stdout",
     "output_type": "stream",
     "text": [
      "2025-04-23 17:12:29,243 [WARNING] [fence.agents.bedrock.agent._set_event_handlers:279] Converting dict to EventHandlers: {'on_tool_use': <function on_tool_use at 0x1169c6f20>, 'on_thinking': <function on_thinking at 0x1169c76a0>, 'on_answer': <function on_answer at 0x1169c7c40>}\n",
      "2025-04-23 17:12:29,244 [WARNING] [fence.agents.bedrock.agent.validate_handlers:59] Validating handlers for on_tool_use\n",
      "2025-04-23 17:12:29,244 [WARNING] [fence.agents.bedrock.agent.validate_handlers:59] Validating handlers for on_thinking\n",
      "2025-04-23 17:12:29,245 [WARNING] [fence.agents.bedrock.agent.validate_handlers:59] Validating handlers for on_answer\n",
      "2025-04-23 17:12:29,245 [WARNING] [fence.agents.bedrock.agent._set_event_handlers:282] Error converting dict to EventHandlers: 1 validation error for EventHandlers\n",
      "on_tool_use\n",
      "  Value error, on_tool_use handler must accept parameters {'result', 'parameters', 'tool_name'}.  - Missing parameters: {'parameters'},  - Superfluous parameters: {'params'} [type=value_error, input_value=<function on_tool_use at 0x1169c6f20>, input_type=function]\n",
      "    For further information visit https://errors.pydantic.dev/2.10/v/value_error\n"
     ]
    },
    {
     "ename": "ValueError",
     "evalue": "Invalid event handlers: 1 validation error for EventHandlers\non_tool_use\n  Value error, on_tool_use handler must accept parameters {'result', 'parameters', 'tool_name'}.  - Missing parameters: {'parameters'},  - Superfluous parameters: {'params'} [type=value_error, input_value=<function on_tool_use at 0x1169c6f20>, input_type=function]\n    For further information visit https://errors.pydantic.dev/2.10/v/value_error",
     "output_type": "error",
     "traceback": [
      "\u001b[0;31m---------------------------------------------------------------------------\u001b[0m",
      "\u001b[0;31mValidationError\u001b[0m                           Traceback (most recent call last)",
      "File \u001b[0;32m~/Documents/Repositories/showpad_personal/fence/fence/agents/bedrock/agent.py:280\u001b[0m, in \u001b[0;36mBedrockAgent._set_event_handlers\u001b[0;34m(self, event_handlers)\u001b[0m\n\u001b[1;32m    279\u001b[0m     logger\u001b[38;5;241m.\u001b[39mwarning(\u001b[38;5;124mf\u001b[39m\u001b[38;5;124m\"\u001b[39m\u001b[38;5;124mConverting dict to EventHandlers: \u001b[39m\u001b[38;5;132;01m{\u001b[39;00mevent_handlers\u001b[38;5;132;01m}\u001b[39;00m\u001b[38;5;124m\"\u001b[39m)\n\u001b[0;32m--> 280\u001b[0m     event_handlers \u001b[38;5;241m=\u001b[39m \u001b[43mEventHandlers\u001b[49m\u001b[43m(\u001b[49m\u001b[38;5;241;43m*\u001b[39;49m\u001b[38;5;241;43m*\u001b[39;49m\u001b[43mevent_handlers\u001b[49m\u001b[43m)\u001b[49m\n\u001b[1;32m    281\u001b[0m \u001b[38;5;28;01mexcept\u001b[39;00m \u001b[38;5;167;01mException\u001b[39;00m \u001b[38;5;28;01mas\u001b[39;00m e:\n",
      "File \u001b[0;32m~/Documents/Repositories/showpad_personal/fence/.venv/lib/python3.13/site-packages/pydantic/main.py:214\u001b[0m, in \u001b[0;36mBaseModel.__init__\u001b[0;34m(self, **data)\u001b[0m\n\u001b[1;32m    213\u001b[0m __tracebackhide__ \u001b[38;5;241m=\u001b[39m \u001b[38;5;28;01mTrue\u001b[39;00m\n\u001b[0;32m--> 214\u001b[0m validated_self \u001b[38;5;241m=\u001b[39m \u001b[38;5;28;43mself\u001b[39;49m\u001b[38;5;241;43m.\u001b[39;49m\u001b[43m__pydantic_validator__\u001b[49m\u001b[38;5;241;43m.\u001b[39;49m\u001b[43mvalidate_python\u001b[49m\u001b[43m(\u001b[49m\u001b[43mdata\u001b[49m\u001b[43m,\u001b[49m\u001b[43m \u001b[49m\u001b[43mself_instance\u001b[49m\u001b[38;5;241;43m=\u001b[39;49m\u001b[38;5;28;43mself\u001b[39;49m\u001b[43m)\u001b[49m\n\u001b[1;32m    215\u001b[0m \u001b[38;5;28;01mif\u001b[39;00m \u001b[38;5;28mself\u001b[39m \u001b[38;5;129;01mis\u001b[39;00m \u001b[38;5;129;01mnot\u001b[39;00m validated_self:\n",
      "\u001b[0;31mValidationError\u001b[0m: 1 validation error for EventHandlers\non_tool_use\n  Value error, on_tool_use handler must accept parameters {'result', 'parameters', 'tool_name'}.  - Missing parameters: {'parameters'},  - Superfluous parameters: {'params'} [type=value_error, input_value=<function on_tool_use at 0x1169c6f20>, input_type=function]\n    For further information visit https://errors.pydantic.dev/2.10/v/value_error",
      "\nDuring handling of the above exception, another exception occurred:\n",
      "\u001b[0;31mValueError\u001b[0m                                Traceback (most recent call last)",
      "Cell \u001b[0;32mIn[14], line 21\u001b[0m\n\u001b[1;32m     17\u001b[0m     \u001b[38;5;28mprint\u001b[39m(\u001b[38;5;124mf\u001b[39m\u001b[38;5;124m\"\u001b[39m\u001b[38;5;124mSENDING ANSWER TO SLACK: \u001b[39m\u001b[38;5;132;01m{\u001b[39;00mtext\u001b[38;5;132;01m}\u001b[39;00m\u001b[38;5;124m\"\u001b[39m)\n\u001b[1;32m     20\u001b[0m \u001b[38;5;66;03m# Create the agent\u001b[39;00m\n\u001b[0;32m---> 21\u001b[0m agent \u001b[38;5;241m=\u001b[39m \u001b[43mBedrockAgent\u001b[49m\u001b[43m(\u001b[49m\u001b[43mmodel\u001b[49m\u001b[38;5;241;43m=\u001b[39;49m\u001b[43mmodel\u001b[49m\u001b[43m,\u001b[49m\u001b[43m \u001b[49m\u001b[43mevent_handlers\u001b[49m\u001b[38;5;241;43m=\u001b[39;49m\u001b[43m{\u001b[49m\n\u001b[1;32m     22\u001b[0m \u001b[43m    \u001b[49m\u001b[38;5;124;43m'\u001b[39;49m\u001b[38;5;124;43mon_tool_use\u001b[39;49m\u001b[38;5;124;43m'\u001b[39;49m\u001b[43m:\u001b[49m\u001b[43m \u001b[49m\u001b[43mon_tool_use\u001b[49m\u001b[43m,\u001b[49m\n\u001b[1;32m     23\u001b[0m \u001b[43m    \u001b[49m\u001b[38;5;124;43m'\u001b[39;49m\u001b[38;5;124;43mon_thinking\u001b[39;49m\u001b[38;5;124;43m'\u001b[39;49m\u001b[43m:\u001b[49m\u001b[43m \u001b[49m\u001b[43mon_thinking\u001b[49m\u001b[43m,\u001b[49m\n\u001b[1;32m     24\u001b[0m \u001b[43m    \u001b[49m\u001b[38;5;124;43m'\u001b[39;49m\u001b[38;5;124;43mon_answer\u001b[39;49m\u001b[38;5;124;43m'\u001b[39;49m\u001b[43m:\u001b[49m\u001b[43m \u001b[49m\u001b[43mon_answer\u001b[49m\n\u001b[1;32m     25\u001b[0m \u001b[43m}\u001b[49m\u001b[43m,\u001b[49m\n\u001b[1;32m     26\u001b[0m \u001b[43m \u001b[49m\u001b[43mlog_agentic_response\u001b[49m\u001b[38;5;241;43m=\u001b[39;49m\u001b[38;5;28;43;01mFalse\u001b[39;49;00m\u001b[43m,\u001b[49m\n\u001b[1;32m     27\u001b[0m \u001b[43m \u001b[49m\u001b[43mtools\u001b[49m\u001b[38;5;241;43m=\u001b[39;49m\u001b[43m[\u001b[49m\u001b[43mget_weather\u001b[49m\u001b[43m,\u001b[49m\u001b[43m \u001b[49m\u001b[43mconvert_temperature\u001b[49m\u001b[43m]\u001b[49m\u001b[43m)\u001b[49m\n\u001b[1;32m     29\u001b[0m \u001b[38;5;66;03m# Run the agent\u001b[39;00m\n\u001b[1;32m     30\u001b[0m agent\u001b[38;5;241m.\u001b[39mrun(\u001b[38;5;124m'\u001b[39m\u001b[38;5;124mWhat is the weather in New York, in Celsius?\u001b[39m\u001b[38;5;124m'\u001b[39m);\n",
      "File \u001b[0;32m~/Documents/Repositories/showpad_personal/fence/fence/agents/bedrock/agent.py:185\u001b[0m, in \u001b[0;36mBedrockAgent.__init__\u001b[0;34m(self, identifier, model, description, memory, environment, prefill, log_agentic_response, are_you_serious, tools, delegates, system_message, event_handlers)\u001b[0m\n\u001b[1;32m    182\u001b[0m \u001b[38;5;28mself\u001b[39m\u001b[38;5;241m.\u001b[39mdelegates \u001b[38;5;241m=\u001b[39m delegates \u001b[38;5;129;01mor\u001b[39;00m []\n\u001b[1;32m    184\u001b[0m \u001b[38;5;66;03m# Set event handlers\u001b[39;00m\n\u001b[0;32m--> 185\u001b[0m \u001b[38;5;28;43mself\u001b[39;49m\u001b[38;5;241;43m.\u001b[39;49m\u001b[43m_set_event_handlers\u001b[49m\u001b[43m(\u001b[49m\u001b[43mevent_handlers\u001b[49m\u001b[43m)\u001b[49m\n\u001b[1;32m    187\u001b[0m \u001b[38;5;66;03m# Build and set the system message\u001b[39;00m\n\u001b[1;32m    188\u001b[0m \u001b[38;5;28mself\u001b[39m\u001b[38;5;241m.\u001b[39m_build_system_message()\n",
      "File \u001b[0;32m~/Documents/Repositories/showpad_personal/fence/fence/agents/bedrock/agent.py:283\u001b[0m, in \u001b[0;36mBedrockAgent._set_event_handlers\u001b[0;34m(self, event_handlers)\u001b[0m\n\u001b[1;32m    281\u001b[0m     \u001b[38;5;28;01mexcept\u001b[39;00m \u001b[38;5;167;01mException\u001b[39;00m \u001b[38;5;28;01mas\u001b[39;00m e:\n\u001b[1;32m    282\u001b[0m         logger\u001b[38;5;241m.\u001b[39mwarning(\u001b[38;5;124mf\u001b[39m\u001b[38;5;124m\"\u001b[39m\u001b[38;5;124mError converting dict to EventHandlers: \u001b[39m\u001b[38;5;132;01m{\u001b[39;00me\u001b[38;5;132;01m}\u001b[39;00m\u001b[38;5;124m\"\u001b[39m)\n\u001b[0;32m--> 283\u001b[0m         \u001b[38;5;28;01mraise\u001b[39;00m \u001b[38;5;167;01mValueError\u001b[39;00m(\u001b[38;5;124mf\u001b[39m\u001b[38;5;124m\"\u001b[39m\u001b[38;5;124mInvalid event handlers: \u001b[39m\u001b[38;5;132;01m{\u001b[39;00me\u001b[38;5;132;01m}\u001b[39;00m\u001b[38;5;124m\"\u001b[39m)\n\u001b[1;32m    285\u001b[0m \u001b[38;5;66;03m# Extract non-None handlers\u001b[39;00m\n\u001b[1;32m    286\u001b[0m user_handlers \u001b[38;5;241m=\u001b[39m {\n\u001b[1;32m    287\u001b[0m     event_name: [handler] \u001b[38;5;28;01mif\u001b[39;00m \u001b[38;5;129;01mnot\u001b[39;00m \u001b[38;5;28misinstance\u001b[39m(handler, \u001b[38;5;28mlist\u001b[39m) \u001b[38;5;28;01melse\u001b[39;00m handler\n\u001b[1;32m    288\u001b[0m     \u001b[38;5;28;01mfor\u001b[39;00m event_name, handler \u001b[38;5;129;01min\u001b[39;00m event_handlers\u001b[38;5;241m.\u001b[39mmodel_dump(\n\u001b[1;32m    289\u001b[0m         exclude_none\u001b[38;5;241m=\u001b[39m\u001b[38;5;28;01mTrue\u001b[39;00m\n\u001b[1;32m    290\u001b[0m     )\u001b[38;5;241m.\u001b[39mitems()\n\u001b[1;32m    291\u001b[0m }\n",
      "\u001b[0;31mValueError\u001b[0m: Invalid event handlers: 1 validation error for EventHandlers\non_tool_use\n  Value error, on_tool_use handler must accept parameters {'result', 'parameters', 'tool_name'}.  - Missing parameters: {'parameters'},  - Superfluous parameters: {'params'} [type=value_error, input_value=<function on_tool_use at 0x1169c6f20>, input_type=function]\n    For further information visit https://errors.pydantic.dev/2.10/v/value_error"
     ]
    }
   ],
   "source": [
    "# Create a custom event handler\n",
    "from fence.utils.logger import setup_logging\n",
    "setup_logging()\n",
    "import random\n",
    "\n",
    "def on_tool_use(tool_name, params, result):\n",
    "    \"\"\"Handle tool use events.\"\"\"\n",
    "    print(f\"SENDING TOOL USE TO SLACK: CALLED A TOOL: {tool_name} with {params} -> {result}\")\n",
    "\n",
    "def on_thinking(text):\n",
    "    \"\"\"Handle agent thinking events.\"\"\"\n",
    "    synonyms_for_thinking = [\"thinking\", \"pondering\", \"considering\", \"evaluating\", \"analyzing\", \"reflecting\", \"considering\", \"evaluating\", \"analyzing\", \"reflecting\", \"considering\", \"evaluating\", \"analyzing\", \"reflecting\"]\n",
    "    print(f\"SENDING THINKING TO SLACK: *{random.choice(synonyms_for_thinking)}*\")\n",
    "\n",
    "def on_answer(text):\n",
    "    \"\"\"Handle agent answer events.\"\"\"\n",
    "    print(f\"SENDING ANSWER TO SLACK: {text}\")\n",
    "\n",
    "\n",
    "# Create the agent\n",
    "agent = BedrockAgent(model=model, event_handlers={\n",
    "    'on_tool_use': on_tool_use,\n",
    "    'on_thinking': on_thinking,\n",
    "    'on_answer': on_answer\n",
    "},\n",
    " log_agentic_response=False,\n",
    " tools=[get_weather, convert_temperature])\n",
    "\n",
    "# Run the agent\n",
    "agent.run('What is the weather in New York, in Celsius?');\n"
   ]
  },
  {
   "cell_type": "markdown",
   "metadata": {},
   "source": []
  }
 ],
 "metadata": {
  "kernelspec": {
   "display_name": ".venv",
   "language": "python",
   "name": "python3"
  },
  "language_info": {
   "codemirror_mode": {
    "name": "ipython",
    "version": 3
   },
   "file_extension": ".py",
   "mimetype": "text/x-python",
   "name": "python",
   "nbconvert_exporter": "python",
   "pygments_lexer": "ipython3",
   "version": "3.13.1"
  }
 },
 "nbformat": 4,
 "nbformat_minor": 2
}
