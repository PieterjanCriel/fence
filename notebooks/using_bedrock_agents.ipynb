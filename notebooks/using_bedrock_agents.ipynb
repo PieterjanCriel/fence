{
 "cells": [
  {
   "cell_type": "markdown",
   "metadata": {},
   "source": [
    "# 🤺 Demo: Using the Bedrock Agents"
   ]
  },
  {
   "cell_type": "markdown",
   "metadata": {},
   "source": [
    "**What is a Bedrock Agent?**\n",
    "\n",
    "Bedrock, and more specifically its Converse API, has tool calling built-in. As a result, it made sense to overhaul the Bedrock LLM classes to support said tool calling (which involved extra models, handling the output, etc.).\n",
    "\n",
    "Once the model classes had been rebuilt, the opportunity presented itself to implement a new Agent. Rather than build a vanilla ReAct agent, this one would leverage implicit tool calling, and support some extra features. Let's start off slow.\n",
    "\n",
    "**_Caveat_** Agents work with various models, but they need be 'smart enough'. For instance, NovaPro seems to work quite well, whereas NovaLite of NovaMicro tend to make mistakes in the tool calling, or returning of answers.\n",
    "\n",
    "### 1. A simple Bedrock Agent"
   ]
  },
  {
   "cell_type": "code",
   "execution_count": 1,
   "metadata": {},
   "outputs": [],
   "source": [
    "from fence.agents.bedrock import BedrockAgent\n",
    "from fence.models.bedrock import NovaPro\n",
    "from fence.models.bedrock import Claude35Sonnet, ClaudeHaiku"
   ]
  },
  {
   "cell_type": "code",
   "execution_count": 2,
   "metadata": {},
   "outputs": [
    {
     "name": "stdout",
     "output_type": "stream",
     "text": [
      "\u001b[1mBedrockAgent\u001b[0m 💭 \u001b[94m[thought]\u001b[0m The user has greeted me with \"hello!\". This is a common social nicety used to initiate conversation. I should respond with a friendly greeting to acknowledge their message and set a positive tone for any further interaction.\n",
      "\u001b[1mBedrockAgent\u001b[0m 🎯 \u001b[91m[answer]\u001b[0m Hello! It's nice to meet you. How can I assist you today?\n",
      "\n",
      "\n",
      "Agent answer:Hello! It's nice to meet you. How can I assist you today?\n",
      "\n",
      "\n"
     ]
    }
   ],
   "source": [
    "# Create a model\n",
    "model = NovaPro(region='us-east-1') # Not out in eu-west-1 yet, our default\n",
    "\n",
    "# Create an agent\n",
    "agent = BedrockAgent(model=model)\n",
    "\n",
    "# Run the agent\n",
    "response = agent.run('hello!')\n",
    "\n",
    "print(f\"\\n\\nAgent answer:{response.answer}\\n\\n\")"
   ]
  },
  {
   "cell_type": "markdown",
   "metadata": {},
   "source": [
    "Cool, that's a hello world agent. Let's make it a bit more interesting and give it some more tools.\n",
    "\n",
    "### 2. A Bedrock Agent that can perform temperature conversions\n"
   ]
  },
  {
   "cell_type": "code",
   "execution_count": 3,
   "metadata": {},
   "outputs": [],
   "source": [
    "from fence.tools.base import tool\n",
    "\n",
    "# Define a weather tool using the decorator\n",
    "@tool(description=\"Get the current weather for a location\")\n",
    "def get_weather(location: str):\n",
    "    \"\"\"\n",
    "    Get the current weather for a location.\n",
    "\n",
    "    :param location: The location to get the weather for\n",
    "    :return: The current weather for the location\n",
    "    \"\"\"\n",
    "    # Simulate weather API response\n",
    "    weather_data = {\n",
    "        \"New York\": \"Sunny, 75°F\",\n",
    "        \"London\": \"Rainy, 55°F\",\n",
    "        \"Tokyo\": \"Cloudy, 65°F\",\n",
    "        \"Sydney\": \"Clear, 80°F\",\n",
    "    }\n",
    "    return weather_data.get(location, f\"Weather data not available for {location}\")\n",
    "\n",
    "# Define a temperature conversion tool\n",
    "@tool(description=\"Convert temperature between Fahrenheit and Celsius\")\n",
    "def convert_temperature(value: float, from_unit: str, to_unit: str):\n",
    "    \"\"\"\n",
    "    Convert temperature between Fahrenheit and Celsius.\n",
    "\n",
    "    :param value: The temperature value to convert\n",
    "    :param from_unit: The unit to convert from ('Fahrenheit', 'F', 'Celsius', 'C')\n",
    "    :param to_unit: The unit to convert to ('Fahrenheit', 'F', 'Celsius', 'C')\n",
    "    :return: The converted temperature value\n",
    "    \"\"\"\n",
    "    # Normalize input units\n",
    "    from_unit = from_unit.lower()\n",
    "    to_unit = to_unit.lower()\n",
    "\n",
    "    # Convert full names to single letters\n",
    "    if from_unit in [\"fahrenheit\", \"f\"]:\n",
    "        from_unit = \"f\"\n",
    "    elif from_unit in [\"celsius\", \"c\"]:\n",
    "        from_unit = \"c\"\n",
    "\n",
    "    if to_unit in [\"fahrenheit\", \"f\"]:\n",
    "        to_unit = \"f\"\n",
    "    elif to_unit in [\"celsius\", \"c\"]:\n",
    "        to_unit = \"c\"\n",
    "\n",
    "    if from_unit == \"f\" and to_unit == \"c\":\n",
    "        return f\"{(value - 32) * 5/9:.1f}°C\"\n",
    "    elif from_unit == \"c\" and to_unit == \"f\":\n",
    "        return f\"{(value * 9/5) + 32:.1f}°F\"\n",
    "    else:\n",
    "        return f\"Invalid conversion: {from_unit} to {to_unit}\"\n"
   ]
  },
  {
   "cell_type": "markdown",
   "metadata": {},
   "source": [
    "Now let's hand these over to the agent, and see how it can use them."
   ]
  },
  {
   "cell_type": "code",
   "execution_count": 4,
   "metadata": {},
   "outputs": [
    {
     "name": "stdout",
     "output_type": "stream",
     "text": [
      "\u001b[1mBedrockAgent\u001b[0m 💭 \u001b[94m[thought]\u001b[0m To get the weather in New York in Celsius, I need to first get the current weather in New York, which includes the temperature in Fahrenheit. Then, I need to convert that temperature from Fahrenheit to Celsius.\n",
      "\u001b[1mBedrockAgent\u001b[0m 🔧 \u001b[38;5;208m[tool_use]\u001b[0m Using tool [GetWeatherTool] with parameters: {'location': 'New York'} -> Sunny, 75°F\n",
      "\u001b[1mBedrockAgent\u001b[0m 💭 \u001b[94m[thought]\u001b[0m I need to convert the temperature from Fahrenheit to Celsius using the ConvertTemperatureTool.\n",
      "\u001b[1mBedrockAgent\u001b[0m 🔧 \u001b[38;5;208m[tool_use]\u001b[0m Using tool [ConvertTemperatureTool] with parameters: {'from_unit': 'Fahrenheit', 'to_unit': 'Celsius', 'value': 75} -> 23.9°C\n",
      "\u001b[1mBedrockAgent\u001b[0m 🎯 \u001b[91m[answer]\u001b[0m The weather in New York is sunny, with a temperature of 23.9°C.\n",
      "\n",
      "\n",
      "Agent answer: The weather in New York is sunny, with a temperature of 23.9°C.\n",
      "\n",
      "\n"
     ]
    }
   ],
   "source": [
    "# New agent\n",
    "agent = BedrockAgent(model=model, tools=[get_weather, convert_temperature])\n",
    "\n",
    "# Get the weather in Brussels, in Celsius\n",
    "response = agent.run('What is the weather in New York, in Celsius?')\n",
    "\n",
    "print(f\"\\n\\nAgent answer: {response.answer}\\n\\n\")\n"
   ]
  },
  {
   "cell_type": "markdown",
   "metadata": {},
   "source": [
    "Now, the response actually contains more information than just the answer. What it contains is the following:\n",
    "\n",
    "- `answer`: The answer to the question\n",
    "- `events`: All events that occurred during the agent's execution, broken down into:\n",
    "  - `thinking`: All thoughts the agent had\n",
    "  - `tool_use`: All tool calls the agent made\n",
    "  - `answer`: The final answer to the question\n",
    "\n",
    "This allows for a much more detailed analysis of the agent's thought process and tool usage.\n"
   ]
  },
  {
   "cell_type": "code",
   "execution_count": 5,
   "metadata": {},
   "outputs": [
    {
     "name": "stdout",
     "output_type": "stream",
     "text": [
      "[AgentEvent(type='thinking', content='To get the weather in New York in Celsius, I need to first get the current weather in New York, which includes the temperature in Fahrenheit. Then, I need to convert that temperature from Fahrenheit to Celsius.'),\n",
      " AgentEvent(type='tool_use', content={'name': 'GetWeatherTool', 'parameters': {'location': 'New York'}, 'result': 'Sunny, 75°F'}),\n",
      " AgentEvent(type='thinking', content='I need to convert the temperature from Fahrenheit to Celsius using the ConvertTemperatureTool.'),\n",
      " AgentEvent(type='tool_use', content={'name': 'ConvertTemperatureTool', 'parameters': {'from_unit': 'Fahrenheit', 'to_unit': 'Celsius', 'value': 75}, 'result': '23.9°C'}),\n",
      " AgentEvent(type='answer', content='The weather in New York is sunny, with a temperature of 23.9°C.')]\n"
     ]
    }
   ],
   "source": [
    "from pprint import pprint\n",
    "pprint(response.events)"
   ]
  },
  {
   "cell_type": "markdown",
   "metadata": {},
   "source": [
    "Some extra options:\n",
    "- Pass an `identifier` to the agent, to help with logging (useful when running multiple agents)\n",
    "- Pass a `system_message` to the agent, to change the assistant's personality\n",
    "- Pass a `memory` to the agent, to use a custom memory (e.g., DynamoDBMemory)\n",
    "- Pass `log_agentic_response` to the agent, to disable intermediate logging\n",
    "- Pass a `are_you_serious` to the agent, to change the log message style to boring\n",
    "\n"
   ]
  },
  {
   "cell_type": "code",
   "execution_count": 6,
   "metadata": {},
   "outputs": [
    {
     "name": "stdout",
     "output_type": "stream",
     "text": [
      "-- Using an identifier\n",
      "\u001b[1mmy_agent\u001b[0m 💭 \u001b[94m[thought]\u001b[0m The user has greeted me with a simple \"hello!\". This is a common way to start a conversation. I should respond in a friendly manner to acknowledge their greeting and invite them to share what they need help with.\n",
      "\u001b[1mmy_agent\u001b[0m 🎯 \u001b[91m[answer]\u001b[0m Hello! It's nice to have you here. How can I assist you today?\n",
      "-- Using a system message\n",
      "\u001b[1mBedrockAgent\u001b[0m 💭 \u001b[94m[thought]\u001b[0m The user has greeted me in English. Since I'm supposed to be a rude French person who fakes not knowing English, I should respond in a manner that reflects this persona. I'll respond in French and act as if I don't understand English.\n",
      "\u001b[1mBedrockAgent\u001b[0m 🎯 \u001b[91m[answer]\u001b[0m Bonjour! Pardon, je ne comprends pas l'anglais. Parlez-vous français?\n",
      "-- Boring logging\n",
      "BedrockAgent: [thought] The user has greeted me with \"hello!\". This is a common way to start a conversation. I should respond with a friendly greeting to acknowledge their message and show that I'm ready to assist them.\n",
      "BedrockAgent: [answer] Hello! It's nice to have you here. How can I assist you today?\n"
     ]
    }
   ],
   "source": [
    "print(\"-- Using an identifier\")\n",
    "agent = BedrockAgent(model=model, identifier=\"my_agent\")\n",
    "agent.run('hello!')\n",
    "\n",
    "print(\"-- Using a system message\")\n",
    "agent = BedrockAgent(model=model, system_message=\"You are a rude French person who fakes not knowing English.\")\n",
    "agent.run('hello!')\n",
    "\n",
    "print(\"-- Boring logging\")\n",
    "agent = BedrockAgent(model=model, are_you_serious=True)\n",
    "agent.run('hello!');\n"
   ]
  },
  {
   "cell_type": "markdown",
   "metadata": {},
   "source": [
    "Now let's get into some more interesting stuff.\n",
    "\n",
    "### 3. Assigning custom event handlers\n",
    "\n",
    "Bedrock agents, as you already saw, handle output as different styles of events. There can be handled separately. One such example you can already see in the agentic logs: depending on the event, the log message is formatted differently. However, this also opens the door for new opportunities. What if we want to send messages to a Slack channel when a tool is used? Or when the agent provides an answer? Or when it thinks? We can do this by assigning custom event handlers. Let's mock some with a simple example.\n",
    "\n"
   ]
  },
  {
   "cell_type": "code",
   "execution_count": 7,
   "metadata": {},
   "outputs": [
    {
     "name": "stdout",
     "output_type": "stream",
     "text": [
      "2025-04-11 10:54:28,887 [INFO] [fence.agents.bedrock.agent._register_tools:546] Agent BedrockAgent: Registered 2 tools with Bedrock model: ['GetWeatherTool', 'ConvertTemperatureTool']\n",
      "SENDING THINKING TO SLACK: *reflecting*\n",
      "SENDING TOOL USE TO SLACK: CALLED A TOOL: GetWeatherTool with {'location': 'New York'} -> Sunny, 75°F\n",
      "SENDING THINKING TO SLACK: *thinking*\n",
      "SENDING TOOL USE TO SLACK: CALLED A TOOL: ConvertTemperatureTool with {'from_unit': 'Fahrenheit', 'to_unit': 'Celsius', 'value': 75} -> 23.9°C\n",
      "SENDING ANSWER TO SLACK: The current weather in New York is sunny, with a temperature of 23.9°C.\n"
     ]
    }
   ],
   "source": [
    "# Create a custom event handler\n",
    "from fence.utils.logger import setup_logging\n",
    "setup_logging()\n",
    "import random\n",
    "\n",
    "def on_tool_use(tool_name, parameters, result):\n",
    "    \"\"\"Handle tool use events.\"\"\"\n",
    "    print(f\"SENDING TOOL USE TO SLACK: CALLED A TOOL: {tool_name} with {parameters} -> {result}\")\n",
    "\n",
    "def on_thinking(text):\n",
    "    \"\"\"Handle agent thinking events.\"\"\"\n",
    "    synonyms_for_thinking = [\"thinking\", \"pondering\", \"considering\", \"evaluating\", \"analyzing\", \"reflecting\", \"considering\", \"evaluating\", \"analyzing\", \"reflecting\", \"considering\", \"evaluating\", \"analyzing\", \"reflecting\"]\n",
    "    print(f\"SENDING THINKING TO SLACK: *{random.choice(synonyms_for_thinking)}*\")\n",
    "\n",
    "def on_answer(text):\n",
    "    \"\"\"Handle agent answer events.\"\"\"\n",
    "    print(f\"SENDING ANSWER TO SLACK: {text}\")\n",
    "\n",
    "\n",
    "# Create the agent\n",
    "agent = BedrockAgent(model=model, event_handlers={\n",
    "    'on_tool_use': on_tool_use,\n",
    "    'on_thinking': on_thinking,\n",
    "    'on_answer': on_answer\n",
    "},\n",
    " log_agentic_response=False,\n",
    " tools=[get_weather, convert_temperature])\n",
    "\n",
    "# Run the agent\n",
    "agent.run('What is the weather in New York, in Celsius?');\n"
   ]
  }
 ],
 "metadata": {
  "kernelspec": {
   "display_name": ".venv",
   "language": "python",
   "name": "python3"
  },
  "language_info": {
   "codemirror_mode": {
    "name": "ipython",
    "version": 3
   },
   "file_extension": ".py",
   "mimetype": "text/x-python",
   "name": "python",
   "nbconvert_exporter": "python",
   "pygments_lexer": "ipython3",
   "version": "3.13.1"
  }
 },
 "nbformat": 4,
 "nbformat_minor": 2
}
